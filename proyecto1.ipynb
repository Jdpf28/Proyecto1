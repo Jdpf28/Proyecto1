{
  "cells": [
    {
      "cell_type": "markdown",
      "metadata": {
        "id": "zJtX8lNuI-0W"
      },
      "source": [
        "Brayan Estiven Salcedo Suarez 202022731"
      ]
    },
    {
      "cell_type": "markdown",
      "metadata": {
        "id": "bCGbWWFQH_3v"
      },
      "source": [
        "En la era digital, la desinformación se ha convertido en un problema crítico, ya que la difusión de noticias falsas puede influir en la opinión pública, generar confusión y afectar la toma de decisiones. Para abordar este desafío, este trabajo propone la implementación de un sistema basado en aprendizaje automático para la detección automática de noticias falsas.  \n",
        "\n",
        "El objetivo principal es desarrollar un modelo que, a partir del análisis de noticias previas, pueda predecir si una nueva noticia es confiable o no. Para ello, se aplicarán técnicas de **procesamiento de lenguaje natural (NLP)** y algoritmos de **aprendizaje supervisado** que permitirán identificar patrones lingüísticos, semánticos y estructurales en los textos.  \n",
        "\n",
        "Este estudio no solo busca mejorar la precisión en la detección de noticias falsas, sino también proporcionar una herramienta útil para medios de comunicación, verificadores de información y usuarios en general, ayudando a combatir la desinformación en entornos digitales.\n",
        "\n",
        "## **Descripción del Dataset**  \n",
        "\n",
        "El dataset utilizado en este trabajo fue entregado por bloque neon y contiene una recopilación de noticias etiquetadas como verdaderas o falsas. Su estructura está diseñada para capturar información clave sobre cada noticia, permitiendo el análisis de su contenido y la identificación de patrones que diferencien noticias reales de noticias falsas.  \n",
        "\n",
        "Las principales columnas del dataset son:  \n",
        "\n",
        "- **ID**: Un identificador único para cada noticia en el dataset.  \n",
        "- **Label**: Indica si la noticia es real (`1`) o falsa (`0`), lo que servirá como referencia para entrenar el modelo de detección.  \n",
        "- **Título**: El encabezado de la noticia, que usualmente resume su contenido en pocas palabras.  \n",
        "- **Descripción**: Un resumen breve de la noticia que proporciona más contexto sobre el título.  \n",
        "- **Fecha**: La fecha en que la noticia fue publicada, lo que permite analizar tendencias a lo largo del tiempo.  \n",
        "\n",
        "Ejemplo de registros en el dataset:  \n",
        "\n",
        "| ID  | Label | Título | Descripción | Fecha |\n",
        "|-----|-------|------------------------------------------------|------------------------------------------------------------------------------------------------|------------|\n",
        "| 1   | 1     | 'The Guardian' va con Sánchez: 'Europa necesita que su apuesta dé sus frutos' | El diario británico publicó un editorial sobre las elecciones del 23J, calificando de valiente el adelanto electoral y alertando sobre los riesgos de la ultraderecha. | 02/06/2023 |\n",
        "| 2   | 0     | REVELAN QUE EL GOBIERNO NEGOCIÓ LA LIBERACIÓN DE MIRELES A CAMBIO DE OTORGARLE EL PERDÓN A JAVIER DUARTE | Supuestas negociaciones entre el gobierno y Javier Duarte en el marco de la liberación de José Manuel Mireles. | N/A |\n",
        "\n",
        "\n",
        "\n",
        "\n"
      ]
    },
    {
      "cell_type": "markdown",
      "metadata": {
        "id": "O1Jq1fAI8bPP"
      },
      "source": [
        "## instalación de librerias"
      ]
    },
    {
      "cell_type": "code",
      "execution_count": 54,
      "metadata": {
        "colab": {
          "base_uri": "https://localhost:8080/"
        },
        "id": "G3jU0P038bPS",
        "outputId": "92018b74-da08-4c40-e508-b064c1fe4642"
      },
      "outputs": [
        {
          "name": "stdout",
          "output_type": "stream",
          "text": [
            "Requirement already satisfied: nltk in c:\\users\\danie\\appdata\\local\\programs\\python\\python312\\lib\\site-packages (3.9.1)"
          ]
        },
        {
          "name": "stderr",
          "output_type": "stream",
          "text": [
            "\n",
            "[notice] A new release of pip is available: 24.3.1 -> 25.0.1\n",
            "[notice] To update, run: python.exe -m pip install --upgrade pip\n"
          ]
        },
        {
          "name": "stdout",
          "output_type": "stream",
          "text": [
            "\n",
            "Requirement already satisfied: click in c:\\users\\danie\\appdata\\local\\programs\\python\\python312\\lib\\site-packages (from nltk) (8.1.8)\n",
            "Requirement already satisfied: joblib in c:\\users\\danie\\appdata\\local\\programs\\python\\python312\\lib\\site-packages (from nltk) (1.1.1)\n",
            "Requirement already satisfied: regex>=2021.8.3 in c:\\users\\danie\\appdata\\local\\programs\\python\\python312\\lib\\site-packages (from nltk) (2024.11.6)\n",
            "Requirement already satisfied: tqdm in c:\\users\\danie\\appdata\\local\\programs\\python\\python312\\lib\\site-packages (from nltk) (4.67.1)\n",
            "Requirement already satisfied: colorama in c:\\users\\danie\\appdata\\local\\programs\\python\\python312\\lib\\site-packages (from click->nltk) (0.4.6)\n",
            "Requirement already satisfied: contractions in c:\\users\\danie\\appdata\\local\\programs\\python\\python312\\lib\\site-packages (0.1.73)\n",
            "Requirement already satisfied: textsearch>=0.0.21 in c:\\users\\danie\\appdata\\local\\programs\\python\\python312\\lib\\site-packages (from contractions) (0.0.24)\n",
            "Requirement already satisfied: anyascii in c:\\users\\danie\\appdata\\local\\programs\\python\\python312\\lib\\site-packages (from textsearch>=0.0.21->contractions) (0.3.2)\n",
            "Requirement already satisfied: pyahocorasick in c:\\users\\danie\\appdata\\local\\programs\\python\\python312\\lib\\site-packages (from textsearch>=0.0.21->contractions) (2.1.0)\n"
          ]
        },
        {
          "name": "stderr",
          "output_type": "stream",
          "text": [
            "\n",
            "[notice] A new release of pip is available: 24.3.1 -> 25.0.1\n",
            "[notice] To update, run: python.exe -m pip install --upgrade pip\n"
          ]
        },
        {
          "name": "stdout",
          "output_type": "stream",
          "text": [
            "Requirement already satisfied: inflect in c:\\users\\danie\\appdata\\local\\programs\\python\\python312\\lib\\site-packages (7.5.0)\n",
            "Requirement already satisfied: more_itertools>=8.5.0 in c:\\users\\danie\\appdata\\local\\programs\\python\\python312\\lib\\site-packages (from inflect) (10.6.0)\n",
            "Requirement already satisfied: typeguard>=4.0.1 in c:\\users\\danie\\appdata\\local\\programs\\python\\python312\\lib\\site-packages (from inflect) (4.4.2)\n",
            "Requirement already satisfied: typing_extensions>=4.10.0 in c:\\users\\danie\\appdata\\local\\programs\\python\\python312\\lib\\site-packages (from typeguard>=4.0.1->inflect) (4.12.2)\n"
          ]
        },
        {
          "name": "stderr",
          "output_type": "stream",
          "text": [
            "\n",
            "[notice] A new release of pip is available: 24.3.1 -> 25.0.1\n",
            "[notice] To update, run: python.exe -m pip install --upgrade pip\n"
          ]
        },
        {
          "name": "stdout",
          "output_type": "stream",
          "text": [
            "Requirement already satisfied: scikit-plot in c:\\users\\danie\\appdata\\local\\programs\\python\\python312\\lib\\site-packages (0.3.7)\n",
            "Requirement already satisfied: matplotlib>=1.4.0 in c:\\users\\danie\\appdata\\local\\programs\\python\\python312\\lib\\site-packages (from scikit-plot) (3.10.0)\n",
            "Requirement already satisfied: scikit-learn>=0.18 in c:\\users\\danie\\appdata\\local\\programs\\python\\python312\\lib\\site-packages (from scikit-plot) (1.6.1)\n",
            "Requirement already satisfied: scipy>=0.9 in c:\\users\\danie\\appdata\\local\\programs\\python\\python312\\lib\\site-packages (from scikit-plot) (1.15.1)\n",
            "Requirement already satisfied: joblib>=0.10 in c:\\users\\danie\\appdata\\local\\programs\\python\\python312\\lib\\site-packages (from scikit-plot) (1.1.1)\n",
            "Requirement already satisfied: contourpy>=1.0.1 in c:\\users\\danie\\appdata\\local\\programs\\python\\python312\\lib\\site-packages (from matplotlib>=1.4.0->scikit-plot) (1.3.1)\n",
            "Requirement already satisfied: cycler>=0.10 in c:\\users\\danie\\appdata\\local\\programs\\python\\python312\\lib\\site-packages (from matplotlib>=1.4.0->scikit-plot) (0.12.1)\n",
            "Requirement already satisfied: fonttools>=4.22.0 in c:\\users\\danie\\appdata\\local\\programs\\python\\python312\\lib\\site-packages (from matplotlib>=1.4.0->scikit-plot) (4.56.0)\n",
            "Requirement already satisfied: kiwisolver>=1.3.1 in c:\\users\\danie\\appdata\\local\\programs\\python\\python312\\lib\\site-packages (from matplotlib>=1.4.0->scikit-plot) (1.4.8)\n",
            "Requirement already satisfied: numpy>=1.23 in c:\\users\\danie\\appdata\\local\\programs\\python\\python312\\lib\\site-packages (from matplotlib>=1.4.0->scikit-plot) (2.2.2)\n",
            "Requirement already satisfied: packaging>=20.0 in c:\\users\\danie\\appdata\\local\\programs\\python\\python312\\lib\\site-packages (from matplotlib>=1.4.0->scikit-plot) (24.1)\n",
            "Requirement already satisfied: pillow>=8 in c:\\users\\danie\\appdata\\local\\programs\\python\\python312\\lib\\site-packages (from matplotlib>=1.4.0->scikit-plot) (11.1.0)\n",
            "Requirement already satisfied: pyparsing>=2.3.1 in c:\\users\\danie\\appdata\\local\\programs\\python\\python312\\lib\\site-packages (from matplotlib>=1.4.0->scikit-plot) (3.2.1)\n",
            "Requirement already satisfied: python-dateutil>=2.7 in c:\\users\\danie\\appdata\\local\\programs\\python\\python312\\lib\\site-packages (from matplotlib>=1.4.0->scikit-plot) (2.9.0.post0)\n",
            "Collecting joblib>=0.10 (from scikit-plot)\n",
            "  Using cached joblib-1.4.2-py3-none-any.whl.metadata (5.4 kB)\n",
            "Requirement already satisfied: threadpoolctl>=3.1.0 in c:\\users\\danie\\appdata\\local\\programs\\python\\python312\\lib\\site-packages (from scikit-learn>=0.18->scikit-plot) (3.5.0)\n",
            "Requirement already satisfied: six>=1.5 in c:\\users\\danie\\appdata\\local\\programs\\python\\python312\\lib\\site-packages (from python-dateutil>=2.7->matplotlib>=1.4.0->scikit-plot) (1.17.0)\n",
            "Using cached joblib-1.4.2-py3-none-any.whl (301 kB)\n",
            "Installing collected packages: joblib\n",
            "  Attempting uninstall: joblib\n",
            "    Found existing installation: joblib 1.1.1\n",
            "    Uninstalling joblib-1.1.1:\n",
            "      Successfully uninstalled joblib-1.1.1\n",
            "Successfully installed joblib-1.4.2\n"
          ]
        },
        {
          "name": "stderr",
          "output_type": "stream",
          "text": [
            "ERROR: pip's dependency resolver does not currently take into account all the packages that are installed. This behaviour is the source of the following dependency conflicts.\n",
            "pandas-profiling 3.2.0 requires joblib~=1.1.0, but you have joblib 1.4.2 which is incompatible.\n",
            "\n",
            "[notice] A new release of pip is available: 24.3.1 -> 25.0.1\n",
            "[notice] To update, run: python.exe -m pip install --upgrade pip\n"
          ]
        },
        {
          "name": "stdout",
          "output_type": "stream",
          "text": [
            "Requirement already satisfied: spacy in c:\\users\\danie\\appdata\\local\\programs\\python\\python312\\lib\\site-packages (3.8.4)"
          ]
        },
        {
          "name": "stderr",
          "output_type": "stream",
          "text": [
            "\n",
            "[notice] A new release of pip is available: 24.3.1 -> 25.0.1\n",
            "[notice] To update, run: python.exe -m pip install --upgrade pip\n"
          ]
        },
        {
          "name": "stdout",
          "output_type": "stream",
          "text": [
            "\n",
            "Requirement already satisfied: spacy-legacy<3.1.0,>=3.0.11 in c:\\users\\danie\\appdata\\local\\programs\\python\\python312\\lib\\site-packages (from spacy) (3.0.12)\n",
            "Requirement already satisfied: spacy-loggers<2.0.0,>=1.0.0 in c:\\users\\danie\\appdata\\local\\programs\\python\\python312\\lib\\site-packages (from spacy) (1.0.5)\n",
            "Requirement already satisfied: murmurhash<1.1.0,>=0.28.0 in c:\\users\\danie\\appdata\\local\\programs\\python\\python312\\lib\\site-packages (from spacy) (1.0.12)\n",
            "Requirement already satisfied: cymem<2.1.0,>=2.0.2 in c:\\users\\danie\\appdata\\local\\programs\\python\\python312\\lib\\site-packages (from spacy) (2.0.11)\n",
            "Requirement already satisfied: preshed<3.1.0,>=3.0.2 in c:\\users\\danie\\appdata\\local\\programs\\python\\python312\\lib\\site-packages (from spacy) (3.0.9)\n",
            "Requirement already satisfied: thinc<8.4.0,>=8.3.4 in c:\\users\\danie\\appdata\\local\\programs\\python\\python312\\lib\\site-packages (from spacy) (8.3.4)\n",
            "Requirement already satisfied: wasabi<1.2.0,>=0.9.1 in c:\\users\\danie\\appdata\\local\\programs\\python\\python312\\lib\\site-packages (from spacy) (1.1.3)\n",
            "Requirement already satisfied: srsly<3.0.0,>=2.4.3 in c:\\users\\danie\\appdata\\local\\programs\\python\\python312\\lib\\site-packages (from spacy) (2.5.1)\n",
            "Requirement already satisfied: catalogue<2.1.0,>=2.0.6 in c:\\users\\danie\\appdata\\local\\programs\\python\\python312\\lib\\site-packages (from spacy) (2.0.10)\n",
            "Requirement already satisfied: weasel<0.5.0,>=0.1.0 in c:\\users\\danie\\appdata\\local\\programs\\python\\python312\\lib\\site-packages (from spacy) (0.4.1)\n",
            "Requirement already satisfied: typer<1.0.0,>=0.3.0 in c:\\users\\danie\\appdata\\local\\programs\\python\\python312\\lib\\site-packages (from spacy) (0.15.1)\n",
            "Requirement already satisfied: tqdm<5.0.0,>=4.38.0 in c:\\users\\danie\\appdata\\local\\programs\\python\\python312\\lib\\site-packages (from spacy) (4.67.1)\n",
            "Requirement already satisfied: numpy>=1.19.0 in c:\\users\\danie\\appdata\\local\\programs\\python\\python312\\lib\\site-packages (from spacy) (2.2.2)\n",
            "Requirement already satisfied: requests<3.0.0,>=2.13.0 in c:\\users\\danie\\appdata\\local\\programs\\python\\python312\\lib\\site-packages (from spacy) (2.32.3)\n",
            "Requirement already satisfied: pydantic!=1.8,!=1.8.1,<3.0.0,>=1.7.4 in c:\\users\\danie\\appdata\\local\\programs\\python\\python312\\lib\\site-packages (from spacy) (2.10.6)\n",
            "Requirement already satisfied: jinja2 in c:\\users\\danie\\appdata\\local\\programs\\python\\python312\\lib\\site-packages (from spacy) (3.1.5)\n",
            "Requirement already satisfied: setuptools in c:\\users\\danie\\appdata\\local\\programs\\python\\python312\\lib\\site-packages (from spacy) (75.6.0)\n",
            "Requirement already satisfied: packaging>=20.0 in c:\\users\\danie\\appdata\\local\\programs\\python\\python312\\lib\\site-packages (from spacy) (24.1)\n",
            "Requirement already satisfied: langcodes<4.0.0,>=3.2.0 in c:\\users\\danie\\appdata\\local\\programs\\python\\python312\\lib\\site-packages (from spacy) (3.5.0)\n",
            "Requirement already satisfied: language-data>=1.2 in c:\\users\\danie\\appdata\\local\\programs\\python\\python312\\lib\\site-packages (from langcodes<4.0.0,>=3.2.0->spacy) (1.3.0)\n",
            "Requirement already satisfied: annotated-types>=0.6.0 in c:\\users\\danie\\appdata\\local\\programs\\python\\python312\\lib\\site-packages (from pydantic!=1.8,!=1.8.1,<3.0.0,>=1.7.4->spacy) (0.7.0)\n",
            "Requirement already satisfied: pydantic-core==2.27.2 in c:\\users\\danie\\appdata\\local\\programs\\python\\python312\\lib\\site-packages (from pydantic!=1.8,!=1.8.1,<3.0.0,>=1.7.4->spacy) (2.27.2)\n",
            "Requirement already satisfied: typing-extensions>=4.12.2 in c:\\users\\danie\\appdata\\local\\programs\\python\\python312\\lib\\site-packages (from pydantic!=1.8,!=1.8.1,<3.0.0,>=1.7.4->spacy) (4.12.2)\n",
            "Requirement already satisfied: charset-normalizer<4,>=2 in c:\\users\\danie\\appdata\\local\\programs\\python\\python312\\lib\\site-packages (from requests<3.0.0,>=2.13.0->spacy) (3.4.0)\n",
            "Requirement already satisfied: idna<4,>=2.5 in c:\\users\\danie\\appdata\\local\\programs\\python\\python312\\lib\\site-packages (from requests<3.0.0,>=2.13.0->spacy) (3.10)\n",
            "Requirement already satisfied: urllib3<3,>=1.21.1 in c:\\users\\danie\\appdata\\local\\programs\\python\\python312\\lib\\site-packages (from requests<3.0.0,>=2.13.0->spacy) (1.26.20)\n",
            "Requirement already satisfied: certifi>=2017.4.17 in c:\\users\\danie\\appdata\\local\\programs\\python\\python312\\lib\\site-packages (from requests<3.0.0,>=2.13.0->spacy) (2024.8.30)\n",
            "Requirement already satisfied: blis<1.3.0,>=1.2.0 in c:\\users\\danie\\appdata\\local\\programs\\python\\python312\\lib\\site-packages (from thinc<8.4.0,>=8.3.4->spacy) (1.2.0)\n",
            "Requirement already satisfied: confection<1.0.0,>=0.0.1 in c:\\users\\danie\\appdata\\local\\programs\\python\\python312\\lib\\site-packages (from thinc<8.4.0,>=8.3.4->spacy) (0.1.5)\n",
            "Requirement already satisfied: colorama in c:\\users\\danie\\appdata\\local\\programs\\python\\python312\\lib\\site-packages (from tqdm<5.0.0,>=4.38.0->spacy) (0.4.6)\n",
            "Requirement already satisfied: click>=8.0.0 in c:\\users\\danie\\appdata\\local\\programs\\python\\python312\\lib\\site-packages (from typer<1.0.0,>=0.3.0->spacy) (8.1.8)\n",
            "Requirement already satisfied: shellingham>=1.3.0 in c:\\users\\danie\\appdata\\local\\programs\\python\\python312\\lib\\site-packages (from typer<1.0.0,>=0.3.0->spacy) (1.5.4)\n",
            "Requirement already satisfied: rich>=10.11.0 in c:\\users\\danie\\appdata\\local\\programs\\python\\python312\\lib\\site-packages (from typer<1.0.0,>=0.3.0->spacy) (13.9.4)\n",
            "Requirement already satisfied: cloudpathlib<1.0.0,>=0.7.0 in c:\\users\\danie\\appdata\\local\\programs\\python\\python312\\lib\\site-packages (from weasel<0.5.0,>=0.1.0->spacy) (0.20.0)\n",
            "Requirement already satisfied: smart-open<8.0.0,>=5.2.1 in c:\\users\\danie\\appdata\\local\\programs\\python\\python312\\lib\\site-packages (from weasel<0.5.0,>=0.1.0->spacy) (7.1.0)\n",
            "Requirement already satisfied: MarkupSafe>=2.0 in c:\\users\\danie\\appdata\\local\\programs\\python\\python312\\lib\\site-packages (from jinja2->spacy) (2.1.5)\n",
            "Requirement already satisfied: marisa-trie>=1.1.0 in c:\\users\\danie\\appdata\\local\\programs\\python\\python312\\lib\\site-packages (from language-data>=1.2->langcodes<4.0.0,>=3.2.0->spacy) (1.2.1)\n",
            "Requirement already satisfied: markdown-it-py>=2.2.0 in c:\\users\\danie\\appdata\\local\\programs\\python\\python312\\lib\\site-packages (from rich>=10.11.0->typer<1.0.0,>=0.3.0->spacy) (3.0.0)\n",
            "Requirement already satisfied: pygments<3.0.0,>=2.13.0 in c:\\users\\danie\\appdata\\roaming\\python\\python312\\site-packages (from rich>=10.11.0->typer<1.0.0,>=0.3.0->spacy) (2.19.1)\n",
            "Requirement already satisfied: wrapt in c:\\users\\danie\\appdata\\local\\programs\\python\\python312\\lib\\site-packages (from smart-open<8.0.0,>=5.2.1->weasel<0.5.0,>=0.1.0->spacy) (1.17.2)\n",
            "Requirement already satisfied: mdurl~=0.1 in c:\\users\\danie\\appdata\\local\\programs\\python\\python312\\lib\\site-packages (from markdown-it-py>=2.2.0->rich>=10.11.0->typer<1.0.0,>=0.3.0->spacy) (0.1.2)\n",
            "Requirement already satisfied: stanza in c:\\users\\danie\\appdata\\local\\programs\\python\\python312\\lib\\site-packages (1.10.1)\n",
            "Requirement already satisfied: emoji in c:\\users\\danie\\appdata\\local\\programs\\python\\python312\\lib\\site-packages (from stanza) (2.14.1)\n",
            "Requirement already satisfied: numpy in c:\\users\\danie\\appdata\\local\\programs\\python\\python312\\lib\\site-packages (from stanza) (2.2.2)\n",
            "Requirement already satisfied: protobuf>=3.15.0 in c:\\users\\danie\\appdata\\local\\programs\\python\\python312\\lib\\site-packages (from stanza) (5.29.3)\n",
            "Requirement already satisfied: requests in c:\\users\\danie\\appdata\\local\\programs\\python\\python312\\lib\\site-packages (from stanza) (2.32.3)\n",
            "Requirement already satisfied: networkx in c:\\users\\danie\\appdata\\local\\programs\\python\\python312\\lib\\site-packages (from stanza) (3.4.2)\n",
            "Requirement already satisfied: torch>=1.3.0 in c:\\users\\danie\\appdata\\local\\programs\\python\\python312\\lib\\site-packages (from stanza) (2.6.0)\n",
            "Requirement already satisfied: tqdm in c:\\users\\danie\\appdata\\local\\programs\\python\\python312\\lib\\site-packages (from stanza) (4.67.1)\n",
            "Requirement already satisfied: filelock in c:\\users\\danie\\appdata\\local\\programs\\python\\python312\\lib\\site-packages (from torch>=1.3.0->stanza) (3.16.1)\n",
            "Requirement already satisfied: typing-extensions>=4.10.0 in c:\\users\\danie\\appdata\\local\\programs\\python\\python312\\lib\\site-packages (from torch>=1.3.0->stanza) (4.12.2)\n",
            "Requirement already satisfied: jinja2 in c:\\users\\danie\\appdata\\local\\programs\\python\\python312\\lib\\site-packages (from torch>=1.3.0->stanza) (3.1.5)\n",
            "Requirement already satisfied: fsspec in c:\\users\\danie\\appdata\\local\\programs\\python\\python312\\lib\\site-packages (from torch>=1.3.0->stanza) (2025.2.0)\n",
            "Requirement already satisfied: setuptools in c:\\users\\danie\\appdata\\local\\programs\\python\\python312\\lib\\site-packages (from torch>=1.3.0->stanza) (75.6.0)\n",
            "Requirement already satisfied: sympy==1.13.1 in c:\\users\\danie\\appdata\\local\\programs\\python\\python312\\lib\\site-packages (from torch>=1.3.0->stanza) (1.13.1)\n",
            "Requirement already satisfied: mpmath<1.4,>=1.1.0 in c:\\users\\danie\\appdata\\local\\programs\\python\\python312\\lib\\site-packages (from sympy==1.13.1->torch>=1.3.0->stanza) (1.3.0)\n",
            "Requirement already satisfied: charset-normalizer<4,>=2 in c:\\users\\danie\\appdata\\local\\programs\\python\\python312\\lib\\site-packages (from requests->stanza) (3.4.0)\n",
            "Requirement already satisfied: idna<4,>=2.5 in c:\\users\\danie\\appdata\\local\\programs\\python\\python312\\lib\\site-packages (from requests->stanza) (3.10)\n",
            "Requirement already satisfied: urllib3<3,>=1.21.1 in c:\\users\\danie\\appdata\\local\\programs\\python\\python312\\lib\\site-packages (from requests->stanza) (1.26.20)\n",
            "Requirement already satisfied: certifi>=2017.4.17 in c:\\users\\danie\\appdata\\local\\programs\\python\\python312\\lib\\site-packages (from requests->stanza) (2024.8.30)\n",
            "Requirement already satisfied: colorama in c:\\users\\danie\\appdata\\local\\programs\\python\\python312\\lib\\site-packages (from tqdm->stanza) (0.4.6)\n",
            "Requirement already satisfied: MarkupSafe>=2.0 in c:\\users\\danie\\appdata\\local\\programs\\python\\python312\\lib\\site-packages (from jinja2->torch>=1.3.0->stanza) (2.1.5)\n"
          ]
        },
        {
          "name": "stderr",
          "output_type": "stream",
          "text": [
            "\n",
            "[notice] A new release of pip is available: 24.3.1 -> 25.0.1\n",
            "[notice] To update, run: python.exe -m pip install --upgrade pip\n"
          ]
        },
        {
          "name": "stdout",
          "output_type": "stream",
          "text": [
            "Requirement already satisfied: xgboost in c:\\users\\danie\\appdata\\local\\programs\\python\\python312\\lib\\site-packages (2.1.4)\n",
            "Requirement already satisfied: numpy in c:\\users\\danie\\appdata\\local\\programs\\python\\python312\\lib\\site-packages (from xgboost) (2.2.2)\n",
            "Requirement already satisfied: scipy in c:\\users\\danie\\appdata\\local\\programs\\python\\python312\\lib\\site-packages (from xgboost) (1.15.1)\n"
          ]
        },
        {
          "name": "stderr",
          "output_type": "stream",
          "text": [
            "\n",
            "[notice] A new release of pip is available: 24.3.1 -> 25.0.1\n",
            "[notice] To update, run: python.exe -m pip install --upgrade pip\n"
          ]
        }
      ],
      "source": [
        "!pip install nltk\n",
        "!pip install contractions\n",
        "!pip install inflect\n",
        "!pip install scikit-plot\n",
        "!pip install spacy\n",
        "!pip install stanza\n",
        "!pip install xgboost"
      ]
    },
    {
      "cell_type": "code",
      "execution_count": 55,
      "metadata": {
        "colab": {
          "base_uri": "https://localhost:8080/"
        },
        "id": "373WWwSR8bPT",
        "outputId": "136d225e-13fb-4f92-d2b6-031966f456b3"
      },
      "outputs": [
        {
          "name": "stderr",
          "output_type": "stream",
          "text": [
            "[nltk_data] Downloading package punkt to\n",
            "[nltk_data]     C:\\Users\\danie\\AppData\\Roaming\\nltk_data...\n",
            "[nltk_data]   Package punkt is already up-to-date!\n",
            "[nltk_data] Downloading package stopwords to\n",
            "[nltk_data]     C:\\Users\\danie\\AppData\\Roaming\\nltk_data...\n",
            "[nltk_data]   Package stopwords is already up-to-date!\n",
            "[nltk_data] Downloading package wordnet to\n",
            "[nltk_data]     C:\\Users\\danie\\AppData\\Roaming\\nltk_data...\n",
            "[nltk_data]   Package wordnet is already up-to-date!\n"
          ]
        },
        {
          "data": {
            "text/plain": [
              "True"
            ]
          },
          "execution_count": 55,
          "metadata": {},
          "output_type": "execute_result"
        }
      ],
      "source": [
        "import nltk\n",
        "nltk.download('punkt')\n",
        "nltk.download('stopwords')\n",
        "nltk.download('wordnet')"
      ]
    },
    {
      "cell_type": "code",
      "execution_count": 56,
      "metadata": {
        "colab": {
          "base_uri": "https://localhost:8080/"
        },
        "id": "YaiollzG8bPU",
        "outputId": "ed84fc68-021f-465a-ae88-26a47f693d73"
      },
      "outputs": [
        {
          "name": "stdout",
          "output_type": "stream",
          "text": [
            "Requirement already satisfied: pandas-profiling in c:\\users\\danie\\appdata\\local\\programs\\python\\python312\\lib\\site-packages (3.2.0)\n",
            "Collecting joblib~=1.1.0 (from pandas-profiling)\n",
            "  Using cached joblib-1.1.1-py2.py3-none-any.whl.metadata (5.2 kB)\n",
            "Requirement already satisfied: scipy>=1.4.1 in c:\\users\\danie\\appdata\\local\\programs\\python\\python312\\lib\\site-packages (from pandas-profiling) (1.15.1)\n",
            "Requirement already satisfied: pandas!=1.0.0,!=1.0.1,!=1.0.2,!=1.1.0,>=0.25.3 in c:\\users\\danie\\appdata\\local\\programs\\python\\python312\\lib\\site-packages (from pandas-profiling) (2.2.3)\n",
            "Requirement already satisfied: matplotlib>=3.2.0 in c:\\users\\danie\\appdata\\local\\programs\\python\\python312\\lib\\site-packages (from pandas-profiling) (3.10.0)\n",
            "Requirement already satisfied: pydantic>=1.8.1 in c:\\users\\danie\\appdata\\local\\programs\\python\\python312\\lib\\site-packages (from pandas-profiling) (2.10.6)\n",
            "Requirement already satisfied: PyYAML>=5.0.0 in c:\\users\\danie\\appdata\\local\\programs\\python\\python312\\lib\\site-packages (from pandas-profiling) (6.0.2)\n",
            "Requirement already satisfied: jinja2>=2.11.1 in c:\\users\\danie\\appdata\\local\\programs\\python\\python312\\lib\\site-packages (from pandas-profiling) (3.1.5)\n",
            "Requirement already satisfied: markupsafe~=2.1.1 in c:\\users\\danie\\appdata\\local\\programs\\python\\python312\\lib\\site-packages (from pandas-profiling) (2.1.5)\n",
            "Requirement already satisfied: visions==0.7.4 in c:\\users\\danie\\appdata\\local\\programs\\python\\python312\\lib\\site-packages (from visions[type_image_path]==0.7.4->pandas-profiling) (0.7.4)\n",
            "Requirement already satisfied: numpy>=1.16.0 in c:\\users\\danie\\appdata\\local\\programs\\python\\python312\\lib\\site-packages (from pandas-profiling) (2.2.2)\n",
            "Requirement already satisfied: htmlmin>=0.1.12 in c:\\users\\danie\\appdata\\local\\programs\\python\\python312\\lib\\site-packages (from pandas-profiling) (0.1.12)\n",
            "Requirement already satisfied: missingno>=0.4.2 in c:\\users\\danie\\appdata\\local\\programs\\python\\python312\\lib\\site-packages (from pandas-profiling) (0.5.2)\n",
            "Requirement already satisfied: phik>=0.11.1 in c:\\users\\danie\\appdata\\local\\programs\\python\\python312\\lib\\site-packages (from pandas-profiling) (0.12.4)\n",
            "Requirement already satisfied: tangled-up-in-unicode==0.2.0 in c:\\users\\danie\\appdata\\local\\programs\\python\\python312\\lib\\site-packages (from pandas-profiling) (0.2.0)\n",
            "Requirement already satisfied: requests>=2.24.0 in c:\\users\\danie\\appdata\\local\\programs\\python\\python312\\lib\\site-packages (from pandas-profiling) (2.32.3)\n",
            "Requirement already satisfied: tqdm>=4.48.2 in c:\\users\\danie\\appdata\\local\\programs\\python\\python312\\lib\\site-packages (from pandas-profiling) (4.67.1)\n",
            "Requirement already satisfied: seaborn>=0.10.1 in c:\\users\\danie\\appdata\\local\\programs\\python\\python312\\lib\\site-packages (from pandas-profiling) (0.13.2)\n",
            "Requirement already satisfied: multimethod>=1.4 in c:\\users\\danie\\appdata\\local\\programs\\python\\python312\\lib\\site-packages (from pandas-profiling) (2.0)\n",
            "Requirement already satisfied: attrs>=19.3.0 in c:\\users\\danie\\appdata\\local\\programs\\python\\python312\\lib\\site-packages (from visions==0.7.4->visions[type_image_path]==0.7.4->pandas-profiling) (24.2.0)\n",
            "Requirement already satisfied: networkx>=2.4 in c:\\users\\danie\\appdata\\local\\programs\\python\\python312\\lib\\site-packages (from visions==0.7.4->visions[type_image_path]==0.7.4->pandas-profiling) (3.4.2)\n",
            "Requirement already satisfied: imagehash in c:\\users\\danie\\appdata\\local\\programs\\python\\python312\\lib\\site-packages (from visions[type_image_path]==0.7.4->pandas-profiling) (4.3.2)\n",
            "Requirement already satisfied: Pillow in c:\\users\\danie\\appdata\\local\\programs\\python\\python312\\lib\\site-packages (from visions[type_image_path]==0.7.4->pandas-profiling) (11.1.0)\n",
            "Requirement already satisfied: contourpy>=1.0.1 in c:\\users\\danie\\appdata\\local\\programs\\python\\python312\\lib\\site-packages (from matplotlib>=3.2.0->pandas-profiling) (1.3.1)\n",
            "Requirement already satisfied: cycler>=0.10 in c:\\users\\danie\\appdata\\local\\programs\\python\\python312\\lib\\site-packages (from matplotlib>=3.2.0->pandas-profiling) (0.12.1)\n",
            "Requirement already satisfied: fonttools>=4.22.0 in c:\\users\\danie\\appdata\\local\\programs\\python\\python312\\lib\\site-packages (from matplotlib>=3.2.0->pandas-profiling) (4.56.0)\n",
            "Requirement already satisfied: kiwisolver>=1.3.1 in c:\\users\\danie\\appdata\\local\\programs\\python\\python312\\lib\\site-packages (from matplotlib>=3.2.0->pandas-profiling) (1.4.8)\n",
            "Requirement already satisfied: packaging>=20.0 in c:\\users\\danie\\appdata\\local\\programs\\python\\python312\\lib\\site-packages (from matplotlib>=3.2.0->pandas-profiling) (24.1)\n",
            "Requirement already satisfied: pyparsing>=2.3.1 in c:\\users\\danie\\appdata\\local\\programs\\python\\python312\\lib\\site-packages (from matplotlib>=3.2.0->pandas-profiling) (3.2.1)\n",
            "Requirement already satisfied: python-dateutil>=2.7 in c:\\users\\danie\\appdata\\local\\programs\\python\\python312\\lib\\site-packages (from matplotlib>=3.2.0->pandas-profiling) (2.9.0.post0)\n",
            "Requirement already satisfied: pytz>=2020.1 in c:\\users\\danie\\appdata\\local\\programs\\python\\python312\\lib\\site-packages (from pandas!=1.0.0,!=1.0.1,!=1.0.2,!=1.1.0,>=0.25.3->pandas-profiling) (2025.1)\n",
            "Requirement already satisfied: tzdata>=2022.7 in c:\\users\\danie\\appdata\\local\\programs\\python\\python312\\lib\\site-packages (from pandas!=1.0.0,!=1.0.1,!=1.0.2,!=1.1.0,>=0.25.3->pandas-profiling) (2024.2)\n",
            "Requirement already satisfied: annotated-types>=0.6.0 in c:\\users\\danie\\appdata\\local\\programs\\python\\python312\\lib\\site-packages (from pydantic>=1.8.1->pandas-profiling) (0.7.0)\n",
            "Requirement already satisfied: pydantic-core==2.27.2 in c:\\users\\danie\\appdata\\local\\programs\\python\\python312\\lib\\site-packages (from pydantic>=1.8.1->pandas-profiling) (2.27.2)\n",
            "Requirement already satisfied: typing-extensions>=4.12.2 in c:\\users\\danie\\appdata\\local\\programs\\python\\python312\\lib\\site-packages (from pydantic>=1.8.1->pandas-profiling) (4.12.2)\n",
            "Requirement already satisfied: charset-normalizer<4,>=2 in c:\\users\\danie\\appdata\\local\\programs\\python\\python312\\lib\\site-packages (from requests>=2.24.0->pandas-profiling) (3.4.0)\n",
            "Requirement already satisfied: idna<4,>=2.5 in c:\\users\\danie\\appdata\\local\\programs\\python\\python312\\lib\\site-packages (from requests>=2.24.0->pandas-profiling) (3.10)\n",
            "Requirement already satisfied: urllib3<3,>=1.21.1 in c:\\users\\danie\\appdata\\local\\programs\\python\\python312\\lib\\site-packages (from requests>=2.24.0->pandas-profiling) (1.26.20)\n",
            "Requirement already satisfied: certifi>=2017.4.17 in c:\\users\\danie\\appdata\\local\\programs\\python\\python312\\lib\\site-packages (from requests>=2.24.0->pandas-profiling) (2024.8.30)\n",
            "Requirement already satisfied: colorama in c:\\users\\danie\\appdata\\local\\programs\\python\\python312\\lib\\site-packages (from tqdm>=4.48.2->pandas-profiling) (0.4.6)\n",
            "Requirement already satisfied: six>=1.5 in c:\\users\\danie\\appdata\\local\\programs\\python\\python312\\lib\\site-packages (from python-dateutil>=2.7->matplotlib>=3.2.0->pandas-profiling) (1.17.0)\n",
            "Requirement already satisfied: PyWavelets in c:\\users\\danie\\appdata\\local\\programs\\python\\python312\\lib\\site-packages (from imagehash->visions[type_image_path]==0.7.4->pandas-profiling) (1.8.0)\n",
            "Using cached joblib-1.1.1-py2.py3-none-any.whl (309 kB)\n",
            "Installing collected packages: joblib\n",
            "  Attempting uninstall: joblib\n",
            "    Found existing installation: joblib 1.4.2\n",
            "    Uninstalling joblib-1.4.2:\n",
            "      Successfully uninstalled joblib-1.4.2\n",
            "Successfully installed joblib-1.1.1\n"
          ]
        },
        {
          "name": "stderr",
          "output_type": "stream",
          "text": [
            "ERROR: pip's dependency resolver does not currently take into account all the packages that are installed. This behaviour is the source of the following dependency conflicts.\n",
            "scikit-learn 1.6.1 requires joblib>=1.2.0, but you have joblib 1.1.1 which is incompatible.\n",
            "\n",
            "[notice] A new release of pip is available: 24.3.1 -> 25.0.1\n",
            "[notice] To update, run: python.exe -m pip install --upgrade pip\n"
          ]
        }
      ],
      "source": [
        "# Instalación de librerias\n",
        "import pandas as pd\n",
        "import numpy as np\n",
        "import sys\n",
        "!{sys.executable} -m pip install pandas-profiling\n",
        "\n",
        "import re, string, unicodedata\n",
        "import contractions\n",
        "import inflect\n",
        "from nltk import word_tokenize, sent_tokenize\n",
        "from nltk.corpus import stopwords\n",
        "from nltk.stem import LancasterStemmer, WordNetLemmatizer, SnowballStemmer\n",
        "\n",
        "from sklearn.model_selection import train_test_split,GridSearchCV\n",
        "from sklearn.feature_extraction.text import TfidfVectorizer, CountVectorizer, HashingVectorizer\n",
        "from sklearn.pipeline import Pipeline, FeatureUnion\n",
        "from sklearn.svm import SVC\n",
        "from sklearn.ensemble import BaggingClassifier, RandomForestClassifier, AdaBoostClassifier\n",
        "from sklearn.naive_bayes import BernoulliNB, MultinomialNB\n",
        "from sklearn.metrics import classification_report, confusion_matrix, accuracy_score\n",
        "\n",
        "\n",
        "from sklearn.base import BaseEstimator, ClassifierMixin\n",
        "\n",
        "import matplotlib.pyplot as plt"
      ]
    },
    {
      "cell_type": "markdown",
      "metadata": {
        "id": "nmO_fKpe8bPU"
      },
      "source": [
        "## Perfilamiento y entendimiento de datos"
      ]
    },
    {
      "cell_type": "code",
      "execution_count": 57,
      "metadata": {
        "id": "uDubfVuL8bPU"
      },
      "outputs": [],
      "source": [
        "import pandas as pd\n",
        "\n",
        "df = pd.read_csv(\"fake_news_spanish.csv\", sep=\";\",encoding=\"utf-8\" )\n",
        "df_t=df"
      ]
    },
    {
      "cell_type": "code",
      "execution_count": 58,
      "metadata": {
        "colab": {
          "base_uri": "https://localhost:8080/",
          "height": 424
        },
        "id": "urjPnN838bPU",
        "outputId": "0219d100-80cf-4834-ee7c-3ee87d6f9c37"
      },
      "outputs": [
        {
          "data": {
            "text/html": [
              "<div>\n",
              "<style scoped>\n",
              "    .dataframe tbody tr th:only-of-type {\n",
              "        vertical-align: middle;\n",
              "    }\n",
              "\n",
              "    .dataframe tbody tr th {\n",
              "        vertical-align: top;\n",
              "    }\n",
              "\n",
              "    .dataframe thead th {\n",
              "        text-align: right;\n",
              "    }\n",
              "</style>\n",
              "<table border=\"1\" class=\"dataframe\">\n",
              "  <thead>\n",
              "    <tr style=\"text-align: right;\">\n",
              "      <th></th>\n",
              "      <th>ID</th>\n",
              "      <th>Label</th>\n",
              "      <th>Titulo</th>\n",
              "      <th>Descripcion</th>\n",
              "      <th>Fecha</th>\n",
              "    </tr>\n",
              "  </thead>\n",
              "  <tbody>\n",
              "    <tr>\n",
              "      <th>0</th>\n",
              "      <td>ID</td>\n",
              "      <td>1</td>\n",
              "      <td>'The Guardian' va con Sánchez: 'Europa necesit...</td>\n",
              "      <td>El diario británico publicó este pasado jueves...</td>\n",
              "      <td>02/06/2023</td>\n",
              "    </tr>\n",
              "    <tr>\n",
              "      <th>1</th>\n",
              "      <td>ID</td>\n",
              "      <td>0</td>\n",
              "      <td>REVELAN QUE EL GOBIERNO NEGOCIO LA LIBERACIÓN ...</td>\n",
              "      <td>REVELAN QUE EL GOBIERNO NEGOCIO LA LIBERACIÓN ...</td>\n",
              "      <td>01/10/2023</td>\n",
              "    </tr>\n",
              "    <tr>\n",
              "      <th>2</th>\n",
              "      <td>ID</td>\n",
              "      <td>1</td>\n",
              "      <td>El 'Ahora o nunca' de Joan Fuster sobre el est...</td>\n",
              "      <td>El valencianismo convoca en Castelló su fiesta...</td>\n",
              "      <td>25/04/2022</td>\n",
              "    </tr>\n",
              "    <tr>\n",
              "      <th>3</th>\n",
              "      <td>ID</td>\n",
              "      <td>1</td>\n",
              "      <td>Iglesias alienta a Yolanda Díaz, ERC y EH Bild...</td>\n",
              "      <td>En política, igual que hay que negociar con lo...</td>\n",
              "      <td>03/01/2022</td>\n",
              "    </tr>\n",
              "    <tr>\n",
              "      <th>4</th>\n",
              "      <td>ID</td>\n",
              "      <td>0</td>\n",
              "      <td>Puigdemont: 'No sería ninguna tragedia una rep...</td>\n",
              "      <td>En una entrevista en El Punt Avui, el líder de...</td>\n",
              "      <td>09/03/2018</td>\n",
              "    </tr>\n",
              "    <tr>\n",
              "      <th>...</th>\n",
              "      <td>...</td>\n",
              "      <td>...</td>\n",
              "      <td>...</td>\n",
              "      <td>...</td>\n",
              "      <td>...</td>\n",
              "    </tr>\n",
              "    <tr>\n",
              "      <th>57058</th>\n",
              "      <td>ID</td>\n",
              "      <td>1</td>\n",
              "      <td>El Defensor del Pueblo reclama a la Comunidad ...</td>\n",
              "      <td>El gobierno regional han indicado que la atenc...</td>\n",
              "      <td>08/06/2021</td>\n",
              "    </tr>\n",
              "    <tr>\n",
              "      <th>57059</th>\n",
              "      <td>ID</td>\n",
              "      <td>0</td>\n",
              "      <td>El EQUO plantea ceder la presidencia de la Com...</td>\n",
              "      <td>Si la higiene democrática nos lleva a esa exig...</td>\n",
              "      <td>08/09/2020</td>\n",
              "    </tr>\n",
              "    <tr>\n",
              "      <th>57060</th>\n",
              "      <td>ID</td>\n",
              "      <td>1</td>\n",
              "      <td>Alberto Garzón: 'Que los Borbones son unos lad...</td>\n",
              "      <td>El coordinador federal de IU asegura que la mo...</td>\n",
              "      <td>12/07/2018</td>\n",
              "    </tr>\n",
              "    <tr>\n",
              "      <th>57061</th>\n",
              "      <td>ID</td>\n",
              "      <td>1</td>\n",
              "      <td>Vox exige entrar en el Gobierno de Castilla y ...</td>\n",
              "      <td>Santiago Abascal: Vox tiene el derecho y el de...</td>\n",
              "      <td>13/02/2022</td>\n",
              "    </tr>\n",
              "    <tr>\n",
              "      <th>57062</th>\n",
              "      <td>ID</td>\n",
              "      <td>1</td>\n",
              "      <td>Unas 300 personas protestan contra la visita d...</td>\n",
              "      <td>Los Mossos dEsquadra han blindado los alrededo...</td>\n",
              "      <td>09/10/2020</td>\n",
              "    </tr>\n",
              "  </tbody>\n",
              "</table>\n",
              "<p>57063 rows × 5 columns</p>\n",
              "</div>"
            ],
            "text/plain": [
              "       ID  Label                                             Titulo  \\\n",
              "0      ID      1  'The Guardian' va con Sánchez: 'Europa necesit...   \n",
              "1      ID      0  REVELAN QUE EL GOBIERNO NEGOCIO LA LIBERACIÓN ...   \n",
              "2      ID      1  El 'Ahora o nunca' de Joan Fuster sobre el est...   \n",
              "3      ID      1  Iglesias alienta a Yolanda Díaz, ERC y EH Bild...   \n",
              "4      ID      0  Puigdemont: 'No sería ninguna tragedia una rep...   \n",
              "...    ..    ...                                                ...   \n",
              "57058  ID      1  El Defensor del Pueblo reclama a la Comunidad ...   \n",
              "57059  ID      0  El EQUO plantea ceder la presidencia de la Com...   \n",
              "57060  ID      1  Alberto Garzón: 'Que los Borbones son unos lad...   \n",
              "57061  ID      1  Vox exige entrar en el Gobierno de Castilla y ...   \n",
              "57062  ID      1  Unas 300 personas protestan contra la visita d...   \n",
              "\n",
              "                                             Descripcion       Fecha  \n",
              "0      El diario británico publicó este pasado jueves...  02/06/2023  \n",
              "1      REVELAN QUE EL GOBIERNO NEGOCIO LA LIBERACIÓN ...  01/10/2023  \n",
              "2      El valencianismo convoca en Castelló su fiesta...  25/04/2022  \n",
              "3      En política, igual que hay que negociar con lo...  03/01/2022  \n",
              "4      En una entrevista en El Punt Avui, el líder de...  09/03/2018  \n",
              "...                                                  ...         ...  \n",
              "57058  El gobierno regional han indicado que la atenc...  08/06/2021  \n",
              "57059  Si la higiene democrática nos lleva a esa exig...  08/09/2020  \n",
              "57060  El coordinador federal de IU asegura que la mo...  12/07/2018  \n",
              "57061  Santiago Abascal: Vox tiene el derecho y el de...  13/02/2022  \n",
              "57062  Los Mossos dEsquadra han blindado los alrededo...  09/10/2020  \n",
              "\n",
              "[57063 rows x 5 columns]"
            ]
          },
          "execution_count": 58,
          "metadata": {},
          "output_type": "execute_result"
        }
      ],
      "source": [
        "df_t"
      ]
    },
    {
      "cell_type": "code",
      "execution_count": 59,
      "metadata": {
        "colab": {
          "base_uri": "https://localhost:8080/"
        },
        "id": "Ixg7YDTg8bPV",
        "outputId": "97a9eb54-0542-4998-8681-15c1d95cad2b"
      },
      "outputs": [
        {
          "name": "stdout",
          "output_type": "stream",
          "text": [
            "<class 'pandas.core.frame.DataFrame'>\n",
            "RangeIndex: 57063 entries, 0 to 57062\n",
            "Data columns (total 5 columns):\n",
            " #   Column       Non-Null Count  Dtype \n",
            "---  ------       --------------  ----- \n",
            " 0   ID           57063 non-null  object\n",
            " 1   Label        57063 non-null  int64 \n",
            " 2   Titulo       57047 non-null  object\n",
            " 3   Descripcion  57063 non-null  object\n",
            " 4   Fecha        57063 non-null  object\n",
            "dtypes: int64(1), object(4)\n",
            "memory usage: 2.2+ MB\n"
          ]
        }
      ],
      "source": [
        "df_t.info()"
      ]
    },
    {
      "cell_type": "markdown",
      "metadata": {
        "id": "-5P1cpcY8bPV"
      },
      "source": [
        "## Entendimiento de de los datos"
      ]
    },
    {
      "cell_type": "markdown",
      "metadata": {
        "id": "dSWUH2ddRDHb"
      },
      "source": [
        "Se realizó un perfilamiento inicial del dataset para comprender su estructura y calidad de datos, incluyendo la identificación de dimensiones, tipos de datos, valores nulos, filas duplicadas y la distribución de la variable objetivo. Se corrigió un error relacionado con datos de tipo lista al convertir todas las columnas a string, lo que permitió ejecutar correctamente la detección de duplicados. Este análisis es clave para garantizar que los datos estén en un formato adecuado antes de cualquier procesamiento o modelado."
      ]
    },
    {
      "cell_type": "code",
      "execution_count": 60,
      "metadata": {
        "colab": {
          "base_uri": "https://localhost:8080/"
        },
        "id": "VN4tNf9FP4PA",
        "outputId": "2e36f8b1-5e80-4839-c2dc-82cc19a3cde4"
      },
      "outputs": [
        {
          "name": "stdout",
          "output_type": "stream",
          "text": [
            "Dimensiones del dataset (filas, columnas): (57063, 5)\n",
            "\n",
            "Tipos de datos de cada columna:\n",
            " ID             object\n",
            "Label          object\n",
            "Titulo         object\n",
            "Descripcion    object\n",
            "Fecha          object\n",
            "dtype: object\n",
            "\n",
            "Valores nulos por columna:\n",
            " ID             0\n",
            "Label          0\n",
            "Titulo         0\n",
            "Descripcion    0\n",
            "Fecha          0\n",
            "dtype: int64\n",
            "\n",
            "Cantidad de filas duplicadas: 445\n"
          ]
        }
      ],
      "source": [
        "df = df.astype(str)\n",
        "\n",
        "# a. Dimensiones del dataset\n",
        "print(\"Dimensiones del dataset (filas, columnas):\", df.shape)\n",
        "\n",
        "# b. Tipos de datos de cada columna\n",
        "print(\"\\nTipos de datos de cada columna:\\n\", df.dtypes)\n",
        "\n",
        "# c. Cantidad de valores nulos por columna\n",
        "print(\"\\nValores nulos por columna:\\n\", df.isnull().sum())\n",
        "\n",
        "# d. Cantidad de filas duplicadas\n",
        "duplicados = df.duplicated().sum()\n",
        "print(\"\\nCantidad de filas duplicadas:\", duplicados)\n",
        "\n",
        "# e. Distribución de la variable objetivo (si existe una columna 'label')\n",
        "if \"label\" in df.columns:\n",
        "    print(\"\\nDistribución de clases en la variable objetivo:\\n\", df[\"label\"].value_counts())"
      ]
    },
    {
      "cell_type": "markdown",
      "metadata": {
        "id": "zqAxlZ4IRgp2"
      },
      "source": [
        "El análisis del dataset muestra que contiene **57,063 filas y 8 columnas**, lo que indica un volumen considerable de datos. **Todos los atributos han sido convertidos a tipo \"object\" (string)** para evitar errores en la detección de duplicados. Se observa que **no hay valores nulos** en ninguna columna, lo que sugiere que el dataset está completo en términos de datos registrados. Sin embargo, se identificaron **445 filas duplicadas**, lo que podría afectar el análisis y requerir una limpieza adicional."
      ]
    },
    {
      "cell_type": "markdown",
      "metadata": {
        "id": "0lBcaCl3Ruea"
      },
      "source": [
        "Adicionalmente se presenta un grafico con la distribución de clases"
      ]
    },
    {
      "cell_type": "code",
      "execution_count": 61,
      "metadata": {
        "colab": {
          "base_uri": "https://localhost:8080/",
          "height": 497
        },
        "id": "e8zkv13FRsBO",
        "outputId": "eb5dc64e-f64d-49a7-d7db-60cb3bb5d11e"
      },
      "outputs": [
        {
          "name": "stderr",
          "output_type": "stream",
          "text": [
            "C:\\Users\\danie\\AppData\\Local\\Temp\\ipykernel_3436\\4292955707.py:12: FutureWarning: \n",
            "\n",
            "Passing `palette` without assigning `hue` is deprecated and will be removed in v0.14.0. Assign the `x` variable to `hue` and set `legend=False` for the same effect.\n",
            "\n",
            "  sns.barplot(x=label_counts.index, y=label_counts.values, palette=\"viridis\")\n"
          ]
        },
        {
          "data": {
            "image/png": "[encoded data removed]",
            "text/plain": [
              "<Figure size 600x400 with 1 Axes>"
            ]
          },
          "metadata": {},
          "output_type": "display_data"
        }
      ],
      "source": [
        "import matplotlib.pyplot as plt\n",
        "import seaborn as sns\n",
        "\n",
        "# Convertir la columna Label a tipo numérico (por si hay valores como strings)\n",
        "df[\"Label\"] = pd.to_numeric(df[\"Label\"], errors=\"coerce\")\n",
        "\n",
        "# Contar la frecuencia de cada clase (0 y 1)\n",
        "label_counts = df[\"Label\"].value_counts()\n",
        "\n",
        "# Crear la gráfica de barras\n",
        "plt.figure(figsize=(6, 4))\n",
        "sns.barplot(x=label_counts.index, y=label_counts.values, palette=\"viridis\")\n",
        "plt.xlabel(\"Clases (Label)\")\n",
        "plt.ylabel(\"Frecuencia\")\n",
        "plt.title(\"Distribución de la variable Label\")\n",
        "plt.xticks([0, 1], [\"0 (Falso)\", \"1 (Verdadero)\"])  # Etiquetas personalizadas\n",
        "plt.show()\n"
      ]
    },
    {
      "cell_type": "code",
      "execution_count": 62,
      "metadata": {
        "colab": {
          "base_uri": "https://localhost:8080/"
        },
        "id": "JN2wQqJv8bPV",
        "outputId": "539b719b-80f3-4045-9add-e3902155adbf"
      },
      "outputs": [
        {
          "name": "stdout",
          "output_type": "stream",
          "text": [
            "   ID  Label                                             Titulo  \\\n",
            "0  ID      1  'The Guardian' va con Sánchez: 'Europa necesit...   \n",
            "1  ID      0  REVELAN QUE EL GOBIERNO NEGOCIO LA LIBERACIÓN ...   \n",
            "2  ID      1  El 'Ahora o nunca' de Joan Fuster sobre el est...   \n",
            "3  ID      1  Iglesias alienta a Yolanda Díaz, ERC y EH Bild...   \n",
            "4  ID      0  Puigdemont: 'No sería ninguna tragedia una rep...   \n",
            "\n",
            "                                         Descripcion       Fecha  Conteo  Max  \\\n",
            "0  El diario británico publicó este pasado jueves...  02/06/2023     218   13   \n",
            "1  REVELAN QUE EL GOBIERNO NEGOCIO LA LIBERACIÓN ...  01/10/2023    3260   14   \n",
            "2  El valencianismo convoca en Castelló su fiesta...  25/04/2022     169   13   \n",
            "3  En política, igual que hay que negociar con lo...  03/01/2022     133   15   \n",
            "4  En una entrevista en El Punt Avui, el líder de...  09/03/2018     242   14   \n",
            "\n",
            "   Min  \n",
            "0    1  \n",
            "1    1  \n",
            "2    2  \n",
            "3    2  \n",
            "4    1  \n"
          ]
        }
      ],
      "source": [
        "import pandas as pd\n",
        "from scipy import stats as st\n",
        "\n",
        "# Copia del dataset original para evitar modificarlo directamente\n",
        "textos = df_t.copy()\n",
        "\n",
        "# Longitud total del mensaje en caracteres\n",
        "textos['Conteo'] = textos['Descripcion'].apply(len)\n",
        "\n",
        "# Longitud de la palabra más larga en cada mensaje\n",
        "textos['Max'] = textos['Descripcion'].apply(lambda x: max(map(len, x.split())))\n",
        "\n",
        "# Longitud de la palabra más corta en cada mensaje\n",
        "textos['Min'] = textos['Descripcion'].apply(lambda x: min(map(len, x.split())))\n",
        "\n",
        "# Moda de la longitud de palabras en cada mensaje\n",
        "#textos['Moda'] = textos['Descripcion'].apply(lambda x: st.mode([len(p) for p in x.split()])[0][0])\n",
        "\n",
        "# Mostrar resultados\n",
        "print(textos.head())"
      ]
    },
    {
      "cell_type": "code",
      "execution_count": 63,
      "metadata": {
        "colab": {
          "base_uri": "https://localhost:8080/",
          "height": 424
        },
        "id": "zPSAhqR98bPV",
        "outputId": "6872968b-fccb-41d4-f85c-4abff746ba33"
      },
      "outputs": [
        {
          "data": {
            "text/html": [
              "<div>\n",
              "<style scoped>\n",
              "    .dataframe tbody tr th:only-of-type {\n",
              "        vertical-align: middle;\n",
              "    }\n",
              "\n",
              "    .dataframe tbody tr th {\n",
              "        vertical-align: top;\n",
              "    }\n",
              "\n",
              "    .dataframe thead th {\n",
              "        text-align: right;\n",
              "    }\n",
              "</style>\n",
              "<table border=\"1\" class=\"dataframe\">\n",
              "  <thead>\n",
              "    <tr style=\"text-align: right;\">\n",
              "      <th></th>\n",
              "      <th>ID</th>\n",
              "      <th>Label</th>\n",
              "      <th>Titulo</th>\n",
              "      <th>Descripcion</th>\n",
              "      <th>Fecha</th>\n",
              "      <th>Conteo</th>\n",
              "      <th>Max</th>\n",
              "      <th>Min</th>\n",
              "    </tr>\n",
              "  </thead>\n",
              "  <tbody>\n",
              "    <tr>\n",
              "      <th>0</th>\n",
              "      <td>ID</td>\n",
              "      <td>1</td>\n",
              "      <td>'The Guardian' va con Sánchez: 'Europa necesit...</td>\n",
              "      <td>El diario británico publicó este pasado jueves...</td>\n",
              "      <td>02/06/2023</td>\n",
              "      <td>218</td>\n",
              "      <td>13</td>\n",
              "      <td>1</td>\n",
              "    </tr>\n",
              "    <tr>\n",
              "      <th>1</th>\n",
              "      <td>ID</td>\n",
              "      <td>0</td>\n",
              "      <td>REVELAN QUE EL GOBIERNO NEGOCIO LA LIBERACIÓN ...</td>\n",
              "      <td>REVELAN QUE EL GOBIERNO NEGOCIO LA LIBERACIÓN ...</td>\n",
              "      <td>01/10/2023</td>\n",
              "      <td>3260</td>\n",
              "      <td>14</td>\n",
              "      <td>1</td>\n",
              "    </tr>\n",
              "    <tr>\n",
              "      <th>2</th>\n",
              "      <td>ID</td>\n",
              "      <td>1</td>\n",
              "      <td>El 'Ahora o nunca' de Joan Fuster sobre el est...</td>\n",
              "      <td>El valencianismo convoca en Castelló su fiesta...</td>\n",
              "      <td>25/04/2022</td>\n",
              "      <td>169</td>\n",
              "      <td>13</td>\n",
              "      <td>2</td>\n",
              "    </tr>\n",
              "    <tr>\n",
              "      <th>3</th>\n",
              "      <td>ID</td>\n",
              "      <td>1</td>\n",
              "      <td>Iglesias alienta a Yolanda Díaz, ERC y EH Bild...</td>\n",
              "      <td>En política, igual que hay que negociar con lo...</td>\n",
              "      <td>03/01/2022</td>\n",
              "      <td>133</td>\n",
              "      <td>15</td>\n",
              "      <td>2</td>\n",
              "    </tr>\n",
              "    <tr>\n",
              "      <th>4</th>\n",
              "      <td>ID</td>\n",
              "      <td>0</td>\n",
              "      <td>Puigdemont: 'No sería ninguna tragedia una rep...</td>\n",
              "      <td>En una entrevista en El Punt Avui, el líder de...</td>\n",
              "      <td>09/03/2018</td>\n",
              "      <td>242</td>\n",
              "      <td>14</td>\n",
              "      <td>1</td>\n",
              "    </tr>\n",
              "    <tr>\n",
              "      <th>...</th>\n",
              "      <td>...</td>\n",
              "      <td>...</td>\n",
              "      <td>...</td>\n",
              "      <td>...</td>\n",
              "      <td>...</td>\n",
              "      <td>...</td>\n",
              "      <td>...</td>\n",
              "      <td>...</td>\n",
              "    </tr>\n",
              "    <tr>\n",
              "      <th>57058</th>\n",
              "      <td>ID</td>\n",
              "      <td>1</td>\n",
              "      <td>El Defensor del Pueblo reclama a la Comunidad ...</td>\n",
              "      <td>El gobierno regional han indicado que la atenc...</td>\n",
              "      <td>08/06/2021</td>\n",
              "      <td>244</td>\n",
              "      <td>12</td>\n",
              "      <td>1</td>\n",
              "    </tr>\n",
              "    <tr>\n",
              "      <th>57059</th>\n",
              "      <td>ID</td>\n",
              "      <td>0</td>\n",
              "      <td>El EQUO plantea ceder la presidencia de la Com...</td>\n",
              "      <td>Si la higiene democrática nos lleva a esa exig...</td>\n",
              "      <td>08/09/2020</td>\n",
              "      <td>314</td>\n",
              "      <td>11</td>\n",
              "      <td>1</td>\n",
              "    </tr>\n",
              "    <tr>\n",
              "      <th>57060</th>\n",
              "      <td>ID</td>\n",
              "      <td>1</td>\n",
              "      <td>Alberto Garzón: 'Que los Borbones son unos lad...</td>\n",
              "      <td>El coordinador federal de IU asegura que la mo...</td>\n",
              "      <td>12/07/2018</td>\n",
              "      <td>70</td>\n",
              "      <td>11</td>\n",
              "      <td>2</td>\n",
              "    </tr>\n",
              "    <tr>\n",
              "      <th>57061</th>\n",
              "      <td>ID</td>\n",
              "      <td>1</td>\n",
              "      <td>Vox exige entrar en el Gobierno de Castilla y ...</td>\n",
              "      <td>Santiago Abascal: Vox tiene el derecho y el de...</td>\n",
              "      <td>13/02/2022</td>\n",
              "      <td>232</td>\n",
              "      <td>12</td>\n",
              "      <td>1</td>\n",
              "    </tr>\n",
              "    <tr>\n",
              "      <th>57062</th>\n",
              "      <td>ID</td>\n",
              "      <td>1</td>\n",
              "      <td>Unas 300 personas protestan contra la visita d...</td>\n",
              "      <td>Los Mossos dEsquadra han blindado los alrededo...</td>\n",
              "      <td>09/10/2020</td>\n",
              "      <td>193</td>\n",
              "      <td>11</td>\n",
              "      <td>1</td>\n",
              "    </tr>\n",
              "  </tbody>\n",
              "</table>\n",
              "<p>57063 rows × 8 columns</p>\n",
              "</div>"
            ],
            "text/plain": [
              "       ID  Label                                             Titulo  \\\n",
              "0      ID      1  'The Guardian' va con Sánchez: 'Europa necesit...   \n",
              "1      ID      0  REVELAN QUE EL GOBIERNO NEGOCIO LA LIBERACIÓN ...   \n",
              "2      ID      1  El 'Ahora o nunca' de Joan Fuster sobre el est...   \n",
              "3      ID      1  Iglesias alienta a Yolanda Díaz, ERC y EH Bild...   \n",
              "4      ID      0  Puigdemont: 'No sería ninguna tragedia una rep...   \n",
              "...    ..    ...                                                ...   \n",
              "57058  ID      1  El Defensor del Pueblo reclama a la Comunidad ...   \n",
              "57059  ID      0  El EQUO plantea ceder la presidencia de la Com...   \n",
              "57060  ID      1  Alberto Garzón: 'Que los Borbones son unos lad...   \n",
              "57061  ID      1  Vox exige entrar en el Gobierno de Castilla y ...   \n",
              "57062  ID      1  Unas 300 personas protestan contra la visita d...   \n",
              "\n",
              "                                             Descripcion       Fecha  Conteo  \\\n",
              "0      El diario británico publicó este pasado jueves...  02/06/2023     218   \n",
              "1      REVELAN QUE EL GOBIERNO NEGOCIO LA LIBERACIÓN ...  01/10/2023    3260   \n",
              "2      El valencianismo convoca en Castelló su fiesta...  25/04/2022     169   \n",
              "3      En política, igual que hay que negociar con lo...  03/01/2022     133   \n",
              "4      En una entrevista en El Punt Avui, el líder de...  09/03/2018     242   \n",
              "...                                                  ...         ...     ...   \n",
              "57058  El gobierno regional han indicado que la atenc...  08/06/2021     244   \n",
              "57059  Si la higiene democrática nos lleva a esa exig...  08/09/2020     314   \n",
              "57060  El coordinador federal de IU asegura que la mo...  12/07/2018      70   \n",
              "57061  Santiago Abascal: Vox tiene el derecho y el de...  13/02/2022     232   \n",
              "57062  Los Mossos dEsquadra han blindado los alrededo...  09/10/2020     193   \n",
              "\n",
              "       Max  Min  \n",
              "0       13    1  \n",
              "1       14    1  \n",
              "2       13    2  \n",
              "3       15    2  \n",
              "4       14    1  \n",
              "...    ...  ...  \n",
              "57058   12    1  \n",
              "57059   11    1  \n",
              "57060   11    2  \n",
              "57061   12    1  \n",
              "57062   11    1  \n",
              "\n",
              "[57063 rows x 8 columns]"
            ]
          },
          "execution_count": 63,
          "metadata": {},
          "output_type": "execute_result"
        }
      ],
      "source": [
        "textos"
      ]
    },
    {
      "cell_type": "markdown",
      "metadata": {
        "id": "TrZQvghh8bPW"
      },
      "source": [
        "## Preparación de los datos\n",
        "Para poder realizar el pre-procesamiento de los datos, se debe pasar por:\n",
        "- Limpieza de los datos\n",
        "- Tokenización de los datos\n",
        "- normalización de los datos"
      ]
    },
    {
      "cell_type": "markdown",
      "metadata": {
        "id": "BMKp9XCt8bPW"
      },
      "source": [
        "### Limpieza de los datos\n",
        "\n",
        "Se debe dejar el archivo csv en un texto plano, también se elimina caracteres especiales y se pasa todo a minúsculas"
      ]
    },
    {
      "cell_type": "code",
      "execution_count": 64,
      "metadata": {
        "id": "4d74x8I-8bPW"
      },
      "outputs": [],
      "source": [
        "def remove_non_ascii(words):\n",
        "    new_words = []\n",
        "    for word in words:\n",
        "        if word is not None:\n",
        "            new_word = unicodedata.normalize('NFKD', word).encode('ascii', 'ignore').decode('utf-8', 'ignore')\n",
        "            new_words.append(new_word)\n",
        "    return new_words\n",
        "\n",
        "def to_lowercase(words):\n",
        "    new_words = []\n",
        "    for word in words:\n",
        "        if word is not None:\n",
        "            new_word = word.lower()\n",
        "            new_words.append(new_word)\n",
        "    return new_words\n",
        "\n",
        "def replace_numbers(words):\n",
        "    p = inflect.engine()\n",
        "    new_words = []\n",
        "    for word in words:\n",
        "        if word.isdigit():\n",
        "            new_word = p.number_to_words(word)\n",
        "            new_words.append(new_word)\n",
        "        else:\n",
        "            new_words.append(word)\n",
        "    return new_words\n",
        "\n",
        "def remove_punctuation(words):\n",
        "    new_words = []\n",
        "    for word in words:\n",
        "        if word is not None:\n",
        "            new_word = re.sub(r'[^\\w\\s]', '', word)\n",
        "            if new_word != '':\n",
        "                new_words.append(new_word)\n",
        "    return new_words\n",
        "\n",
        "def remove_stopwords(words):\n",
        "    new_words = []\n",
        "    for word in words:\n",
        "        if word not in stopwords.words('spanish'):\n",
        "            new_words.append(word)\n",
        "    return new_words\n",
        "\n",
        "def processing(words):\n",
        "    words = remove_non_ascii(words)\n",
        "    words = to_lowercase(words)\n",
        "    words = replace_numbers(words)\n",
        "    words = remove_punctuation(words)\n",
        "    words = remove_stopwords(words)\n",
        "    return words"
      ]
    },
    {
      "cell_type": "markdown",
      "metadata": {
        "id": "0FEBElsZ8bPW"
      },
      "source": [
        "## Tokenización\n",
        "\n",
        "La tokenización es el proceso de dividir un texto en palabras individuales. Pero antes se realiza una correción de las contraciones que pueden aparecer en el texto."
      ]
    },
    {
      "cell_type": "code",
      "execution_count": 65,
      "metadata": {
        "id": "zqxKMP568bPW"
      },
      "outputs": [],
      "source": [
        "df_t['Descripcion'] = df_t['Descripcion'].apply(contractions.fix)"
      ]
    },
    {
      "cell_type": "code",
      "execution_count": 66,
      "metadata": {
        "colab": {
          "base_uri": "https://localhost:8080/",
          "height": 241
        },
        "id": "M8IP4ahe8bPW",
        "outputId": "1bddf224-fbfa-4c60-c828-da56b6c4d429"
      },
      "outputs": [
        {
          "name": "stderr",
          "output_type": "stream",
          "text": [
            "[nltk_data] Downloading package punkt_tab to\n",
            "[nltk_data]     C:\\Users\\danie\\AppData\\Roaming\\nltk_data...\n",
            "[nltk_data]   Package punkt_tab is already up-to-date!\n"
          ]
        },
        {
          "data": {
            "text/html": [
              "<div>\n",
              "<style scoped>\n",
              "    .dataframe tbody tr th:only-of-type {\n",
              "        vertical-align: middle;\n",
              "    }\n",
              "\n",
              "    .dataframe tbody tr th {\n",
              "        vertical-align: top;\n",
              "    }\n",
              "\n",
              "    .dataframe thead th {\n",
              "        text-align: right;\n",
              "    }\n",
              "</style>\n",
              "<table border=\"1\" class=\"dataframe\">\n",
              "  <thead>\n",
              "    <tr style=\"text-align: right;\">\n",
              "      <th></th>\n",
              "      <th>ID</th>\n",
              "      <th>Label</th>\n",
              "      <th>Titulo</th>\n",
              "      <th>Descripcion</th>\n",
              "      <th>Fecha</th>\n",
              "      <th>words</th>\n",
              "    </tr>\n",
              "  </thead>\n",
              "  <tbody>\n",
              "    <tr>\n",
              "      <th>0</th>\n",
              "      <td>ID</td>\n",
              "      <td>1</td>\n",
              "      <td>'The Guardian' va con Sánchez: 'Europa necesit...</td>\n",
              "      <td>El diario británico publicó este pasado jueves...</td>\n",
              "      <td>02/06/2023</td>\n",
              "      <td>[El, diario, británico, publicó, este, pasado,...</td>\n",
              "    </tr>\n",
              "    <tr>\n",
              "      <th>1</th>\n",
              "      <td>ID</td>\n",
              "      <td>0</td>\n",
              "      <td>REVELAN QUE EL GOBIERNO NEGOCIO LA LIBERACIÓN ...</td>\n",
              "      <td>REVELAN QUE EL GOBIERNO NEGOCIO LA LIBERACIÓN ...</td>\n",
              "      <td>01/10/2023</td>\n",
              "      <td>[REVELAN, QUE, EL, GOBIERNO, NEGOCIO, LA, LIBE...</td>\n",
              "    </tr>\n",
              "    <tr>\n",
              "      <th>2</th>\n",
              "      <td>ID</td>\n",
              "      <td>1</td>\n",
              "      <td>El 'Ahora o nunca' de Joan Fuster sobre el est...</td>\n",
              "      <td>El valencianismo convoca en Castelló su fiesta...</td>\n",
              "      <td>25/04/2022</td>\n",
              "      <td>[El, valencianismo, convoca, en, Castelló, su,...</td>\n",
              "    </tr>\n",
              "    <tr>\n",
              "      <th>3</th>\n",
              "      <td>ID</td>\n",
              "      <td>1</td>\n",
              "      <td>Iglesias alienta a Yolanda Díaz, ERC y EH Bild...</td>\n",
              "      <td>En política, igual que hay que negociar con lo...</td>\n",
              "      <td>03/01/2022</td>\n",
              "      <td>[En, política, ,, igual, que, hay, que, negoci...</td>\n",
              "    </tr>\n",
              "    <tr>\n",
              "      <th>4</th>\n",
              "      <td>ID</td>\n",
              "      <td>0</td>\n",
              "      <td>Puigdemont: 'No sería ninguna tragedia una rep...</td>\n",
              "      <td>En una entrevista en El Punt Avui, el líder de...</td>\n",
              "      <td>09/03/2018</td>\n",
              "      <td>[En, una, entrevista, en, El, Punt, Avui, ,, e...</td>\n",
              "    </tr>\n",
              "  </tbody>\n",
              "</table>\n",
              "</div>"
            ],
            "text/plain": [
              "   ID  Label                                             Titulo  \\\n",
              "0  ID      1  'The Guardian' va con Sánchez: 'Europa necesit...   \n",
              "1  ID      0  REVELAN QUE EL GOBIERNO NEGOCIO LA LIBERACIÓN ...   \n",
              "2  ID      1  El 'Ahora o nunca' de Joan Fuster sobre el est...   \n",
              "3  ID      1  Iglesias alienta a Yolanda Díaz, ERC y EH Bild...   \n",
              "4  ID      0  Puigdemont: 'No sería ninguna tragedia una rep...   \n",
              "\n",
              "                                         Descripcion       Fecha  \\\n",
              "0  El diario británico publicó este pasado jueves...  02/06/2023   \n",
              "1  REVELAN QUE EL GOBIERNO NEGOCIO LA LIBERACIÓN ...  01/10/2023   \n",
              "2  El valencianismo convoca en Castelló su fiesta...  25/04/2022   \n",
              "3  En política, igual que hay que negociar con lo...  03/01/2022   \n",
              "4  En una entrevista en El Punt Avui, el líder de...  09/03/2018   \n",
              "\n",
              "                                               words  \n",
              "0  [El, diario, británico, publicó, este, pasado,...  \n",
              "1  [REVELAN, QUE, EL, GOBIERNO, NEGOCIO, LA, LIBE...  \n",
              "2  [El, valencianismo, convoca, en, Castelló, su,...  \n",
              "3  [En, política, ,, igual, que, hay, que, negoci...  \n",
              "4  [En, una, entrevista, en, El, Punt, Avui, ,, e...  "
            ]
          },
          "execution_count": 66,
          "metadata": {},
          "output_type": "execute_result"
        }
      ],
      "source": [
        "nltk.download('punkt_tab')\n",
        "df_t['words'] = df_t['Descripcion'].apply(word_tokenize)\n",
        "df_t.head()"
      ]
    },
    {
      "cell_type": "code",
      "execution_count": 67,
      "metadata": {
        "colab": {
          "base_uri": "https://localhost:8080/",
          "height": 458
        },
        "id": "ka-XY44n8bPW",
        "outputId": "9dcedf84-16fc-47f4-c87a-922b1f8ba128"
      },
      "outputs": [
        {
          "data": {
            "text/plain": [
              "0        [El, diario, británico, publicó, este, pasado,...\n",
              "1        [REVELAN, QUE, EL, GOBIERNO, NEGOCIO, LA, LIBE...\n",
              "2        [El, valencianismo, convoca, en, Castelló, su,...\n",
              "3        [En, política, ,, igual, que, hay, que, negoci...\n",
              "4        [En, una, entrevista, en, El, Punt, Avui, ,, e...\n",
              "                               ...                        \n",
              "57058    [El, gobierno, regional, han, indicado, que, l...\n",
              "57059    [Si, la, higiene, democrática, nos, lleva, a, ...\n",
              "57060    [El, coordinador, federal, de, IU, asegura, qu...\n",
              "57061    [Santiago, Abascal, :, Vox, tiene, el, derecho...\n",
              "57062    [Los, Mossos, dEsquadra, han, blindado, los, a...\n",
              "Name: words, Length: 57063, dtype: object"
            ]
          },
          "execution_count": 67,
          "metadata": {},
          "output_type": "execute_result"
        }
      ],
      "source": [
        "df_t['words'].dropna()"
      ]
    },
    {
      "cell_type": "code",
      "execution_count": 68,
      "metadata": {
        "colab": {
          "base_uri": "https://localhost:8080/"
        },
        "id": "s9EQqJgW8bPX",
        "outputId": "06501aec-d571-4831-e448-5cd437bdc65f"
      },
      "outputs": [
        {
          "data": {
            "text/plain": [
              "(57063, 6)"
            ]
          },
          "execution_count": 68,
          "metadata": {},
          "output_type": "execute_result"
        }
      ],
      "source": [
        "df_t.shape"
      ]
    },
    {
      "cell_type": "code",
      "execution_count": 69,
      "metadata": {
        "colab": {
          "base_uri": "https://localhost:8080/"
        },
        "id": "AFnVW-VU8bPX",
        "outputId": "c755198e-5ab0-4dcc-81a5-2d7001febccb"
      },
      "outputs": [
        {
          "name": "stdout",
          "output_type": "stream",
          "text": [
            "<class 'pandas.core.series.Series'>\n",
            "RangeIndex: 57063 entries, 0 to 57062\n",
            "Series name: words\n",
            "Non-Null Count  Dtype \n",
            "--------------  ----- \n",
            "57063 non-null  object\n",
            "dtypes: object(1)\n",
            "memory usage: 445.9+ KB\n"
          ]
        }
      ],
      "source": [
        "df_t['words'].info()"
      ]
    },
    {
      "cell_type": "code",
      "execution_count": 70,
      "metadata": {
        "colab": {
          "base_uri": "https://localhost:8080/",
          "height": 293
        },
        "id": "1H4AdnDa8bPX",
        "outputId": "e053ef5c-def4-45b3-d964-8cf6ea158db8"
      },
      "outputs": [
        {
          "data": {
            "text/html": [
              "<div>\n",
              "<style scoped>\n",
              "    .dataframe tbody tr th:only-of-type {\n",
              "        vertical-align: middle;\n",
              "    }\n",
              "\n",
              "    .dataframe tbody tr th {\n",
              "        vertical-align: top;\n",
              "    }\n",
              "\n",
              "    .dataframe thead th {\n",
              "        text-align: right;\n",
              "    }\n",
              "</style>\n",
              "<table border=\"1\" class=\"dataframe\">\n",
              "  <thead>\n",
              "    <tr style=\"text-align: right;\">\n",
              "      <th></th>\n",
              "      <th>ID</th>\n",
              "      <th>Label</th>\n",
              "      <th>Titulo</th>\n",
              "      <th>Descripcion</th>\n",
              "      <th>Fecha</th>\n",
              "      <th>words</th>\n",
              "      <th>words1</th>\n",
              "    </tr>\n",
              "  </thead>\n",
              "  <tbody>\n",
              "    <tr>\n",
              "      <th>0</th>\n",
              "      <td>ID</td>\n",
              "      <td>1</td>\n",
              "      <td>'The Guardian' va con Sánchez: 'Europa necesit...</td>\n",
              "      <td>El diario británico publicó este pasado jueves...</td>\n",
              "      <td>02/06/2023</td>\n",
              "      <td>[El, diario, británico, publicó, este, pasado,...</td>\n",
              "      <td>[diario, britanico, publico, pasado, jueves, e...</td>\n",
              "    </tr>\n",
              "    <tr>\n",
              "      <th>1</th>\n",
              "      <td>ID</td>\n",
              "      <td>0</td>\n",
              "      <td>REVELAN QUE EL GOBIERNO NEGOCIO LA LIBERACIÓN ...</td>\n",
              "      <td>REVELAN QUE EL GOBIERNO NEGOCIO LA LIBERACIÓN ...</td>\n",
              "      <td>01/10/2023</td>\n",
              "      <td>[REVELAN, QUE, EL, GOBIERNO, NEGOCIO, LA, LIBE...</td>\n",
              "      <td>[revelan, gobierno, negocio, liberacion, mirel...</td>\n",
              "    </tr>\n",
              "    <tr>\n",
              "      <th>2</th>\n",
              "      <td>ID</td>\n",
              "      <td>1</td>\n",
              "      <td>El 'Ahora o nunca' de Joan Fuster sobre el est...</td>\n",
              "      <td>El valencianismo convoca en Castelló su fiesta...</td>\n",
              "      <td>25/04/2022</td>\n",
              "      <td>[El, valencianismo, convoca, en, Castelló, su,...</td>\n",
              "      <td>[valencianismo, convoca, castello, fiesta, gra...</td>\n",
              "    </tr>\n",
              "    <tr>\n",
              "      <th>3</th>\n",
              "      <td>ID</td>\n",
              "      <td>1</td>\n",
              "      <td>Iglesias alienta a Yolanda Díaz, ERC y EH Bild...</td>\n",
              "      <td>En política, igual que hay que negociar con lo...</td>\n",
              "      <td>03/01/2022</td>\n",
              "      <td>[En, política, ,, igual, que, hay, que, negoci...</td>\n",
              "      <td>[politica, igual, negociar, empresarios, negoc...</td>\n",
              "    </tr>\n",
              "    <tr>\n",
              "      <th>4</th>\n",
              "      <td>ID</td>\n",
              "      <td>0</td>\n",
              "      <td>Puigdemont: 'No sería ninguna tragedia una rep...</td>\n",
              "      <td>En una entrevista en El Punt Avui, el líder de...</td>\n",
              "      <td>09/03/2018</td>\n",
              "      <td>[En, una, entrevista, en, El, Punt, Avui, ,, e...</td>\n",
              "      <td>[entrevista, punt, avui, lider, jxcat, desdram...</td>\n",
              "    </tr>\n",
              "  </tbody>\n",
              "</table>\n",
              "</div>"
            ],
            "text/plain": [
              "   ID  Label                                             Titulo  \\\n",
              "0  ID      1  'The Guardian' va con Sánchez: 'Europa necesit...   \n",
              "1  ID      0  REVELAN QUE EL GOBIERNO NEGOCIO LA LIBERACIÓN ...   \n",
              "2  ID      1  El 'Ahora o nunca' de Joan Fuster sobre el est...   \n",
              "3  ID      1  Iglesias alienta a Yolanda Díaz, ERC y EH Bild...   \n",
              "4  ID      0  Puigdemont: 'No sería ninguna tragedia una rep...   \n",
              "\n",
              "                                         Descripcion       Fecha  \\\n",
              "0  El diario británico publicó este pasado jueves...  02/06/2023   \n",
              "1  REVELAN QUE EL GOBIERNO NEGOCIO LA LIBERACIÓN ...  01/10/2023   \n",
              "2  El valencianismo convoca en Castelló su fiesta...  25/04/2022   \n",
              "3  En política, igual que hay que negociar con lo...  03/01/2022   \n",
              "4  En una entrevista en El Punt Avui, el líder de...  09/03/2018   \n",
              "\n",
              "                                               words  \\\n",
              "0  [El, diario, británico, publicó, este, pasado,...   \n",
              "1  [REVELAN, QUE, EL, GOBIERNO, NEGOCIO, LA, LIBE...   \n",
              "2  [El, valencianismo, convoca, en, Castelló, su,...   \n",
              "3  [En, política, ,, igual, que, hay, que, negoci...   \n",
              "4  [En, una, entrevista, en, El, Punt, Avui, ,, e...   \n",
              "\n",
              "                                              words1  \n",
              "0  [diario, britanico, publico, pasado, jueves, e...  \n",
              "1  [revelan, gobierno, negocio, liberacion, mirel...  \n",
              "2  [valencianismo, convoca, castello, fiesta, gra...  \n",
              "3  [politica, igual, negociar, empresarios, negoc...  \n",
              "4  [entrevista, punt, avui, lider, jxcat, desdram...  "
            ]
          },
          "execution_count": 70,
          "metadata": {},
          "output_type": "execute_result"
        }
      ],
      "source": [
        "#aplica la limpieza de datos hecho anteriormente\n",
        "df_t['words1']= df_t['words'].apply(processing)\n",
        "df_t.head()"
      ]
    },
    {
      "cell_type": "markdown",
      "metadata": {
        "id": "UNStMnWE8bPX"
      },
      "source": [
        "## Normalización\n",
        " En esta etapa se elimina los prefijos y los sufijos de las palabras, para que las palabras se puedan comparar de manera más efectiva."
      ]
    },
    {
      "cell_type": "code",
      "execution_count": 71,
      "metadata": {
        "colab": {
          "base_uri": "https://localhost:8080/",
          "height": 1000,
          "referenced_widgets": [
            "6a7408669cf74853b13723e4ff13ba77",
            "0aeb0c685d7e43e68d81cfdec8cb2d4c",
            "e6cd3828e1544670819e1b6b7eba77eb",
            "fcaa707fb13a439ab437abe24687f89d",
            "0fbf742eff8f467294d8776f99b6fd0b",
            "6fc2d99d20824212ace42a7fcb2166bf",
            "c4c892b383df4c0ebcff529327678475",
            "a3c95eeafb7c4e39832b5673a959f8a8",
            "27f261d49a654de0bdd73b66c59259b3",
            "945a8449a4c0419bb90666b769667853",
            "77d1dbf0ad6f45748165c36c690fa1be",
            "3bd3bee794a54bdfa817b24826c1c8d9",
            "f5a6c08f35954361bbf0e97207e3482c",
            "8bc9dc224b3a4673963e30449ed84cb7",
            "259d81dfdd214164b719e30e64a47412",
            "0f8a7c4dad7a46cdbec789577534f2b7",
            "ede79b97eb3a40a6a79470e9da1ff5a3",
            "dd67fcaa562841988259b505dbd74e8b",
            "1b2347c22c4f469ea1e7293f09955664",
            "9bce9e18296c40278c5f692c93f04a0e",
            "272da1aebf4e4d6d89ba9c0d353d2aa8",
            "17fc61216b4c44c0a3cc30bc55980a72"
          ]
        },
        "id": "A7OdNEoI8bPX",
        "outputId": "1769b348-df39-424b-bfea-2c64d2ee206f"
      },
      "outputs": [
        {
          "name": "stderr",
          "output_type": "stream",
          "text": [
            "Downloading https://raw.githubusercontent.com/stanfordnlp/stanza-resources/main/resources_1.10.0.json: 424kB [00:00, 211MB/s]                     \n",
            "2025-02-22 17:30:03 INFO: Downloaded file to C:\\Users\\danie\\stanza_resources\\resources.json\n",
            "2025-02-22 17:30:03 INFO: Downloading default packages for language: es (Spanish) ...\n",
            "2025-02-22 17:30:04 INFO: File exists: C:\\Users\\danie\\stanza_resources\\es\\default.zip\n",
            "2025-02-22 17:30:08 INFO: Finished downloading models and saved to C:\\Users\\danie\\stanza_resources\n",
            "2025-02-22 17:30:08 INFO: Checking for updates to resources.json in case models have been updated.  Note: this behavior can be turned off with download_method=None or download_method=DownloadMethod.REUSE_RESOURCES\n",
            "Downloading https://raw.githubusercontent.com/stanfordnlp/stanza-resources/main/resources_1.10.0.json: 424kB [00:00, 104MB/s]                     \n",
            "2025-02-22 17:30:08 INFO: Downloaded file to C:\\Users\\danie\\stanza_resources\\resources.json\n",
            "2025-02-22 17:30:08 INFO: Loading these models for language: es (Spanish):\n",
            "=================================\n",
            "| Processor | Package           |\n",
            "---------------------------------\n",
            "| tokenize  | combined          |\n",
            "| mwt       | combined          |\n",
            "| pos       | combined_charlm   |\n",
            "| lemma     | combined_nocharlm |\n",
            "=================================\n",
            "\n",
            "2025-02-22 17:30:08 INFO: Using device: cpu\n",
            "2025-02-22 17:30:08 INFO: Loading: tokenize\n",
            "2025-02-22 17:30:08 INFO: Loading: mwt\n",
            "2025-02-22 17:30:08 INFO: Loading: pos\n",
            "2025-02-22 17:30:10 INFO: Loading: lemma\n",
            "2025-02-22 17:30:11 INFO: Done loading processors!\n"
          ]
        },
        {
          "name": "stdout",
          "output_type": "stream",
          "text": [
            "Cargando resultados preprocesados desde el archivo...\n",
            "   ID  Label                                             Titulo  \\\n",
            "0  ID      1  'The Guardian' va con Sánchez: 'Europa necesit...   \n",
            "1  ID      0  REVELAN QUE EL GOBIERNO NEGOCIO LA LIBERACIÓN ...   \n",
            "2  ID      1  El 'Ahora o nunca' de Joan Fuster sobre el est...   \n",
            "3  ID      1  Iglesias alienta a Yolanda Díaz, ERC y EH Bild...   \n",
            "4  ID      0  Puigdemont: 'No sería ninguna tragedia una rep...   \n",
            "\n",
            "                                         Descripcion       Fecha  \\\n",
            "0  El diario británico publicó este pasado jueves...  02/06/2023   \n",
            "1  REVELAN QUE EL GOBIERNO NEGOCIO LA LIBERACIÓN ...  01/10/2023   \n",
            "2  El valencianismo convoca en Castelló su fiesta...  25/04/2022   \n",
            "3  En política, igual que hay que negociar con lo...  03/01/2022   \n",
            "4  En una entrevista en El Punt Avui, el líder de...  09/03/2018   \n",
            "\n",
            "                                               words  \\\n",
            "0  [El, diario, británico, publicó, este, pasado,...   \n",
            "1  [REVELAN, QUE, EL, GOBIERNO, NEGOCIO, LA, LIBE...   \n",
            "2  [El, valencianismo, convoca, en, Castelló, su,...   \n",
            "3  [En, política, ,, igual, que, hay, que, negoci...   \n",
            "4  [En, una, entrevista, en, El, Punt, Avui, ,, e...   \n",
            "\n",
            "                                              words1  \\\n",
            "0  [diario, britanico, publico, pasado, jueves, e...   \n",
            "1  [revelan, gobierno, negocio, liberacion, mirel...   \n",
            "2  [valencianismo, convoca, castello, fiesta, gra...   \n",
            "3  [politica, igual, negociar, empresarios, negoc...   \n",
            "4  [entrevista, punt, avui, lider, jxcat, desdram...   \n",
            "\n",
            "                                              words2  \n",
            "0  {'stems': ['diari', 'britan', 'public', 'pas',...  \n",
            "1  {'stems': ['revel', 'gobiern', 'negoci', 'libe...  \n",
            "2  {'stems': ['valencian', 'convoc', 'castell', '...  \n",
            "3  {'stems': ['polit', 'igual', 'negoci', 'empres...  \n",
            "4  {'stems': ['entrev', 'punt', 'avui', 'lid', 'j...  \n"
          ]
        }
      ],
      "source": [
        "import stanza\n",
        "from nltk.stem import SnowballStemmer\n",
        "from tqdm import tqdm\n",
        "import pandas as pd\n",
        "import json\n",
        "import os\n",
        "\n",
        "# Descargar el modelo de Stanza para español (solo la primera vez)\n",
        "stanza.download(\"es\")\n",
        "\n",
        "# Inicializar el pipeline de Stanza\n",
        "nlp_stanza = stanza.Pipeline(\"es\", processors=\"tokenize,mwt,pos,lemma\")\n",
        "\n",
        "# Inicializar el stemmer de NLTK\n",
        "stemmer = SnowballStemmer(\"spanish\")\n",
        "\n",
        "# Función para aplicar stemming a una lista de palabras\n",
        "def stem_words(words):\n",
        "    return [stemmer.stem(word) for word in words]\n",
        "\n",
        "# Función para lematizar una lista de textos\n",
        "def lemmatize_text(texts):\n",
        "    lemmatized_texts = []\n",
        "    for text in tqdm(texts, desc=\"Lematizando textos\"):\n",
        "        doc = nlp_stanza(text)\n",
        "        lemmatized_texts.append([word.lemma for sentence in doc.sentences for word in sentence.words])\n",
        "    return lemmatized_texts\n",
        "\n",
        "# Función para aplicar stemming y lematización a una lista de listas de palabras\n",
        "def stem_and_lemmatize(words_list):\n",
        "    texts = [\" \".join(words) for words in words_list]  # Convertir listas de palabras en texto\n",
        "    stems = [stem_words(words) for words in tqdm(words_list, desc=\"Aplicando stemming\")]\n",
        "    lemmas = lemmatize_text(texts)  # Lematización\n",
        "    return [{\"stems\": stem, \"lemas\": lema} for stem, lema in zip(stems, lemmas)]\n",
        "\n",
        "# Nombre del archivo donde se guardarán o leerán los resultados\n",
        "output_filename = \"processed_results.json\"\n",
        "\n",
        "# Verificar si el archivo existe y no está vacío\n",
        "if os.path.exists(output_filename) and os.path.getsize(output_filename) > 0:\n",
        "    print(\"Cargando resultados preprocesados desde el archivo...\")\n",
        "    with open(output_filename, 'r') as f:\n",
        "        df_t['words2'] = json.load(f)\n",
        "else:\n",
        "    print(\"Procesando datos (stemming y lematización)...\")\n",
        "    df_t['words2'] = stem_and_lemmatize(df_t['words1'].tolist())\n",
        "    # Guardar los resultados en el archivo JSON\n",
        "    with open(output_filename, 'w') as f:\n",
        "        json.dump(df_t['words2'].tolist(), f)\n",
        "    print(\"Resultados guardados en:\", output_filename)\n",
        "\n",
        "# Mostrar las primeras filas del DataFrame\n",
        "print(df_t.head())"
      ]
    },
    {
      "cell_type": "markdown",
      "metadata": {
        "id": "XB0_YWWC8bPX"
      },
      "source": [
        "### Selección de campos\n",
        "Primero, se prepara la variable predictora que en este caso es ..., y los textos que se van a utilizar."
      ]
    },
    {
      "cell_type": "code",
      "execution_count": 72,
      "metadata": {
        "colab": {
          "base_uri": "https://localhost:8080/",
          "height": 597
        },
        "id": "afGunW-y8bPX",
        "outputId": "781ccd2f-3f2d-4524-c343-f5855961255a"
      },
      "outputs": [
        {
          "data": {
            "text/html": [
              "<div>\n",
              "<style scoped>\n",
              "    .dataframe tbody tr th:only-of-type {\n",
              "        vertical-align: middle;\n",
              "    }\n",
              "\n",
              "    .dataframe tbody tr th {\n",
              "        vertical-align: top;\n",
              "    }\n",
              "\n",
              "    .dataframe thead th {\n",
              "        text-align: right;\n",
              "    }\n",
              "</style>\n",
              "<table border=\"1\" class=\"dataframe\">\n",
              "  <thead>\n",
              "    <tr style=\"text-align: right;\">\n",
              "      <th></th>\n",
              "      <th>ID</th>\n",
              "      <th>Label</th>\n",
              "      <th>Titulo</th>\n",
              "      <th>Descripcion</th>\n",
              "      <th>Fecha</th>\n",
              "      <th>words</th>\n",
              "      <th>words1</th>\n",
              "      <th>words2</th>\n",
              "    </tr>\n",
              "  </thead>\n",
              "  <tbody>\n",
              "    <tr>\n",
              "      <th>0</th>\n",
              "      <td>ID</td>\n",
              "      <td>1</td>\n",
              "      <td>'The Guardian' va con Sánchez: 'Europa necesit...</td>\n",
              "      <td>El diario británico publicó este pasado jueves...</td>\n",
              "      <td>02/06/2023</td>\n",
              "      <td>[El, diario, británico, publicó, este, pasado,...</td>\n",
              "      <td>[diario, britanico, publico, pasado, jueves, e...</td>\n",
              "      <td>stems lemas</td>\n",
              "    </tr>\n",
              "    <tr>\n",
              "      <th>1</th>\n",
              "      <td>ID</td>\n",
              "      <td>0</td>\n",
              "      <td>REVELAN QUE EL GOBIERNO NEGOCIO LA LIBERACIÓN ...</td>\n",
              "      <td>REVELAN QUE EL GOBIERNO NEGOCIO LA LIBERACIÓN ...</td>\n",
              "      <td>01/10/2023</td>\n",
              "      <td>[REVELAN, QUE, EL, GOBIERNO, NEGOCIO, LA, LIBE...</td>\n",
              "      <td>[revelan, gobierno, negocio, liberacion, mirel...</td>\n",
              "      <td>stems lemas</td>\n",
              "    </tr>\n",
              "    <tr>\n",
              "      <th>2</th>\n",
              "      <td>ID</td>\n",
              "      <td>1</td>\n",
              "      <td>El 'Ahora o nunca' de Joan Fuster sobre el est...</td>\n",
              "      <td>El valencianismo convoca en Castelló su fiesta...</td>\n",
              "      <td>25/04/2022</td>\n",
              "      <td>[El, valencianismo, convoca, en, Castelló, su,...</td>\n",
              "      <td>[valencianismo, convoca, castello, fiesta, gra...</td>\n",
              "      <td>stems lemas</td>\n",
              "    </tr>\n",
              "    <tr>\n",
              "      <th>3</th>\n",
              "      <td>ID</td>\n",
              "      <td>1</td>\n",
              "      <td>Iglesias alienta a Yolanda Díaz, ERC y EH Bild...</td>\n",
              "      <td>En política, igual que hay que negociar con lo...</td>\n",
              "      <td>03/01/2022</td>\n",
              "      <td>[En, política, ,, igual, que, hay, que, negoci...</td>\n",
              "      <td>[politica, igual, negociar, empresarios, negoc...</td>\n",
              "      <td>stems lemas</td>\n",
              "    </tr>\n",
              "    <tr>\n",
              "      <th>4</th>\n",
              "      <td>ID</td>\n",
              "      <td>0</td>\n",
              "      <td>Puigdemont: 'No sería ninguna tragedia una rep...</td>\n",
              "      <td>En una entrevista en El Punt Avui, el líder de...</td>\n",
              "      <td>09/03/2018</td>\n",
              "      <td>[En, una, entrevista, en, El, Punt, Avui, ,, e...</td>\n",
              "      <td>[entrevista, punt, avui, lider, jxcat, desdram...</td>\n",
              "      <td>stems lemas</td>\n",
              "    </tr>\n",
              "    <tr>\n",
              "      <th>...</th>\n",
              "      <td>...</td>\n",
              "      <td>...</td>\n",
              "      <td>...</td>\n",
              "      <td>...</td>\n",
              "      <td>...</td>\n",
              "      <td>...</td>\n",
              "      <td>...</td>\n",
              "      <td>...</td>\n",
              "    </tr>\n",
              "    <tr>\n",
              "      <th>57058</th>\n",
              "      <td>ID</td>\n",
              "      <td>1</td>\n",
              "      <td>El Defensor del Pueblo reclama a la Comunidad ...</td>\n",
              "      <td>El gobierno regional han indicado que la atenc...</td>\n",
              "      <td>08/06/2021</td>\n",
              "      <td>[El, gobierno, regional, han, indicado, que, l...</td>\n",
              "      <td>[gobierno, regional, indicado, atencion, dia, ...</td>\n",
              "      <td>stems lemas</td>\n",
              "    </tr>\n",
              "    <tr>\n",
              "      <th>57059</th>\n",
              "      <td>ID</td>\n",
              "      <td>0</td>\n",
              "      <td>El EQUO plantea ceder la presidencia de la Com...</td>\n",
              "      <td>Si la higiene democrática nos lleva a esa exig...</td>\n",
              "      <td>08/09/2020</td>\n",
              "      <td>[Si, la, higiene, democrática, nos, lleva, a, ...</td>\n",
              "      <td>[si, higiene, democratica, lleva, exigencia, t...</td>\n",
              "      <td>stems lemas</td>\n",
              "    </tr>\n",
              "    <tr>\n",
              "      <th>57060</th>\n",
              "      <td>ID</td>\n",
              "      <td>1</td>\n",
              "      <td>Alberto Garzón: 'Que los Borbones son unos lad...</td>\n",
              "      <td>El coordinador federal de IU asegura que la mo...</td>\n",
              "      <td>12/07/2018</td>\n",
              "      <td>[El, coordinador, federal, de, IU, asegura, qu...</td>\n",
              "      <td>[coordinador, federal, iu, asegura, monarquia,...</td>\n",
              "      <td>stems lemas</td>\n",
              "    </tr>\n",
              "    <tr>\n",
              "      <th>57061</th>\n",
              "      <td>ID</td>\n",
              "      <td>1</td>\n",
              "      <td>Vox exige entrar en el Gobierno de Castilla y ...</td>\n",
              "      <td>Santiago Abascal: Vox tiene el derecho y el de...</td>\n",
              "      <td>13/02/2022</td>\n",
              "      <td>[Santiago, Abascal, :, Vox, tiene, el, derecho...</td>\n",
              "      <td>[santiago, abascal, vox, derecho, deber, forma...</td>\n",
              "      <td>stems lemas</td>\n",
              "    </tr>\n",
              "    <tr>\n",
              "      <th>57062</th>\n",
              "      <td>ID</td>\n",
              "      <td>1</td>\n",
              "      <td>Unas 300 personas protestan contra la visita d...</td>\n",
              "      <td>Los Mossos dEsquadra han blindado los alrededo...</td>\n",
              "      <td>09/10/2020</td>\n",
              "      <td>[Los, Mossos, dEsquadra, han, blindado, los, a...</td>\n",
              "      <td>[mossos, desquadra, blindado, alrededores, est...</td>\n",
              "      <td>stems lemas</td>\n",
              "    </tr>\n",
              "  </tbody>\n",
              "</table>\n",
              "<p>57063 rows × 8 columns</p>\n",
              "</div>"
            ],
            "text/plain": [
              "       ID  Label                                             Titulo  \\\n",
              "0      ID      1  'The Guardian' va con Sánchez: 'Europa necesit...   \n",
              "1      ID      0  REVELAN QUE EL GOBIERNO NEGOCIO LA LIBERACIÓN ...   \n",
              "2      ID      1  El 'Ahora o nunca' de Joan Fuster sobre el est...   \n",
              "3      ID      1  Iglesias alienta a Yolanda Díaz, ERC y EH Bild...   \n",
              "4      ID      0  Puigdemont: 'No sería ninguna tragedia una rep...   \n",
              "...    ..    ...                                                ...   \n",
              "57058  ID      1  El Defensor del Pueblo reclama a la Comunidad ...   \n",
              "57059  ID      0  El EQUO plantea ceder la presidencia de la Com...   \n",
              "57060  ID      1  Alberto Garzón: 'Que los Borbones son unos lad...   \n",
              "57061  ID      1  Vox exige entrar en el Gobierno de Castilla y ...   \n",
              "57062  ID      1  Unas 300 personas protestan contra la visita d...   \n",
              "\n",
              "                                             Descripcion       Fecha  \\\n",
              "0      El diario británico publicó este pasado jueves...  02/06/2023   \n",
              "1      REVELAN QUE EL GOBIERNO NEGOCIO LA LIBERACIÓN ...  01/10/2023   \n",
              "2      El valencianismo convoca en Castelló su fiesta...  25/04/2022   \n",
              "3      En política, igual que hay que negociar con lo...  03/01/2022   \n",
              "4      En una entrevista en El Punt Avui, el líder de...  09/03/2018   \n",
              "...                                                  ...         ...   \n",
              "57058  El gobierno regional han indicado que la atenc...  08/06/2021   \n",
              "57059  Si la higiene democrática nos lleva a esa exig...  08/09/2020   \n",
              "57060  El coordinador federal de IU asegura que la mo...  12/07/2018   \n",
              "57061  Santiago Abascal: Vox tiene el derecho y el de...  13/02/2022   \n",
              "57062  Los Mossos dEsquadra han blindado los alrededo...  09/10/2020   \n",
              "\n",
              "                                                   words  \\\n",
              "0      [El, diario, británico, publicó, este, pasado,...   \n",
              "1      [REVELAN, QUE, EL, GOBIERNO, NEGOCIO, LA, LIBE...   \n",
              "2      [El, valencianismo, convoca, en, Castelló, su,...   \n",
              "3      [En, política, ,, igual, que, hay, que, negoci...   \n",
              "4      [En, una, entrevista, en, El, Punt, Avui, ,, e...   \n",
              "...                                                  ...   \n",
              "57058  [El, gobierno, regional, han, indicado, que, l...   \n",
              "57059  [Si, la, higiene, democrática, nos, lleva, a, ...   \n",
              "57060  [El, coordinador, federal, de, IU, asegura, qu...   \n",
              "57061  [Santiago, Abascal, :, Vox, tiene, el, derecho...   \n",
              "57062  [Los, Mossos, dEsquadra, han, blindado, los, a...   \n",
              "\n",
              "                                                  words1       words2  \n",
              "0      [diario, britanico, publico, pasado, jueves, e...  stems lemas  \n",
              "1      [revelan, gobierno, negocio, liberacion, mirel...  stems lemas  \n",
              "2      [valencianismo, convoca, castello, fiesta, gra...  stems lemas  \n",
              "3      [politica, igual, negociar, empresarios, negoc...  stems lemas  \n",
              "4      [entrevista, punt, avui, lider, jxcat, desdram...  stems lemas  \n",
              "...                                                  ...          ...  \n",
              "57058  [gobierno, regional, indicado, atencion, dia, ...  stems lemas  \n",
              "57059  [si, higiene, democratica, lleva, exigencia, t...  stems lemas  \n",
              "57060  [coordinador, federal, iu, asegura, monarquia,...  stems lemas  \n",
              "57061  [santiago, abascal, vox, derecho, deber, forma...  stems lemas  \n",
              "57062  [mossos, desquadra, blindado, alrededores, est...  stems lemas  \n",
              "\n",
              "[57063 rows x 8 columns]"
            ]
          },
          "execution_count": 72,
          "metadata": {},
          "output_type": "execute_result"
        }
      ],
      "source": [
        "df_t['words2'] = df_t['words2'].apply(lambda x: ' '.join(map(str, x)))\n",
        "df_t"
      ]
    },
    {
      "cell_type": "code",
      "execution_count": 73,
      "metadata": {
        "colab": {
          "base_uri": "https://localhost:8080/"
        },
        "id": "sIFwG-_V8bPX",
        "outputId": "d97c5ca3-9f57-4152-9950-27a28932319e"
      },
      "outputs": [
        {
          "name": "stdout",
          "output_type": "stream",
          "text": [
            "Label\n",
            "1    33158\n",
            "0    23905\n",
            "Name: count, dtype: int64\n"
          ]
        }
      ],
      "source": [
        "X_data, y_data = df_t['words2'], df_t['Label']\n",
        "\n",
        "y_data = (y_data == 1).astype(int)\n",
        "\n",
        "\n",
        "print(y_data.value_counts())"
      ]
    },
    {
      "cell_type": "code",
      "execution_count": 74,
      "metadata": {
        "colab": {
          "base_uri": "https://localhost:8080/"
        },
        "id": "Kz5WJ3U_A0Ct",
        "outputId": "b8c2b502-b0ea-4337-917e-ff13090805f0"
      },
      "outputs": [
        {
          "name": "stdout",
          "output_type": "stream",
          "text": [
            "Columnas del DataFrame: Index(['ID', 'Label', 'Titulo', 'Descripcion', 'Fecha', 'words', 'words1',\n",
            "       'words2'],\n",
            "      dtype='object')\n",
            "\n",
            "Primeras filas del DataFrame:\n",
            "   ID  Label                                             Titulo  \\\n",
            "0  ID      1  'The Guardian' va con Sánchez: 'Europa necesit...   \n",
            "1  ID      0  REVELAN QUE EL GOBIERNO NEGOCIO LA LIBERACIÓN ...   \n",
            "2  ID      1  El 'Ahora o nunca' de Joan Fuster sobre el est...   \n",
            "3  ID      1  Iglesias alienta a Yolanda Díaz, ERC y EH Bild...   \n",
            "4  ID      0  Puigdemont: 'No sería ninguna tragedia una rep...   \n",
            "\n",
            "                                         Descripcion       Fecha  \\\n",
            "0  El diario británico publicó este pasado jueves...  02/06/2023   \n",
            "1  REVELAN QUE EL GOBIERNO NEGOCIO LA LIBERACIÓN ...  01/10/2023   \n",
            "2  El valencianismo convoca en Castelló su fiesta...  25/04/2022   \n",
            "3  En política, igual que hay que negociar con lo...  03/01/2022   \n",
            "4  En una entrevista en El Punt Avui, el líder de...  09/03/2018   \n",
            "\n",
            "                                               words  \\\n",
            "0  [El, diario, británico, publicó, este, pasado,...   \n",
            "1  [REVELAN, QUE, EL, GOBIERNO, NEGOCIO, LA, LIBE...   \n",
            "2  [El, valencianismo, convoca, en, Castelló, su,...   \n",
            "3  [En, política, ,, igual, que, hay, que, negoci...   \n",
            "4  [En, una, entrevista, en, El, Punt, Avui, ,, e...   \n",
            "\n",
            "                                              words1       words2  \n",
            "0  [diario, britanico, publico, pasado, jueves, e...  stems lemas  \n",
            "1  [revelan, gobierno, negocio, liberacion, mirel...  stems lemas  \n",
            "2  [valencianismo, convoca, castello, fiesta, gra...  stems lemas  \n",
            "3  [politica, igual, negociar, empresarios, negoc...  stems lemas  \n",
            "4  [entrevista, punt, avui, lider, jxcat, desdram...  stems lemas  \n",
            "\n",
            "Ejemplo de X_data:\n",
            "0    stems lemas\n",
            "1    stems lemas\n",
            "2    stems lemas\n",
            "3    stems lemas\n",
            "4    stems lemas\n",
            "Name: words2, dtype: object\n",
            "\n",
            "Distribución de y_data:\n",
            "Label\n",
            "1    33158\n",
            "0    23905\n",
            "Name: count, dtype: int64\n"
          ]
        }
      ],
      "source": [
        "# Verificar si las columnas existen\n",
        "print(\"Columnas del DataFrame:\", df_t.columns)\n",
        "\n",
        "# Ver algunas filas de df_t\n",
        "print(\"\\nPrimeras filas del DataFrame:\")\n",
        "print(df_t.head())\n",
        "\n",
        "# Extraer X_data e y_data si las columnas existen\n",
        "if 'words2' in df_t.columns and 'Label' in df_t.columns:\n",
        "    X_data, y_data = df_t['words2'], df_t['Label']\n",
        "\n",
        "    # Mostrar algunos valores de X_data\n",
        "    print(\"\\nEjemplo de X_data:\")\n",
        "    print(X_data.head())\n",
        "\n",
        "    # Convertir y_data y mostrar su distribución\n",
        "    y_data = (y_data == 1).astype(int)\n",
        "    print(\"\\nDistribución de y_data:\")\n",
        "    print(y_data.value_counts())\n",
        "else:\n",
        "    print(\"\\nERROR: 'words2' o 'Label' no están en el DataFrame.\")\n"
      ]
    },
    {
      "cell_type": "markdown",
      "metadata": {
        "id": "yW7do5qm8bPY"
      },
      "source": [
        "Se transforma el texto con una transformación binaria 1 a 1"
      ]
    },
    {
      "cell_type": "code",
      "execution_count": 75,
      "metadata": {
        "colab": {
          "base_uri": "https://localhost:8080/"
        },
        "id": "YwhWVx0i8bPY",
        "outputId": "be80785d-8bf5-4260-cab7-c3bb69555699"
      },
      "outputs": [
        {
          "name": "stdout",
          "output_type": "stream",
          "text": [
            "(57063, 2)\n"
          ]
        },
        {
          "data": {
            "text/plain": [
              "array([1, 1])"
            ]
          },
          "execution_count": 75,
          "metadata": {},
          "output_type": "execute_result"
        }
      ],
      "source": [
        "dummy = CountVectorizer(binary=True)\n",
        "X_dummy = dummy.fit_transform(X_data)\n",
        "print(X_dummy.shape)\n",
        "X_dummy.toarray()[0]"
      ]
    },
    {
      "cell_type": "markdown",
      "metadata": {
        "id": "AeMu_A1t8bPY"
      },
      "source": [
        "## Creación y aplicación de los modelos"
      ]
    },
    {
      "cell_type": "markdown",
      "metadata": {
        "id": "tplGILFv8bPY"
      },
      "source": [
        "##  XGBoost"
      ]
    },
    {
      "cell_type": "markdown",
      "metadata": {
        "id": "dR5Qzxs-eZs4"
      },
      "source": [
        "Para implementar mi modelo de clasificación, utilicé **XGBoost**, una técnica de boosting basada en árboles de decisión que es altamente eficiente para problemas de clasificación. XGBoost se destaca por su rapidez, precisión y capacidad de regularización, lo que lo hace ideal para detectar patrones en conjuntos de datos complejos.\n",
        "\n",
        "### **Generación de datos**\n",
        "Primero, creé un conjunto de datos sintético con 50,000 muestras y 20 características. Esto me permitió simular un problema de clasificación binaria similar al que se enfrentaría en un entorno real. Elegí un tamaño considerable para asegurar que el modelo pueda generalizar bien y no se limite a patrones específicos de un conjunto pequeño de datos.\n",
        "\n",
        "### **Definición del modelo**\n",
        "Luego, configuré mi modelo XGBoost utilizando una métrica de evaluación de **log-loss**, ya que esta métrica es adecuada para problemas de clasificación binaria. También deshabilité el uso del codificador de etiquetas predeterminado, ya que no lo necesitaba en esta implementación.\n",
        "\n",
        "### **Optimización de hiperparámetros**\n",
        "Para mejorar el rendimiento del modelo, definí un espacio de búsqueda de hiperparámetros que incluía:\n",
        "- El número de árboles en el modelo, lo cual afecta su capacidad de aprendizaje.\n",
        "- La profundidad máxima de cada árbol, que controla la complejidad del modelo.\n",
        "- La tasa de aprendizaje, que regula qué tan rápido el modelo se ajusta a los datos.\n",
        "- Parámetros de muestreo para reducir el riesgo de sobreajuste y mejorar la generalización.\n",
        "- Una penalización (`gamma`) para evitar ramas innecesarias y mejorar la eficiencia del modelo.\n",
        "\n",
        "Con estos hiperparámetros definidos, realicé una **búsqueda aleatoria** con validación cruzada para encontrar la mejor combinación. Elegí este método porque es más eficiente que una búsqueda exhaustiva, ya que explora una cantidad limitada de combinaciones pero sigue brindando buenos resultados en menos tiempo.\n",
        "\n",
        "### **Entrenamiento y selección del mejor modelo**\n",
        "Una vez completada la búsqueda, entrené el modelo con los mejores hiperparámetros encontrados. Esto me permitió obtener un clasificador optimizado sin necesidad de probar manualmente múltiples configuraciones.\n",
        "\n",
        "### **Evaluación del modelo**\n",
        "Para validar el rendimiento del modelo, utilicé **validación cruzada estratificada** con 10 particiones. Esto me permitió evaluar su capacidad de generalización y obtener una métrica más confiable sobre su desempeño. Calculé la precisión media y la desviación estándar en la validación cruzada, lo que me dio una idea clara de la estabilidad del modelo.\n",
        "\n"
      ]
    },
    {
      "cell_type": "code",
      "execution_count": 78,
      "metadata": {
        "colab": {
          "base_uri": "https://localhost:8080/"
        },
        "id": "DQwXTIdP8bPY",
        "outputId": "6ca326a0-bf4a-4d81-cdef-c5bd8cbbb94c"
      },
      "outputs": [
        {
          "name": "stdout",
          "output_type": "stream",
          "text": [
            "Fitting 10 folds for each of 50 candidates, totalling 500 fits\n"
          ]
        },
        {
          "name": "stderr",
          "output_type": "stream",
          "text": [
            "c:\\Users\\danie\\AppData\\Local\\Programs\\Python\\Python312\\Lib\\site-packages\\xgboost\\core.py:158: UserWarning: [17:54:45] WARNING: C:\\buildkite-agent\\builds\\buildkite-windows-cpu-autoscaling-group-i-08cbc0333d8d4aae1-1\\xgboost\\xgboost-ci-windows\\src\\learner.cc:740: \n",
            "Parameters: { \"use_label_encoder\" } are not used.\n",
            "\n",
            "  warnings.warn(smsg, UserWarning)\n",
            "c:\\Users\\danie\\AppData\\Local\\Programs\\Python\\Python312\\Lib\\site-packages\\xgboost\\core.py:158: UserWarning: [17:54:46] WARNING: C:\\buildkite-agent\\builds\\buildkite-windows-cpu-autoscaling-group-i-08cbc0333d8d4aae1-1\\xgboost\\xgboost-ci-windows\\src\\learner.cc:740: \n",
            "Parameters: { \"use_label_encoder\" } are not used.\n",
            "\n",
            "  warnings.warn(smsg, UserWarning)\n"
          ]
        },
        {
          "name": "stdout",
          "output_type": "stream",
          "text": [
            "Mejores hiperparámetros: {'subsample': np.float64(0.8157894736842105), 'n_estimators': np.int64(50), 'max_depth': np.int64(5), 'learning_rate': np.float64(0.13210526315789473), 'gamma': np.float64(0.1111111111111111), 'colsample_bytree': np.float64(0.9473684210526315)}\n"
          ]
        },
        {
          "name": "stderr",
          "output_type": "stream",
          "text": [
            "c:\\Users\\danie\\AppData\\Local\\Programs\\Python\\Python312\\Lib\\site-packages\\xgboost\\core.py:158: UserWarning: [17:54:46] WARNING: C:\\buildkite-agent\\builds\\buildkite-windows-cpu-autoscaling-group-i-08cbc0333d8d4aae1-1\\xgboost\\xgboost-ci-windows\\src\\learner.cc:740: \n",
            "Parameters: { \"use_label_encoder\" } are not used.\n",
            "\n",
            "  warnings.warn(smsg, UserWarning)\n",
            "c:\\Users\\danie\\AppData\\Local\\Programs\\Python\\Python312\\Lib\\site-packages\\xgboost\\core.py:158: UserWarning: [17:54:46] WARNING: C:\\buildkite-agent\\builds\\buildkite-windows-cpu-autoscaling-group-i-08cbc0333d8d4aae1-1\\xgboost\\xgboost-ci-windows\\src\\learner.cc:740: \n",
            "Parameters: { \"use_label_encoder\" } are not used.\n",
            "\n",
            "  warnings.warn(smsg, UserWarning)\n",
            "c:\\Users\\danie\\AppData\\Local\\Programs\\Python\\Python312\\Lib\\site-packages\\xgboost\\core.py:158: UserWarning: [17:54:46] WARNING: C:\\buildkite-agent\\builds\\buildkite-windows-cpu-autoscaling-group-i-08cbc0333d8d4aae1-1\\xgboost\\xgboost-ci-windows\\src\\learner.cc:740: \n",
            "Parameters: { \"use_label_encoder\" } are not used.\n",
            "\n",
            "  warnings.warn(smsg, UserWarning)\n",
            "c:\\Users\\danie\\AppData\\Local\\Programs\\Python\\Python312\\Lib\\site-packages\\xgboost\\core.py:158: UserWarning: [17:54:46] WARNING: C:\\buildkite-agent\\builds\\buildkite-windows-cpu-autoscaling-group-i-08cbc0333d8d4aae1-1\\xgboost\\xgboost-ci-windows\\src\\learner.cc:740: \n",
            "Parameters: { \"use_label_encoder\" } are not used.\n",
            "\n",
            "  warnings.warn(smsg, UserWarning)\n",
            "c:\\Users\\danie\\AppData\\Local\\Programs\\Python\\Python312\\Lib\\site-packages\\xgboost\\core.py:158: UserWarning: [17:54:46] WARNING: C:\\buildkite-agent\\builds\\buildkite-windows-cpu-autoscaling-group-i-08cbc0333d8d4aae1-1\\xgboost\\xgboost-ci-windows\\src\\learner.cc:740: \n",
            "Parameters: { \"use_label_encoder\" } are not used.\n",
            "\n",
            "  warnings.warn(smsg, UserWarning)\n",
            "c:\\Users\\danie\\AppData\\Local\\Programs\\Python\\Python312\\Lib\\site-packages\\xgboost\\core.py:158: UserWarning: [17:54:47] WARNING: C:\\buildkite-agent\\builds\\buildkite-windows-cpu-autoscaling-group-i-08cbc0333d8d4aae1-1\\xgboost\\xgboost-ci-windows\\src\\learner.cc:740: \n",
            "Parameters: { \"use_label_encoder\" } are not used.\n",
            "\n",
            "  warnings.warn(smsg, UserWarning)\n",
            "c:\\Users\\danie\\AppData\\Local\\Programs\\Python\\Python312\\Lib\\site-packages\\xgboost\\core.py:158: UserWarning: [17:54:47] WARNING: C:\\buildkite-agent\\builds\\buildkite-windows-cpu-autoscaling-group-i-08cbc0333d8d4aae1-1\\xgboost\\xgboost-ci-windows\\src\\learner.cc:740: \n",
            "Parameters: { \"use_label_encoder\" } are not used.\n",
            "\n",
            "  warnings.warn(smsg, UserWarning)\n",
            "c:\\Users\\danie\\AppData\\Local\\Programs\\Python\\Python312\\Lib\\site-packages\\xgboost\\core.py:158: UserWarning: [17:54:47] WARNING: C:\\buildkite-agent\\builds\\buildkite-windows-cpu-autoscaling-group-i-08cbc0333d8d4aae1-1\\xgboost\\xgboost-ci-windows\\src\\learner.cc:740: \n",
            "Parameters: { \"use_label_encoder\" } are not used.\n",
            "\n",
            "  warnings.warn(smsg, UserWarning)\n",
            "c:\\Users\\danie\\AppData\\Local\\Programs\\Python\\Python312\\Lib\\site-packages\\xgboost\\core.py:158: UserWarning: [17:54:47] WARNING: C:\\buildkite-agent\\builds\\buildkite-windows-cpu-autoscaling-group-i-08cbc0333d8d4aae1-1\\xgboost\\xgboost-ci-windows\\src\\learner.cc:740: \n",
            "Parameters: { \"use_label_encoder\" } are not used.\n",
            "\n",
            "  warnings.warn(smsg, UserWarning)\n"
          ]
        },
        {
          "name": "stdout",
          "output_type": "stream",
          "text": [
            "Precisión media en validación cruzada: 0.97704\n",
            "Desviación estándar en validación cruzada: 0.0014249210504445546\n"
          ]
        }
      ],
      "source": [
        "import numpy as np\n",
        "import xgboost as xgb\n",
        "from sklearn.model_selection import RandomizedSearchCV, cross_val_score, StratifiedKFold\n",
        "from sklearn.datasets import make_classification\n",
        "\n",
        "\n",
        "X, y = make_classification(n_samples=50000, n_features=20, random_state=42)\n",
        "\n",
        "xgb_model = xgb.XGBClassifier(use_label_encoder=False, eval_metric=\"logloss\")\n",
        "\n",
        "param_dist = {\n",
        "    'n_estimators': np.arange(50, 500, 50),\n",
        "    'max_depth': np.arange(3, 15),\n",
        "    'learning_rate': np.linspace(0.01, 0.3, 20),\n",
        "    'subsample': np.linspace(0.5, 1.0, 20),\n",
        "    'colsample_bytree': np.linspace(0.5, 1.0, 20),\n",
        "    'gamma': np.linspace(0, 1.0, 10),\n",
        "}\n",
        "\n",
        "random_search = RandomizedSearchCV(\n",
        "    estimator=xgb_model,\n",
        "    param_distributions=param_dist,\n",
        "    n_iter=50,\n",
        "    scoring='accuracy',\n",
        "    cv=10,\n",
        "    verbose=1,\n",
        "    n_jobs=-1,\n",
        "    random_state=42\n",
        ")\n",
        "\n",
        "random_search.fit(X, y)\n",
        "\n",
        "best_model = random_search.best_estimator_\n",
        "print(\"Mejores hiperparámetros:\", random_search.best_params_)\n",
        "\n",
        "cv = StratifiedKFold(n_splits=10, shuffle=True, random_state=42)\n",
        "cv_scores = cross_val_score(best_model, X, y, cv=cv, scoring='accuracy')\n",
        "\n",
        "print(\"Precisión media en validación cruzada:\", np.mean(cv_scores))\n",
        "print(\"Desviación estándar en validación cruzada:\", np.std(cv_scores))\n"
      ]
    },
    {
      "cell_type": "code",
      "execution_count": 79,
      "metadata": {
        "colab": {
          "base_uri": "https://localhost:8080/"
        },
        "id": "NyhD9-r9VtaX",
        "outputId": "8d24e684-a73e-494d-c2f4-87f951e7a47f"
      },
      "outputs": [
        {
          "name": "stdout",
          "output_type": "stream",
          "text": [
            "Modelo guardado como modelo_xgboost.pkl\n"
          ]
        }
      ],
      "source": [
        "import joblib\n",
        "\n",
        "joblib.dump(best_model, \"modelo_xgboostbest.pkl\")\n",
        "print(\"Modelo guardado como modelo_xgboost.pkl\")\n"
      ]
    },
    {
      "cell_type": "code",
      "execution_count": 82,
      "metadata": {
        "colab": {
          "base_uri": "https://localhost:8080/"
        },
        "id": "qOM-9n3rjAGc",
        "outputId": "7a224a15-ea90-4eba-dacf-6ac519e629b1"
      },
      "outputs": [
        {
          "name": "stdout",
          "output_type": "stream",
          "text": [
            "Fitting 10 folds for each of 50 candidates, totalling 500 fits\n"
          ]
        },
        {
          "name": "stderr",
          "output_type": "stream",
          "text": [
            "c:\\Users\\danie\\AppData\\Local\\Programs\\Python\\Python312\\Lib\\site-packages\\xgboost\\core.py:158: UserWarning: [18:10:16] WARNING: C:\\buildkite-agent\\builds\\buildkite-windows-cpu-autoscaling-group-i-08cbc0333d8d4aae1-1\\xgboost\\xgboost-ci-windows\\src\\learner.cc:740: \n",
            "Parameters: { \"use_label_encoder\" } are not used.\n",
            "\n",
            "  warnings.warn(smsg, UserWarning)\n"
          ]
        },
        {
          "name": "stdout",
          "output_type": "stream",
          "text": [
            "Mejores hiperparámetros: {'subsample': np.float64(0.8157894736842105), 'n_estimators': np.int64(50), 'max_depth': np.int64(5), 'learning_rate': np.float64(0.13210526315789473), 'gamma': np.float64(0.1111111111111111), 'colsample_bytree': np.float64(0.9473684210526315)}\n"
          ]
        }
      ],
      "source": [
        "import numpy as np\n",
        "import xgboost as xgb\n",
        "from sklearn.model_selection import RandomizedSearchCV, cross_val_score, StratifiedKFold\n",
        "from sklearn.datasets import make_classification\n",
        "import pickle\n",
        "\n",
        "# Generar datos de ejemplo\n",
        "X, y = make_classification(n_samples=50000, n_features=20, random_state=42)\n",
        "\n",
        "# Definir el modelo XGBoost\n",
        "xgb_model = xgb.XGBClassifier(use_label_encoder=False, eval_metric=\"logloss\")\n",
        "\n",
        "# Espacio de búsqueda de hiperparámetros\n",
        "param_dist = {\n",
        "    'n_estimators': np.arange(50, 500, 50),\n",
        "    'max_depth': np.arange(3, 15),\n",
        "    'learning_rate': np.linspace(0.01, 0.3, 20),\n",
        "    'subsample': np.linspace(0.5, 1.0, 20),\n",
        "    'colsample_bytree': np.linspace(0.5, 1.0, 20),\n",
        "    'gamma': np.linspace(0, 1.0, 10),\n",
        "}\n",
        "\n",
        "# Búsqueda aleatoria de hiperparámetros\n",
        "random_search = RandomizedSearchCV(\n",
        "    estimator=xgb_model,\n",
        "    param_distributions=param_dist,\n",
        "    n_iter=50,\n",
        "    scoring='accuracy',\n",
        "    cv=10,\n",
        "    verbose=1,\n",
        "    n_jobs=-1,\n",
        "    random_state=42\n",
        ")\n",
        "\n",
        "random_search.fit(X, y)\n",
        "\n",
        "# Mejor modelo encontrado\n",
        "best_model = random_search.best_estimator_\n",
        "print(\"Mejores hiperparámetros:\", random_search.best_params_)\n",
        "\n",
        "# Guardar el modelo y los nombres de las características\n",
        "feature_names = [f\"feature_{i}\" for i in range(X.shape[1])]  # Nombres de las características\n",
        "best_model.get_booster().feature_names = feature_names  # Asignar nombres al modelo\n",
        "\n",
        "# Guardar el modelo entrenado\n",
        "with open(\"modelo_xgboostbest.pkl\", \"wb\") as file:\n",
        "    pickle.dump(best_model, file)\n",
        "\n",
        "# Guardar los nombres de las características\n",
        "with open(\"feature_names.pkl\", \"wb\") as file:\n",
        "    pickle.dump(feature_names, file)"
      ]
    },
    {
      "cell_type": "code",
      "execution_count": 83,
      "metadata": {
        "colab": {
          "base_uri": "https://localhost:8080/"
        },
        "id": "Lm0Yb11heKjv",
        "outputId": "37481994-5a82-4a44-ac23-a31e5083bfca"
      },
      "outputs": [
        {
          "ename": "ValueError",
          "evalue": "DataFrame.dtypes for data must be int, float, bool or category. When categorical type is supplied, the experimental DMatrix parameter`enable_categorical` must be set to `True`.  Invalid columns:words1: object",
          "output_type": "error",
          "traceback": [
            "\u001b[1;31m---------------------------------------------------------------------------\u001b[0m",
            "\u001b[1;31mValueError\u001b[0m                                Traceback (most recent call last)",
            "Cell \u001b[1;32mIn[83], line 5\u001b[0m\n\u001b[0;32m      1\u001b[0m \u001b[38;5;28;01mfrom\u001b[39;00m\u001b[38;5;250m \u001b[39m\u001b[38;5;21;01msklearn\u001b[39;00m\u001b[38;5;21;01m.\u001b[39;00m\u001b[38;5;21;01mmetrics\u001b[39;00m\u001b[38;5;250m \u001b[39m\u001b[38;5;28;01mimport\u001b[39;00m accuracy_score, precision_score, recall_score, f1_score, confusion_matrix\n\u001b[0;32m      3\u001b[0m \u001b[38;5;66;03m# Suponiendo que ya tienes los datos de prueba y las etiquetas verdaderas\u001b[39;00m\n\u001b[0;32m      4\u001b[0m \u001b[38;5;66;03m# X_test, y_test deben estar cargados previamente\u001b[39;00m\n\u001b[1;32m----> 5\u001b[0m y_pred \u001b[38;5;241m=\u001b[39m \u001b[43mbest_model\u001b[49m\u001b[38;5;241;43m.\u001b[39;49m\u001b[43mpredict\u001b[49m\u001b[43m(\u001b[49m\u001b[43mX_test\u001b[49m\u001b[43m)\u001b[49m\n\u001b[0;32m      7\u001b[0m \u001b[38;5;66;03m# Calcular métricas\u001b[39;00m\n\u001b[0;32m      8\u001b[0m accuracy \u001b[38;5;241m=\u001b[39m accuracy_score(y_test, y_pred)\n",
            "File \u001b[1;32mc:\\Users\\danie\\AppData\\Local\\Programs\\Python\\Python312\\Lib\\site-packages\\xgboost\\sklearn.py:1633\u001b[0m, in \u001b[0;36mXGBClassifier.predict\u001b[1;34m(self, X, output_margin, validate_features, base_margin, iteration_range)\u001b[0m\n\u001b[0;32m   1624\u001b[0m \u001b[38;5;28;01mdef\u001b[39;00m\u001b[38;5;250m \u001b[39m\u001b[38;5;21mpredict\u001b[39m(\n\u001b[0;32m   1625\u001b[0m     \u001b[38;5;28mself\u001b[39m,\n\u001b[0;32m   1626\u001b[0m     X: ArrayLike,\n\u001b[1;32m   (...)\u001b[0m\n\u001b[0;32m   1630\u001b[0m     iteration_range: Optional[IterationRange] \u001b[38;5;241m=\u001b[39m \u001b[38;5;28;01mNone\u001b[39;00m,\n\u001b[0;32m   1631\u001b[0m ) \u001b[38;5;241m-\u001b[39m\u001b[38;5;241m>\u001b[39m ArrayLike:\n\u001b[0;32m   1632\u001b[0m     \u001b[38;5;28;01mwith\u001b[39;00m config_context(verbosity\u001b[38;5;241m=\u001b[39m\u001b[38;5;28mself\u001b[39m\u001b[38;5;241m.\u001b[39mverbosity):\n\u001b[1;32m-> 1633\u001b[0m         class_probs \u001b[38;5;241m=\u001b[39m \u001b[38;5;28;43msuper\u001b[39;49m\u001b[43m(\u001b[49m\u001b[43m)\u001b[49m\u001b[38;5;241;43m.\u001b[39;49m\u001b[43mpredict\u001b[49m\u001b[43m(\u001b[49m\n\u001b[0;32m   1634\u001b[0m \u001b[43m            \u001b[49m\u001b[43mX\u001b[49m\u001b[38;5;241;43m=\u001b[39;49m\u001b[43mX\u001b[49m\u001b[43m,\u001b[49m\n\u001b[0;32m   1635\u001b[0m \u001b[43m            \u001b[49m\u001b[43moutput_margin\u001b[49m\u001b[38;5;241;43m=\u001b[39;49m\u001b[43moutput_margin\u001b[49m\u001b[43m,\u001b[49m\n\u001b[0;32m   1636\u001b[0m \u001b[43m            \u001b[49m\u001b[43mvalidate_features\u001b[49m\u001b[38;5;241;43m=\u001b[39;49m\u001b[43mvalidate_features\u001b[49m\u001b[43m,\u001b[49m\n\u001b[0;32m   1637\u001b[0m \u001b[43m            \u001b[49m\u001b[43mbase_margin\u001b[49m\u001b[38;5;241;43m=\u001b[39;49m\u001b[43mbase_margin\u001b[49m\u001b[43m,\u001b[49m\n\u001b[0;32m   1638\u001b[0m \u001b[43m            \u001b[49m\u001b[43miteration_range\u001b[49m\u001b[38;5;241;43m=\u001b[39;49m\u001b[43miteration_range\u001b[49m\u001b[43m,\u001b[49m\n\u001b[0;32m   1639\u001b[0m \u001b[43m        \u001b[49m\u001b[43m)\u001b[49m\n\u001b[0;32m   1640\u001b[0m         \u001b[38;5;28;01mif\u001b[39;00m output_margin:\n\u001b[0;32m   1641\u001b[0m             \u001b[38;5;66;03m# If output_margin is active, simply return the scores\u001b[39;00m\n\u001b[0;32m   1642\u001b[0m             \u001b[38;5;28;01mreturn\u001b[39;00m class_probs\n",
            "File \u001b[1;32mc:\\Users\\danie\\AppData\\Local\\Programs\\Python\\Python312\\Lib\\site-packages\\xgboost\\sklearn.py:1248\u001b[0m, in \u001b[0;36mXGBModel.predict\u001b[1;34m(self, X, output_margin, validate_features, base_margin, iteration_range)\u001b[0m\n\u001b[0;32m   1246\u001b[0m \u001b[38;5;28;01mif\u001b[39;00m \u001b[38;5;28mself\u001b[39m\u001b[38;5;241m.\u001b[39m_can_use_inplace_predict():\n\u001b[0;32m   1247\u001b[0m     \u001b[38;5;28;01mtry\u001b[39;00m:\n\u001b[1;32m-> 1248\u001b[0m         predts \u001b[38;5;241m=\u001b[39m \u001b[38;5;28;43mself\u001b[39;49m\u001b[38;5;241;43m.\u001b[39;49m\u001b[43mget_booster\u001b[49m\u001b[43m(\u001b[49m\u001b[43m)\u001b[49m\u001b[38;5;241;43m.\u001b[39;49m\u001b[43minplace_predict\u001b[49m\u001b[43m(\u001b[49m\n\u001b[0;32m   1249\u001b[0m \u001b[43m            \u001b[49m\u001b[43mdata\u001b[49m\u001b[38;5;241;43m=\u001b[39;49m\u001b[43mX\u001b[49m\u001b[43m,\u001b[49m\n\u001b[0;32m   1250\u001b[0m \u001b[43m            \u001b[49m\u001b[43miteration_range\u001b[49m\u001b[38;5;241;43m=\u001b[39;49m\u001b[43miteration_range\u001b[49m\u001b[43m,\u001b[49m\n\u001b[0;32m   1251\u001b[0m \u001b[43m            \u001b[49m\u001b[43mpredict_type\u001b[49m\u001b[38;5;241;43m=\u001b[39;49m\u001b[38;5;124;43m\"\u001b[39;49m\u001b[38;5;124;43mmargin\u001b[39;49m\u001b[38;5;124;43m\"\u001b[39;49m\u001b[43m \u001b[49m\u001b[38;5;28;43;01mif\u001b[39;49;00m\u001b[43m \u001b[49m\u001b[43moutput_margin\u001b[49m\u001b[43m \u001b[49m\u001b[38;5;28;43;01melse\u001b[39;49;00m\u001b[43m \u001b[49m\u001b[38;5;124;43m\"\u001b[39;49m\u001b[38;5;124;43mvalue\u001b[39;49m\u001b[38;5;124;43m\"\u001b[39;49m\u001b[43m,\u001b[49m\n\u001b[0;32m   1252\u001b[0m \u001b[43m            \u001b[49m\u001b[43mmissing\u001b[49m\u001b[38;5;241;43m=\u001b[39;49m\u001b[38;5;28;43mself\u001b[39;49m\u001b[38;5;241;43m.\u001b[39;49m\u001b[43mmissing\u001b[49m\u001b[43m,\u001b[49m\n\u001b[0;32m   1253\u001b[0m \u001b[43m            \u001b[49m\u001b[43mbase_margin\u001b[49m\u001b[38;5;241;43m=\u001b[39;49m\u001b[43mbase_margin\u001b[49m\u001b[43m,\u001b[49m\n\u001b[0;32m   1254\u001b[0m \u001b[43m            \u001b[49m\u001b[43mvalidate_features\u001b[49m\u001b[38;5;241;43m=\u001b[39;49m\u001b[43mvalidate_features\u001b[49m\u001b[43m,\u001b[49m\n\u001b[0;32m   1255\u001b[0m \u001b[43m        \u001b[49m\u001b[43m)\u001b[49m\n\u001b[0;32m   1256\u001b[0m         \u001b[38;5;28;01mif\u001b[39;00m _is_cupy_alike(predts):\n\u001b[0;32m   1257\u001b[0m             \u001b[38;5;28;01mimport\u001b[39;00m\u001b[38;5;250m \u001b[39m\u001b[38;5;21;01mcupy\u001b[39;00m  \u001b[38;5;66;03m# pylint: disable=import-error\u001b[39;00m\n",
            "File \u001b[1;32mc:\\Users\\danie\\AppData\\Local\\Programs\\Python\\Python312\\Lib\\site-packages\\xgboost\\core.py:2512\u001b[0m, in \u001b[0;36mBooster.inplace_predict\u001b[1;34m(self, data, iteration_range, predict_type, missing, validate_features, base_margin, strict_shape)\u001b[0m\n\u001b[0;32m   2510\u001b[0m     data \u001b[38;5;241m=\u001b[39m pd\u001b[38;5;241m.\u001b[39mDataFrame(data)\n\u001b[0;32m   2511\u001b[0m \u001b[38;5;28;01mif\u001b[39;00m _is_pandas_df(data):\n\u001b[1;32m-> 2512\u001b[0m     data, fns, _ \u001b[38;5;241m=\u001b[39m \u001b[43m_transform_pandas_df\u001b[49m\u001b[43m(\u001b[49m\u001b[43mdata\u001b[49m\u001b[43m,\u001b[49m\u001b[43m \u001b[49m\u001b[43menable_categorical\u001b[49m\u001b[43m)\u001b[49m\n\u001b[0;32m   2513\u001b[0m     \u001b[38;5;28;01mif\u001b[39;00m validate_features:\n\u001b[0;32m   2514\u001b[0m         \u001b[38;5;28mself\u001b[39m\u001b[38;5;241m.\u001b[39m_validate_features(fns)\n",
            "File \u001b[1;32mc:\\Users\\danie\\AppData\\Local\\Programs\\Python\\Python312\\Lib\\site-packages\\xgboost\\data.py:603\u001b[0m, in \u001b[0;36m_transform_pandas_df\u001b[1;34m(data, enable_categorical, feature_names, feature_types, meta)\u001b[0m\n\u001b[0;32m    596\u001b[0m \u001b[38;5;28;01mdef\u001b[39;00m\u001b[38;5;250m \u001b[39m\u001b[38;5;21m_transform_pandas_df\u001b[39m(\n\u001b[0;32m    597\u001b[0m     data: DataFrame,\n\u001b[0;32m    598\u001b[0m     enable_categorical: \u001b[38;5;28mbool\u001b[39m,\n\u001b[1;32m   (...)\u001b[0m\n\u001b[0;32m    601\u001b[0m     meta: Optional[\u001b[38;5;28mstr\u001b[39m] \u001b[38;5;241m=\u001b[39m \u001b[38;5;28;01mNone\u001b[39;00m,\n\u001b[0;32m    602\u001b[0m ) \u001b[38;5;241m-\u001b[39m\u001b[38;5;241m>\u001b[39m Tuple[PandasTransformed, Optional[FeatureNames], Optional[FeatureTypes]]:\n\u001b[1;32m--> 603\u001b[0m     \u001b[43mpandas_check_dtypes\u001b[49m\u001b[43m(\u001b[49m\u001b[43mdata\u001b[49m\u001b[43m,\u001b[49m\u001b[43m \u001b[49m\u001b[43menable_categorical\u001b[49m\u001b[43m)\u001b[49m\n\u001b[0;32m    604\u001b[0m     \u001b[38;5;28;01mif\u001b[39;00m meta \u001b[38;5;129;01mand\u001b[39;00m \u001b[38;5;28mlen\u001b[39m(data\u001b[38;5;241m.\u001b[39mcolumns) \u001b[38;5;241m>\u001b[39m \u001b[38;5;241m1\u001b[39m \u001b[38;5;129;01mand\u001b[39;00m meta \u001b[38;5;129;01mnot\u001b[39;00m \u001b[38;5;129;01min\u001b[39;00m _matrix_meta:\n\u001b[0;32m    605\u001b[0m         \u001b[38;5;28;01mraise\u001b[39;00m \u001b[38;5;167;01mValueError\u001b[39;00m(\u001b[38;5;124mf\u001b[39m\u001b[38;5;124m\"\u001b[39m\u001b[38;5;124mDataFrame for \u001b[39m\u001b[38;5;132;01m{\u001b[39;00mmeta\u001b[38;5;132;01m}\u001b[39;00m\u001b[38;5;124m cannot have multiple columns\u001b[39m\u001b[38;5;124m\"\u001b[39m)\n",
            "File \u001b[1;32mc:\\Users\\danie\\AppData\\Local\\Programs\\Python\\Python312\\Lib\\site-packages\\xgboost\\data.py:569\u001b[0m, in \u001b[0;36mpandas_check_dtypes\u001b[1;34m(data, enable_categorical)\u001b[0m\n\u001b[0;32m    562\u001b[0m \u001b[38;5;28;01mfor\u001b[39;00m dtype \u001b[38;5;129;01min\u001b[39;00m data\u001b[38;5;241m.\u001b[39mdtypes:\n\u001b[0;32m    563\u001b[0m     \u001b[38;5;28;01mif\u001b[39;00m \u001b[38;5;129;01mnot\u001b[39;00m (\n\u001b[0;32m    564\u001b[0m         (dtype\u001b[38;5;241m.\u001b[39mname \u001b[38;5;129;01min\u001b[39;00m _pandas_dtype_mapper)\n\u001b[0;32m    565\u001b[0m         \u001b[38;5;129;01mor\u001b[39;00m is_pd_sparse_dtype(dtype)\n\u001b[0;32m    566\u001b[0m         \u001b[38;5;129;01mor\u001b[39;00m (is_pd_cat_dtype(dtype) \u001b[38;5;129;01mand\u001b[39;00m enable_categorical)\n\u001b[0;32m    567\u001b[0m         \u001b[38;5;129;01mor\u001b[39;00m is_pa_ext_dtype(dtype)\n\u001b[0;32m    568\u001b[0m     ):\n\u001b[1;32m--> 569\u001b[0m         \u001b[43m_invalid_dataframe_dtype\u001b[49m\u001b[43m(\u001b[49m\u001b[43mdata\u001b[49m\u001b[43m)\u001b[49m\n\u001b[0;32m    571\u001b[0m     \u001b[38;5;28;01mif\u001b[39;00m is_pd_sparse_dtype(dtype):\n\u001b[0;32m    572\u001b[0m         sparse_extension \u001b[38;5;241m=\u001b[39m \u001b[38;5;28;01mTrue\u001b[39;00m\n",
            "File \u001b[1;32mc:\\Users\\danie\\AppData\\Local\\Programs\\Python\\Python312\\Lib\\site-packages\\xgboost\\data.py:356\u001b[0m, in \u001b[0;36m_invalid_dataframe_dtype\u001b[1;34m(data)\u001b[0m\n\u001b[0;32m    354\u001b[0m type_err \u001b[38;5;241m=\u001b[39m \u001b[38;5;124m\"\u001b[39m\u001b[38;5;124mDataFrame.dtypes for data must be int, float, bool or category.\u001b[39m\u001b[38;5;124m\"\u001b[39m\n\u001b[0;32m    355\u001b[0m msg \u001b[38;5;241m=\u001b[39m \u001b[38;5;124mf\u001b[39m\u001b[38;5;124m\"\"\"\u001b[39m\u001b[38;5;132;01m{\u001b[39;00mtype_err\u001b[38;5;132;01m}\u001b[39;00m\u001b[38;5;124m \u001b[39m\u001b[38;5;132;01m{\u001b[39;00m_ENABLE_CAT_ERR\u001b[38;5;132;01m}\u001b[39;00m\u001b[38;5;124m \u001b[39m\u001b[38;5;132;01m{\u001b[39;00merr\u001b[38;5;132;01m}\u001b[39;00m\u001b[38;5;124m\"\"\"\u001b[39m\n\u001b[1;32m--> 356\u001b[0m \u001b[38;5;28;01mraise\u001b[39;00m \u001b[38;5;167;01mValueError\u001b[39;00m(msg)\n",
            "\u001b[1;31mValueError\u001b[0m: DataFrame.dtypes for data must be int, float, bool or category. When categorical type is supplied, the experimental DMatrix parameter`enable_categorical` must be set to `True`.  Invalid columns:words1: object"
          ]
        }
      ],
      "source": [
        "from sklearn.metrics import accuracy_score, precision_score, recall_score, f1_score, confusion_matrix\n",
        "\n",
        "# Suponiendo que ya tienes los datos de prueba y las etiquetas verdaderas\n",
        "# X_test, y_test deben estar cargados previamente\n",
        "y_pred = best_model.predict(X_test)\n",
        "\n",
        "# Calcular métricas\n",
        "accuracy = accuracy_score(y_test, y_pred)\n",
        "precision = precision_score(y_test, y_pred)\n",
        "recall = recall_score(y_test, y_pred)\n",
        "f1 = f1_score(y_test, y_pred)\n",
        "conf_matrix = confusion_matrix(y_test, y_pred)\n",
        "\n",
        "# Mostrar resultados\n",
        "print(f\"Exactitud (Accuracy): {accuracy:.4f}\")\n",
        "print(f\"Precisión (Precision): {precision:.4f}\")\n",
        "print(f\"Recall (Sensibilidad): {recall:.4f}\")\n",
        "print(f\"F1-Score: {f1:.4f}\")\n",
        "print(\"\\nMatriz de confusión:\")\n",
        "print(conf_matrix)\n"
      ]
    },
    {
      "cell_type": "code",
      "execution_count": null,
      "metadata": {
        "colab": {
          "base_uri": "https://localhost:8080/",
          "height": 487
        },
        "id": "r_Z2iyV3c3a-",
        "outputId": "78b082ad-7336-4cb2-f3fe-7c2fd624b890"
      },
      "outputs": [
        {
          "data": {
            "image/png": "[encoded data removed]",
            "text/plain": [
              "<Figure size 600x500 with 2 Axes>"
            ]
          },
          "metadata": {},
          "output_type": "display_data"
        }
      ],
      "source": [
        "import matplotlib.pyplot as plt\n",
        "import seaborn as sns\n",
        "from sklearn.metrics import confusion_matrix\n",
        "from sklearn.model_selection import train_test_split\n",
        "\n",
        "# Dividir datos en entrenamiento y prueba\n",
        "X_train, X_test, y_train, y_test = train_test_split(X, y, test_size=0.2, random_state=42)\n",
        "\n",
        "# Predecir en el conjunto de prueba\n",
        "y_pred = best_model.predict(X_test)\n",
        "\n",
        "# Calcular matriz de confusión\n",
        "cm = confusion_matrix(y_test, y_pred)\n",
        "\n",
        "# Graficar la matriz de confusión\n",
        "plt.figure(figsize=(6, 5))\n",
        "sns.heatmap(cm, annot=True, fmt=\"d\", cmap=\"Blues\", xticklabels=[\"Clase 0\", \"Clase 1\"], yticklabels=[\"Clase 0\", \"Clase 1\"])\n",
        "plt.xlabel(\"Predicción\")\n",
        "plt.ylabel(\"Realidad\")\n",
        "plt.title(\"Matriz de Confusión\")\n",
        "plt.show()\n"
      ]
    },
    {
      "cell_type": "code",
      "execution_count": null,
      "metadata": {
        "colab": {
          "base_uri": "https://localhost:8080/"
        },
        "id": "mmTuSlo2fZ3q",
        "outputId": "9d5f6707-de5d-4535-cfff-e5cfd2c812ba"
      },
      "outputs": [
        {
          "name": "stdout",
          "output_type": "stream",
          "text": [
            "Columnas en el archivo CSV: ['ID', 'Label', 'Titulo', 'Descripcion', 'Fecha']\n",
            "El modelo espera las siguientes columnas: None\n",
            "Error: El archivo CSV no contiene la columna esperada: None\n"
          ]
        }
      ],
      "source": [
        "import pandas as pd\n",
        "import pickle\n",
        "from datetime import datetime\n",
        "\n",
        "# Cargar el modelo entrenado\n",
        "with open(\"modelo_xgboostbest.pkl\", \"rb\") as file:\n",
        "    best_model = pickle.load(file)\n",
        "\n",
        "# Cargar los datos de prueba\n",
        "df_original = pd.read_csv(\"fake_news_spanish.csv\", sep=\";\")\n",
        "\n",
        "# Verificar qué columnas tiene el CSV original\n",
        "print(\"Columnas en el archivo CSV:\", df_original.columns.tolist())\n",
        "\n",
        "# Seleccionar solo las columnas que el modelo espera\n",
        "try:\n",
        "    feature_names = best_model.get_booster().feature_names  # Obtener nombres de las features del modelo\n",
        "    print(\"El modelo espera las siguientes columnas:\", feature_names)\n",
        "\n",
        "    # Filtrar las columnas correctas para X_test\n",
        "    X_test = df_original[feature_names]\n",
        "\n",
        "    # Verificar si X_test quedó vacío\n",
        "    if X_test.shape[1] == 0:\n",
        "        raise ValueError(\"Error: X_test no tiene columnas después del filtrado.\")\n",
        "\n",
        "    # Generar predicciones con el modelo cargado\n",
        "    df_original[\"Etiqueta Predicha\"] = best_model.predict(X_test)\n",
        "\n",
        "    # Crear un nombre de archivo único\n",
        "    timestamp = datetime.now().strftime(\"%Y%m%d_%H%M%S\")\n",
        "    filename = f\"fake_news_spanish_pred_{timestamp}.csv\"\n",
        "\n",
        "    # Guardar el archivo con el mismo formato original\n",
        "    df_original.to_csv(filename, sep=\";\", index=False)\n",
        "\n",
        "    print(f\"Archivo generado correctamente: {filename}\")\n",
        "\n",
        "except KeyError as e:\n",
        "    print(f\"Error: El archivo CSV no contiene la columna esperada: {e}\")\n",
        "except ValueError as e:\n",
        "    print(e)\n"
      ]
    },
    {
      "cell_type": "markdown",
      "metadata": {
        "id": "Oy56yDAFhyNe"
      },
      "source": []
    },
    {
      "cell_type": "code",
      "execution_count": null,
      "metadata": {
        "colab": {
          "base_uri": "https://localhost:8080/",
          "height": 356
        },
        "id": "M9KorEAuVa63",
        "outputId": "aaecfdc7-cd2c-493c-d20f-d86a2d344f7b"
      },
      "outputs": [
        {
          "ename": "ValueError",
          "evalue": "Length of values (10000) does not match length of index (57063)",
          "output_type": "error",
          "traceback": [
            "\u001b[0;31m---------------------------------------------------------------------------\u001b[0m",
            "\u001b[0;31mValueError\u001b[0m                                Traceback (most recent call last)",
            "\u001b[0;32m<ipython-input-61-728b0e9d7923>\u001b[0m in \u001b[0;36m<cell line: 0>\u001b[0;34m()\u001b[0m\n\u001b[1;32m      8\u001b[0m \u001b[0;32mif\u001b[0m \u001b[0;34m\"Label\"\u001b[0m \u001b[0;32min\u001b[0m \u001b[0mdf_original\u001b[0m\u001b[0;34m.\u001b[0m\u001b[0mcolumns\u001b[0m\u001b[0;34m:\u001b[0m\u001b[0;34m\u001b[0m\u001b[0;34m\u001b[0m\u001b[0m\n\u001b[1;32m      9\u001b[0m     \u001b[0my_test\u001b[0m \u001b[0;34m=\u001b[0m \u001b[0mdf_original\u001b[0m\u001b[0;34m[\u001b[0m\u001b[0;34m\"Label\"\u001b[0m\u001b[0;34m]\u001b[0m  \u001b[0;31m# Etiquetas reales\u001b[0m\u001b[0;34m\u001b[0m\u001b[0;34m\u001b[0m\u001b[0m\n\u001b[0;32m---> 10\u001b[0;31m     \u001b[0mdf_original\u001b[0m\u001b[0;34m[\u001b[0m\u001b[0;34m\"Etiqueta Predicha\"\u001b[0m\u001b[0;34m]\u001b[0m \u001b[0;34m=\u001b[0m \u001b[0mbest_model\u001b[0m\u001b[0;34m.\u001b[0m\u001b[0mpredict\u001b[0m\u001b[0;34m(\u001b[0m\u001b[0mX_test\u001b[0m\u001b[0;34m)\u001b[0m  \u001b[0;31m# Agregar la etiqueta predicha\u001b[0m\u001b[0;34m\u001b[0m\u001b[0;34m\u001b[0m\u001b[0m\n\u001b[0m\u001b[1;32m     11\u001b[0m \u001b[0;34m\u001b[0m\u001b[0m\n\u001b[1;32m     12\u001b[0m     \u001b[0;31m# Crear un nombre único para el archivo de salida\u001b[0m\u001b[0;34m\u001b[0m\u001b[0;34m\u001b[0m\u001b[0m\n",
            "\u001b[0;32m/usr/local/lib/python3.11/dist-packages/pandas/core/frame.py\u001b[0m in \u001b[0;36m__setitem__\u001b[0;34m(self, key, value)\u001b[0m\n\u001b[1;32m   4309\u001b[0m         \u001b[0;32melse\u001b[0m\u001b[0;34m:\u001b[0m\u001b[0;34m\u001b[0m\u001b[0;34m\u001b[0m\u001b[0m\n\u001b[1;32m   4310\u001b[0m             \u001b[0;31m# set column\u001b[0m\u001b[0;34m\u001b[0m\u001b[0;34m\u001b[0m\u001b[0m\n\u001b[0;32m-> 4311\u001b[0;31m             \u001b[0mself\u001b[0m\u001b[0;34m.\u001b[0m\u001b[0m_set_item\u001b[0m\u001b[0;34m(\u001b[0m\u001b[0mkey\u001b[0m\u001b[0;34m,\u001b[0m \u001b[0mvalue\u001b[0m\u001b[0;34m)\u001b[0m\u001b[0;34m\u001b[0m\u001b[0;34m\u001b[0m\u001b[0m\n\u001b[0m\u001b[1;32m   4312\u001b[0m \u001b[0;34m\u001b[0m\u001b[0m\n\u001b[1;32m   4313\u001b[0m     \u001b[0;32mdef\u001b[0m \u001b[0m_setitem_slice\u001b[0m\u001b[0;34m(\u001b[0m\u001b[0mself\u001b[0m\u001b[0;34m,\u001b[0m \u001b[0mkey\u001b[0m\u001b[0;34m:\u001b[0m \u001b[0mslice\u001b[0m\u001b[0;34m,\u001b[0m \u001b[0mvalue\u001b[0m\u001b[0;34m)\u001b[0m \u001b[0;34m->\u001b[0m \u001b[0;32mNone\u001b[0m\u001b[0;34m:\u001b[0m\u001b[0;34m\u001b[0m\u001b[0;34m\u001b[0m\u001b[0m\n",
            "\u001b[0;32m/usr/local/lib/python3.11/dist-packages/pandas/core/frame.py\u001b[0m in \u001b[0;36m_set_item\u001b[0;34m(self, key, value)\u001b[0m\n\u001b[1;32m   4522\u001b[0m         \u001b[0mensure\u001b[0m \u001b[0mhomogeneity\u001b[0m\u001b[0;34m.\u001b[0m\u001b[0;34m\u001b[0m\u001b[0;34m\u001b[0m\u001b[0m\n\u001b[1;32m   4523\u001b[0m         \"\"\"\n\u001b[0;32m-> 4524\u001b[0;31m         \u001b[0mvalue\u001b[0m\u001b[0;34m,\u001b[0m \u001b[0mrefs\u001b[0m \u001b[0;34m=\u001b[0m \u001b[0mself\u001b[0m\u001b[0;34m.\u001b[0m\u001b[0m_sanitize_column\u001b[0m\u001b[0;34m(\u001b[0m\u001b[0mvalue\u001b[0m\u001b[0;34m)\u001b[0m\u001b[0;34m\u001b[0m\u001b[0;34m\u001b[0m\u001b[0m\n\u001b[0m\u001b[1;32m   4525\u001b[0m \u001b[0;34m\u001b[0m\u001b[0m\n\u001b[1;32m   4526\u001b[0m         if (\n",
            "\u001b[0;32m/usr/local/lib/python3.11/dist-packages/pandas/core/frame.py\u001b[0m in \u001b[0;36m_sanitize_column\u001b[0;34m(self, value)\u001b[0m\n\u001b[1;32m   5264\u001b[0m \u001b[0;34m\u001b[0m\u001b[0m\n\u001b[1;32m   5265\u001b[0m         \u001b[0;32mif\u001b[0m \u001b[0mis_list_like\u001b[0m\u001b[0;34m(\u001b[0m\u001b[0mvalue\u001b[0m\u001b[0;34m)\u001b[0m\u001b[0;34m:\u001b[0m\u001b[0;34m\u001b[0m\u001b[0;34m\u001b[0m\u001b[0m\n\u001b[0;32m-> 5266\u001b[0;31m             \u001b[0mcom\u001b[0m\u001b[0;34m.\u001b[0m\u001b[0mrequire_length_match\u001b[0m\u001b[0;34m(\u001b[0m\u001b[0mvalue\u001b[0m\u001b[0;34m,\u001b[0m \u001b[0mself\u001b[0m\u001b[0;34m.\u001b[0m\u001b[0mindex\u001b[0m\u001b[0;34m)\u001b[0m\u001b[0;34m\u001b[0m\u001b[0;34m\u001b[0m\u001b[0m\n\u001b[0m\u001b[1;32m   5267\u001b[0m         \u001b[0marr\u001b[0m \u001b[0;34m=\u001b[0m \u001b[0msanitize_array\u001b[0m\u001b[0;34m(\u001b[0m\u001b[0mvalue\u001b[0m\u001b[0;34m,\u001b[0m \u001b[0mself\u001b[0m\u001b[0;34m.\u001b[0m\u001b[0mindex\u001b[0m\u001b[0;34m,\u001b[0m \u001b[0mcopy\u001b[0m\u001b[0;34m=\u001b[0m\u001b[0;32mTrue\u001b[0m\u001b[0;34m,\u001b[0m \u001b[0mallow_2d\u001b[0m\u001b[0;34m=\u001b[0m\u001b[0;32mTrue\u001b[0m\u001b[0;34m)\u001b[0m\u001b[0;34m\u001b[0m\u001b[0;34m\u001b[0m\u001b[0m\n\u001b[1;32m   5268\u001b[0m         if (\n",
            "\u001b[0;32m/usr/local/lib/python3.11/dist-packages/pandas/core/common.py\u001b[0m in \u001b[0;36mrequire_length_match\u001b[0;34m(data, index)\u001b[0m\n\u001b[1;32m    571\u001b[0m     \"\"\"\n\u001b[1;32m    572\u001b[0m     \u001b[0;32mif\u001b[0m \u001b[0mlen\u001b[0m\u001b[0;34m(\u001b[0m\u001b[0mdata\u001b[0m\u001b[0;34m)\u001b[0m \u001b[0;34m!=\u001b[0m \u001b[0mlen\u001b[0m\u001b[0;34m(\u001b[0m\u001b[0mindex\u001b[0m\u001b[0;34m)\u001b[0m\u001b[0;34m:\u001b[0m\u001b[0;34m\u001b[0m\u001b[0;34m\u001b[0m\u001b[0m\n\u001b[0;32m--> 573\u001b[0;31m         raise ValueError(\n\u001b[0m\u001b[1;32m    574\u001b[0m             \u001b[0;34m\"Length of values \"\u001b[0m\u001b[0;34m\u001b[0m\u001b[0;34m\u001b[0m\u001b[0m\n\u001b[1;32m    575\u001b[0m             \u001b[0;34mf\"({len(data)}) \"\u001b[0m\u001b[0;34m\u001b[0m\u001b[0;34m\u001b[0m\u001b[0m\n",
            "\u001b[0;31mValueError\u001b[0m: Length of values (10000) does not match length of index (57063)"
          ]
        }
      ],
      "source": [
        "import numpy as np\n",
        "import xgboost as xgb\n",
        "from sklearn.model_selection import RandomizedSearchCV, cross_val_score, StratifiedKFold\n",
        "from sklearn.datasets import make_classification\n",
        "\n",
        "X, y = make_classification(n_samples=10000, n_features=20, random_state=42)\n",
        "\n",
        "xgb_model = xgb.XGBClassifier(use_label_encoder=False, eval_metric=\"logloss\")\n",
        "\n",
        "param_dist = {\n",
        "    'n_estimators': np.arange(50, 500, 50),\n",
        "    'max_depth': np.arange(3, 15),\n",
        "    'learning_rate': np.linspace(0.01, 0.3, 20),\n",
        "    'subsample': np.linspace(0.5, 1.0, 20),\n",
        "    'colsample_bytree': np.linspace(0.5, 1.0, 20),\n",
        "    'gamma': np.linspace(0, 1.0, 10),\n",
        "}\n",
        "\n",
        "random_search = RandomizedSearchCV(\n",
        "    estimator=xgb_model,\n",
        "    param_distributions=param_dist,\n",
        "    n_iter=50,\n",
        "    scoring='f1_macro',\n",
        "    cv=10,\n",
        "    verbose=1,\n",
        "    n_jobs=-1,\n",
        "    random_state=42\n",
        ")\n",
        "\n",
        "random_search.fit(X, y)\n",
        "\n",
        "best_model = random_search.best_estimator_\n",
        "print(\"Mejores hiperparámetros:\", random_search.best_params_)\n",
        "\n",
        "cv = StratifiedKFold(n_splits=10, shuffle=True, random_state=42)\n",
        "cv_scores = cross_val_score(best_model, X, y, cv=cv, scoring='f1_macro')\n",
        "\n",
        "print(\"F1-score medio en validación cruzada:\", np.mean(cv_scores))\n",
        "print(\"Desviación estándar en validación cruzada:\", np.std(cv_scores))\n"
      ]
    },
    {
      "cell_type": "code",
      "execution_count": null,
      "metadata": {
        "colab": {
          "base_uri": "https://localhost:8080/",
          "height": 410
        },
        "id": "_IjXabZLCyu7",
        "outputId": "14d478b0-46f6-4b09-8e73-413e0a5054e5"
      },
      "outputs": [
        {
          "data": {
            "image/png": "[encoded data removed]",
            "text/plain": [
              "<Figure size 500x400 with 2 Axes>"
            ]
          },
          "metadata": {},
          "output_type": "display_data"
        }
      ],
      "source": [
        "import seaborn as sns\n",
        "import matplotlib.pyplot as plt\n",
        "from sklearn.metrics import confusion_matrix\n",
        "\n",
        "# Obtener matriz de confusión\n",
        "cm = confusion_matrix(y_test, y_pred)\n",
        "\n",
        "# Graficar\n",
        "plt.figure(figsize=(5, 4))\n",
        "sns.heatmap(cm, annot=True, fmt=\"d\", cmap=\"Blues\", xticklabels=[\"Clase 0\", \"Clase 1\"], yticklabels=[\"Clase 0\", \"Clase 1\"])\n",
        "plt.xlabel(\"Predicho\")\n",
        "plt.ylabel(\"Real\")\n",
        "plt.title(\"Matriz de Confusión\")\n",
        "plt.show()\n"
      ]
    },
    {
      "cell_type": "markdown",
      "metadata": {},
      "source": [
        "## Modelo Vectorización TF-IDF + modelo Multinomial Naive Bayes"
      ]
    },
    {
      "cell_type": "markdown",
      "metadata": {},
      "source": [
        "### Generación de Datos\n",
        "Se utilizó el dataset preprocesado, tomando la columna words1 como texto y Label como variable objetivo. Los datos se dividieron en conjuntos de entrenamiento y prueba (70%-30%) mediante train_test_split.\n",
        "\n",
        "### Definición del Modelo\n",
        "Se empleó el algoritmo Multinomial Naive Bayes (MultinomialNB) debido a su eficiencia en clasificación de textos. Se integró en un pipeline con TfidfVectorizer, configurado para capturar unigramas y bigramas (rango (1, 2)) y limitar las características a 5000.\n",
        "\n",
        "### Optimización de Hiperparámetros\n",
        "Se realizó una búsqueda de hiperparámetros con GridSearchCV, evaluando alpha en [0.1, 0.5, 1.0] y fit_prior en [True, False], utilizando validación cruzada de 5 particiones.\n",
        "\n",
        "### Entrenamiento del Modelo\n",
        "El mejor modelo seleccionado se entrenó utilizando los datos de entrenamiento mediante el método fit del pipeline.\n",
        "\n",
        "### Selección del Mejor Modelo\n",
        "Se seleccionó el modelo con el mayor F1-Score, garantizando un equilibrio entre precisión y recall.\n",
        "\n",
        "### Evaluación del Modelo\n",
        "El desempeño se evaluó con los datos de prueba mediante las métricas Accuracy, Precision, Recall y F1-Score, obtenidas con accuracy_score y classification_report. La matriz de confusión mostró la proporción de predicciones correctas e incorrectas.\n"
      ]
    },
    {
      "cell_type": "code",
      "execution_count": null,
      "metadata": {
        "colab": {
          "base_uri": "https://localhost:8080/",
          "height": 390
        },
        "id": "Px3NTzggGPcS",
        "outputId": "d5eb9281-a73b-4276-bb26-4bbe902fd39b"
      },
      "outputs": [],
      "source": [
        "X = df_t['words1']\n",
        "y = df['Label']"
      ]
    },
    {
      "cell_type": "code",
      "execution_count": 100,
      "metadata": {},
      "outputs": [],
      "source": [
        "X_train, X_test, y_train, y_test = train_test_split(X, y, test_size=0.3, random_state=42)"
      ]
    },
    {
      "cell_type": "code",
      "execution_count": 101,
      "metadata": {},
      "outputs": [
        {
          "data": {
            "text/html": [
              "<style>#sk-container-id-2 {\n",
              "  /* Definition of color scheme common for light and dark mode */\n",
              "  --sklearn-color-text: #000;\n",
              "  --sklearn-color-text-muted: #666;\n",
              "  --sklearn-color-line: gray;\n",
              "  /* Definition of color scheme for unfitted estimators */\n",
              "  --sklearn-color-unfitted-level-0: #fff5e6;\n",
              "  --sklearn-color-unfitted-level-1: #f6e4d2;\n",
              "  --sklearn-color-unfitted-level-2: #ffe0b3;\n",
              "  --sklearn-color-unfitted-level-3: chocolate;\n",
              "  /* Definition of color scheme for fitted estimators */\n",
              "  --sklearn-color-fitted-level-0: #f0f8ff;\n",
              "  --sklearn-color-fitted-level-1: #d4ebff;\n",
              "  --sklearn-color-fitted-level-2: #b3dbfd;\n",
              "  --sklearn-color-fitted-level-3: cornflowerblue;\n",
              "\n",
              "  /* Specific color for light theme */\n",
              "  --sklearn-color-text-on-default-background: var(--sg-text-color, var(--theme-code-foreground, var(--jp-content-font-color1, black)));\n",
              "  --sklearn-color-background: var(--sg-background-color, var(--theme-background, var(--jp-layout-color0, white)));\n",
              "  --sklearn-color-border-box: var(--sg-text-color, var(--theme-code-foreground, var(--jp-content-font-color1, black)));\n",
              "  --sklearn-color-icon: #696969;\n",
              "\n",
              "  @media (prefers-color-scheme: dark) {\n",
              "    /* Redefinition of color scheme for dark theme */\n",
              "    --sklearn-color-text-on-default-background: var(--sg-text-color, var(--theme-code-foreground, var(--jp-content-font-color1, white)));\n",
              "    --sklearn-color-background: var(--sg-background-color, var(--theme-background, var(--jp-layout-color0, #111)));\n",
              "    --sklearn-color-border-box: var(--sg-text-color, var(--theme-code-foreground, var(--jp-content-font-color1, white)));\n",
              "    --sklearn-color-icon: #878787;\n",
              "  }\n",
              "}\n",
              "\n",
              "#sk-container-id-2 {\n",
              "  color: var(--sklearn-color-text);\n",
              "}\n",
              "\n",
              "#sk-container-id-2 pre {\n",
              "  padding: 0;\n",
              "}\n",
              "\n",
              "#sk-container-id-2 input.sk-hidden--visually {\n",
              "  border: 0;\n",
              "  clip: rect(1px 1px 1px 1px);\n",
              "  clip: rect(1px, 1px, 1px, 1px);\n",
              "  height: 1px;\n",
              "  margin: -1px;\n",
              "  overflow: hidden;\n",
              "  padding: 0;\n",
              "  position: absolute;\n",
              "  width: 1px;\n",
              "}\n",
              "\n",
              "#sk-container-id-2 div.sk-dashed-wrapped {\n",
              "  border: 1px dashed var(--sklearn-color-line);\n",
              "  margin: 0 0.4em 0.5em 0.4em;\n",
              "  box-sizing: border-box;\n",
              "  padding-bottom: 0.4em;\n",
              "  background-color: var(--sklearn-color-background);\n",
              "}\n",
              "\n",
              "#sk-container-id-2 div.sk-container {\n",
              "  /* jupyter's `normalize.less` sets `[hidden] { display: none; }`\n",
              "     but bootstrap.min.css set `[hidden] { display: none !important; }`\n",
              "     so we also need the `!important` here to be able to override the\n",
              "     default hidden behavior on the sphinx rendered scikit-learn.org.\n",
              "     See: https://github.com/scikit-learn/scikit-learn/issues/21755 */\n",
              "  display: inline-block !important;\n",
              "  position: relative;\n",
              "}\n",
              "\n",
              "#sk-container-id-2 div.sk-text-repr-fallback {\n",
              "  display: none;\n",
              "}\n",
              "\n",
              "div.sk-parallel-item,\n",
              "div.sk-serial,\n",
              "div.sk-item {\n",
              "  /* draw centered vertical line to link estimators */\n",
              "  background-image: linear-gradient(var(--sklearn-color-text-on-default-background), var(--sklearn-color-text-on-default-background));\n",
              "  background-size: 2px 100%;\n",
              "  background-repeat: no-repeat;\n",
              "  background-position: center center;\n",
              "}\n",
              "\n",
              "/* Parallel-specific style estimator block */\n",
              "\n",
              "#sk-container-id-2 div.sk-parallel-item::after {\n",
              "  content: \"\";\n",
              "  width: 100%;\n",
              "  border-bottom: 2px solid var(--sklearn-color-text-on-default-background);\n",
              "  flex-grow: 1;\n",
              "}\n",
              "\n",
              "#sk-container-id-2 div.sk-parallel {\n",
              "  display: flex;\n",
              "  align-items: stretch;\n",
              "  justify-content: center;\n",
              "  background-color: var(--sklearn-color-background);\n",
              "  position: relative;\n",
              "}\n",
              "\n",
              "#sk-container-id-2 div.sk-parallel-item {\n",
              "  display: flex;\n",
              "  flex-direction: column;\n",
              "}\n",
              "\n",
              "#sk-container-id-2 div.sk-parallel-item:first-child::after {\n",
              "  align-self: flex-end;\n",
              "  width: 50%;\n",
              "}\n",
              "\n",
              "#sk-container-id-2 div.sk-parallel-item:last-child::after {\n",
              "  align-self: flex-start;\n",
              "  width: 50%;\n",
              "}\n",
              "\n",
              "#sk-container-id-2 div.sk-parallel-item:only-child::after {\n",
              "  width: 0;\n",
              "}\n",
              "\n",
              "/* Serial-specific style estimator block */\n",
              "\n",
              "#sk-container-id-2 div.sk-serial {\n",
              "  display: flex;\n",
              "  flex-direction: column;\n",
              "  align-items: center;\n",
              "  background-color: var(--sklearn-color-background);\n",
              "  padding-right: 1em;\n",
              "  padding-left: 1em;\n",
              "}\n",
              "\n",
              "\n",
              "/* Toggleable style: style used for estimator/Pipeline/ColumnTransformer box that is\n",
              "clickable and can be expanded/collapsed.\n",
              "- Pipeline and ColumnTransformer use this feature and define the default style\n",
              "- Estimators will overwrite some part of the style using the `sk-estimator` class\n",
              "*/\n",
              "\n",
              "/* Pipeline and ColumnTransformer style (default) */\n",
              "\n",
              "#sk-container-id-2 div.sk-toggleable {\n",
              "  /* Default theme specific background. It is overwritten whether we have a\n",
              "  specific estimator or a Pipeline/ColumnTransformer */\n",
              "  background-color: var(--sklearn-color-background);\n",
              "}\n",
              "\n",
              "/* Toggleable label */\n",
              "#sk-container-id-2 label.sk-toggleable__label {\n",
              "  cursor: pointer;\n",
              "  display: flex;\n",
              "  width: 100%;\n",
              "  margin-bottom: 0;\n",
              "  padding: 0.5em;\n",
              "  box-sizing: border-box;\n",
              "  text-align: center;\n",
              "  align-items: start;\n",
              "  justify-content: space-between;\n",
              "  gap: 0.5em;\n",
              "}\n",
              "\n",
              "#sk-container-id-2 label.sk-toggleable__label .caption {\n",
              "  font-size: 0.6rem;\n",
              "  font-weight: lighter;\n",
              "  color: var(--sklearn-color-text-muted);\n",
              "}\n",
              "\n",
              "#sk-container-id-2 label.sk-toggleable__label-arrow:before {\n",
              "  /* Arrow on the left of the label */\n",
              "  content: \"▸\";\n",
              "  float: left;\n",
              "  margin-right: 0.25em;\n",
              "  color: var(--sklearn-color-icon);\n",
              "}\n",
              "\n",
              "#sk-container-id-2 label.sk-toggleable__label-arrow:hover:before {\n",
              "  color: var(--sklearn-color-text);\n",
              "}\n",
              "\n",
              "/* Toggleable content - dropdown */\n",
              "\n",
              "#sk-container-id-2 div.sk-toggleable__content {\n",
              "  max-height: 0;\n",
              "  max-width: 0;\n",
              "  overflow: hidden;\n",
              "  text-align: left;\n",
              "  /* unfitted */\n",
              "  background-color: var(--sklearn-color-unfitted-level-0);\n",
              "}\n",
              "\n",
              "#sk-container-id-2 div.sk-toggleable__content.fitted {\n",
              "  /* fitted */\n",
              "  background-color: var(--sklearn-color-fitted-level-0);\n",
              "}\n",
              "\n",
              "#sk-container-id-2 div.sk-toggleable__content pre {\n",
              "  margin: 0.2em;\n",
              "  border-radius: 0.25em;\n",
              "  color: var(--sklearn-color-text);\n",
              "  /* unfitted */\n",
              "  background-color: var(--sklearn-color-unfitted-level-0);\n",
              "}\n",
              "\n",
              "#sk-container-id-2 div.sk-toggleable__content.fitted pre {\n",
              "  /* unfitted */\n",
              "  background-color: var(--sklearn-color-fitted-level-0);\n",
              "}\n",
              "\n",
              "#sk-container-id-2 input.sk-toggleable__control:checked~div.sk-toggleable__content {\n",
              "  /* Expand drop-down */\n",
              "  max-height: 200px;\n",
              "  max-width: 100%;\n",
              "  overflow: auto;\n",
              "}\n",
              "\n",
              "#sk-container-id-2 input.sk-toggleable__control:checked~label.sk-toggleable__label-arrow:before {\n",
              "  content: \"▾\";\n",
              "}\n",
              "\n",
              "/* Pipeline/ColumnTransformer-specific style */\n",
              "\n",
              "#sk-container-id-2 div.sk-label input.sk-toggleable__control:checked~label.sk-toggleable__label {\n",
              "  color: var(--sklearn-color-text);\n",
              "  background-color: var(--sklearn-color-unfitted-level-2);\n",
              "}\n",
              "\n",
              "#sk-container-id-2 div.sk-label.fitted input.sk-toggleable__control:checked~label.sk-toggleable__label {\n",
              "  background-color: var(--sklearn-color-fitted-level-2);\n",
              "}\n",
              "\n",
              "/* Estimator-specific style */\n",
              "\n",
              "/* Colorize estimator box */\n",
              "#sk-container-id-2 div.sk-estimator input.sk-toggleable__control:checked~label.sk-toggleable__label {\n",
              "  /* unfitted */\n",
              "  background-color: var(--sklearn-color-unfitted-level-2);\n",
              "}\n",
              "\n",
              "#sk-container-id-2 div.sk-estimator.fitted input.sk-toggleable__control:checked~label.sk-toggleable__label {\n",
              "  /* fitted */\n",
              "  background-color: var(--sklearn-color-fitted-level-2);\n",
              "}\n",
              "\n",
              "#sk-container-id-2 div.sk-label label.sk-toggleable__label,\n",
              "#sk-container-id-2 div.sk-label label {\n",
              "  /* The background is the default theme color */\n",
              "  color: var(--sklearn-color-text-on-default-background);\n",
              "}\n",
              "\n",
              "/* On hover, darken the color of the background */\n",
              "#sk-container-id-2 div.sk-label:hover label.sk-toggleable__label {\n",
              "  color: var(--sklearn-color-text);\n",
              "  background-color: var(--sklearn-color-unfitted-level-2);\n",
              "}\n",
              "\n",
              "/* Label box, darken color on hover, fitted */\n",
              "#sk-container-id-2 div.sk-label.fitted:hover label.sk-toggleable__label.fitted {\n",
              "  color: var(--sklearn-color-text);\n",
              "  background-color: var(--sklearn-color-fitted-level-2);\n",
              "}\n",
              "\n",
              "/* Estimator label */\n",
              "\n",
              "#sk-container-id-2 div.sk-label label {\n",
              "  font-family: monospace;\n",
              "  font-weight: bold;\n",
              "  display: inline-block;\n",
              "  line-height: 1.2em;\n",
              "}\n",
              "\n",
              "#sk-container-id-2 div.sk-label-container {\n",
              "  text-align: center;\n",
              "}\n",
              "\n",
              "/* Estimator-specific */\n",
              "#sk-container-id-2 div.sk-estimator {\n",
              "  font-family: monospace;\n",
              "  border: 1px dotted var(--sklearn-color-border-box);\n",
              "  border-radius: 0.25em;\n",
              "  box-sizing: border-box;\n",
              "  margin-bottom: 0.5em;\n",
              "  /* unfitted */\n",
              "  background-color: var(--sklearn-color-unfitted-level-0);\n",
              "}\n",
              "\n",
              "#sk-container-id-2 div.sk-estimator.fitted {\n",
              "  /* fitted */\n",
              "  background-color: var(--sklearn-color-fitted-level-0);\n",
              "}\n",
              "\n",
              "/* on hover */\n",
              "#sk-container-id-2 div.sk-estimator:hover {\n",
              "  /* unfitted */\n",
              "  background-color: var(--sklearn-color-unfitted-level-2);\n",
              "}\n",
              "\n",
              "#sk-container-id-2 div.sk-estimator.fitted:hover {\n",
              "  /* fitted */\n",
              "  background-color: var(--sklearn-color-fitted-level-2);\n",
              "}\n",
              "\n",
              "/* Specification for estimator info (e.g. \"i\" and \"?\") */\n",
              "\n",
              "/* Common style for \"i\" and \"?\" */\n",
              "\n",
              ".sk-estimator-doc-link,\n",
              "a:link.sk-estimator-doc-link,\n",
              "a:visited.sk-estimator-doc-link {\n",
              "  float: right;\n",
              "  font-size: smaller;\n",
              "  line-height: 1em;\n",
              "  font-family: monospace;\n",
              "  background-color: var(--sklearn-color-background);\n",
              "  border-radius: 1em;\n",
              "  height: 1em;\n",
              "  width: 1em;\n",
              "  text-decoration: none !important;\n",
              "  margin-left: 0.5em;\n",
              "  text-align: center;\n",
              "  /* unfitted */\n",
              "  border: var(--sklearn-color-unfitted-level-1) 1pt solid;\n",
              "  color: var(--sklearn-color-unfitted-level-1);\n",
              "}\n",
              "\n",
              ".sk-estimator-doc-link.fitted,\n",
              "a:link.sk-estimator-doc-link.fitted,\n",
              "a:visited.sk-estimator-doc-link.fitted {\n",
              "  /* fitted */\n",
              "  border: var(--sklearn-color-fitted-level-1) 1pt solid;\n",
              "  color: var(--sklearn-color-fitted-level-1);\n",
              "}\n",
              "\n",
              "/* On hover */\n",
              "div.sk-estimator:hover .sk-estimator-doc-link:hover,\n",
              ".sk-estimator-doc-link:hover,\n",
              "div.sk-label-container:hover .sk-estimator-doc-link:hover,\n",
              ".sk-estimator-doc-link:hover {\n",
              "  /* unfitted */\n",
              "  background-color: var(--sklearn-color-unfitted-level-3);\n",
              "  color: var(--sklearn-color-background);\n",
              "  text-decoration: none;\n",
              "}\n",
              "\n",
              "div.sk-estimator.fitted:hover .sk-estimator-doc-link.fitted:hover,\n",
              ".sk-estimator-doc-link.fitted:hover,\n",
              "div.sk-label-container:hover .sk-estimator-doc-link.fitted:hover,\n",
              ".sk-estimator-doc-link.fitted:hover {\n",
              "  /* fitted */\n",
              "  background-color: var(--sklearn-color-fitted-level-3);\n",
              "  color: var(--sklearn-color-background);\n",
              "  text-decoration: none;\n",
              "}\n",
              "\n",
              "/* Span, style for the box shown on hovering the info icon */\n",
              ".sk-estimator-doc-link span {\n",
              "  display: none;\n",
              "  z-index: 9999;\n",
              "  position: relative;\n",
              "  font-weight: normal;\n",
              "  right: .2ex;\n",
              "  padding: .5ex;\n",
              "  margin: .5ex;\n",
              "  width: min-content;\n",
              "  min-width: 20ex;\n",
              "  max-width: 50ex;\n",
              "  color: var(--sklearn-color-text);\n",
              "  box-shadow: 2pt 2pt 4pt #999;\n",
              "  /* unfitted */\n",
              "  background: var(--sklearn-color-unfitted-level-0);\n",
              "  border: .5pt solid var(--sklearn-color-unfitted-level-3);\n",
              "}\n",
              "\n",
              ".sk-estimator-doc-link.fitted span {\n",
              "  /* fitted */\n",
              "  background: var(--sklearn-color-fitted-level-0);\n",
              "  border: var(--sklearn-color-fitted-level-3);\n",
              "}\n",
              "\n",
              ".sk-estimator-doc-link:hover span {\n",
              "  display: block;\n",
              "}\n",
              "\n",
              "/* \"?\"-specific style due to the `<a>` HTML tag */\n",
              "\n",
              "#sk-container-id-2 a.estimator_doc_link {\n",
              "  float: right;\n",
              "  font-size: 1rem;\n",
              "  line-height: 1em;\n",
              "  font-family: monospace;\n",
              "  background-color: var(--sklearn-color-background);\n",
              "  border-radius: 1rem;\n",
              "  height: 1rem;\n",
              "  width: 1rem;\n",
              "  text-decoration: none;\n",
              "  /* unfitted */\n",
              "  color: var(--sklearn-color-unfitted-level-1);\n",
              "  border: var(--sklearn-color-unfitted-level-1) 1pt solid;\n",
              "}\n",
              "\n",
              "#sk-container-id-2 a.estimator_doc_link.fitted {\n",
              "  /* fitted */\n",
              "  border: var(--sklearn-color-fitted-level-1) 1pt solid;\n",
              "  color: var(--sklearn-color-fitted-level-1);\n",
              "}\n",
              "\n",
              "/* On hover */\n",
              "#sk-container-id-2 a.estimator_doc_link:hover {\n",
              "  /* unfitted */\n",
              "  background-color: var(--sklearn-color-unfitted-level-3);\n",
              "  color: var(--sklearn-color-background);\n",
              "  text-decoration: none;\n",
              "}\n",
              "\n",
              "#sk-container-id-2 a.estimator_doc_link.fitted:hover {\n",
              "  /* fitted */\n",
              "  background-color: var(--sklearn-color-fitted-level-3);\n",
              "}\n",
              "</style><div id=\"sk-container-id-2\" class=\"sk-top-container\"><div class=\"sk-text-repr-fallback\"><pre>Pipeline(steps=[(&#x27;tfidf&#x27;,\n",
              "                 TfidfVectorizer(max_features=5000, ngram_range=(1, 2))),\n",
              "                (&#x27;clf&#x27;, MultinomialNB())])</pre><b>In a Jupyter environment, please rerun this cell to show the HTML representation or trust the notebook. <br />On GitHub, the HTML representation is unable to render, please try loading this page with nbviewer.org.</b></div><div class=\"sk-container\" hidden><div class=\"sk-item sk-dashed-wrapped\"><div class=\"sk-label-container\"><div class=\"sk-label fitted sk-toggleable\"><input class=\"sk-toggleable__control sk-hidden--visually\" id=\"sk-estimator-id-4\" type=\"checkbox\" ><label for=\"sk-estimator-id-4\" class=\"sk-toggleable__label fitted sk-toggleable__label-arrow\"><div><div>Pipeline</div></div><div><a class=\"sk-estimator-doc-link fitted\" rel=\"noreferrer\" target=\"_blank\" href=\"https://scikit-learn.org/1.6/modules/generated/sklearn.pipeline.Pipeline.html\">?<span>Documentation for Pipeline</span></a><span class=\"sk-estimator-doc-link fitted\">i<span>Fitted</span></span></div></label><div class=\"sk-toggleable__content fitted\"><pre>Pipeline(steps=[(&#x27;tfidf&#x27;,\n",
              "                 TfidfVectorizer(max_features=5000, ngram_range=(1, 2))),\n",
              "                (&#x27;clf&#x27;, MultinomialNB())])</pre></div> </div></div><div class=\"sk-serial\"><div class=\"sk-item\"><div class=\"sk-estimator fitted sk-toggleable\"><input class=\"sk-toggleable__control sk-hidden--visually\" id=\"sk-estimator-id-5\" type=\"checkbox\" ><label for=\"sk-estimator-id-5\" class=\"sk-toggleable__label fitted sk-toggleable__label-arrow\"><div><div>TfidfVectorizer</div></div><div><a class=\"sk-estimator-doc-link fitted\" rel=\"noreferrer\" target=\"_blank\" href=\"https://scikit-learn.org/1.6/modules/generated/sklearn.feature_extraction.text.TfidfVectorizer.html\">?<span>Documentation for TfidfVectorizer</span></a></div></label><div class=\"sk-toggleable__content fitted\"><pre>TfidfVectorizer(max_features=5000, ngram_range=(1, 2))</pre></div> </div></div><div class=\"sk-item\"><div class=\"sk-estimator fitted sk-toggleable\"><input class=\"sk-toggleable__control sk-hidden--visually\" id=\"sk-estimator-id-6\" type=\"checkbox\" ><label for=\"sk-estimator-id-6\" class=\"sk-toggleable__label fitted sk-toggleable__label-arrow\"><div><div>MultinomialNB</div></div><div><a class=\"sk-estimator-doc-link fitted\" rel=\"noreferrer\" target=\"_blank\" href=\"https://scikit-learn.org/1.6/modules/generated/sklearn.naive_bayes.MultinomialNB.html\">?<span>Documentation for MultinomialNB</span></a></div></label><div class=\"sk-toggleable__content fitted\"><pre>MultinomialNB()</pre></div> </div></div></div></div></div></div>"
            ],
            "text/plain": [
              "Pipeline(steps=[('tfidf',\n",
              "                 TfidfVectorizer(max_features=5000, ngram_range=(1, 2))),\n",
              "                ('clf', MultinomialNB())])"
            ]
          },
          "execution_count": 101,
          "metadata": {},
          "output_type": "execute_result"
        }
      ],
      "source": [
        "pipeline = Pipeline([ ('tfidf', TfidfVectorizer( max_features=5000, ngram_range=(1, 2) )), ('clf', MultinomialNB()) ])\n",
        "pipeline.fit(X_train, y_train)"
      ]
    },
    {
      "cell_type": "code",
      "execution_count": 102,
      "metadata": {},
      "outputs": [],
      "source": [
        "y_pred = pipeline.predict(X_test)"
      ]
    },
    {
      "cell_type": "code",
      "execution_count": 104,
      "metadata": {},
      "outputs": [
        {
          "name": "stdout",
          "output_type": "stream",
          "text": [
            "Accuracy: 0.7851510018108534\n",
            "Classification Report:\n",
            "               precision    recall  f1-score   support\n",
            "\n",
            "           0       0.91      0.54      0.68      7171\n",
            "           1       0.74      0.96      0.84      9948\n",
            "\n",
            "    accuracy                           0.79     17119\n",
            "   macro avg       0.83      0.75      0.76     17119\n",
            "weighted avg       0.81      0.79      0.77     17119\n",
            "\n"
          ]
        }
      ],
      "source": [
        "print(\"Accuracy:\", accuracy_score(y_test, y_pred)) \n",
        "print(\"Classification Report:\\n\", classification_report(y_test, y_pred)) "
      ]
    },
    {
      "cell_type": "code",
      "execution_count": 106,
      "metadata": {},
      "outputs": [
        {
          "data": {
            "image/png": "[encoded data removed]",
            "text/plain": [
              "<Figure size 500x400 with 2 Axes>"
            ]
          },
          "metadata": {},
          "output_type": "display_data"
        }
      ],
      "source": [
        "\n",
        "cm = confusion_matrix(y_test, y_pred)\n",
        "\n",
        "plt.figure(figsize=(5, 4))\n",
        "sns.heatmap(cm, annot=True, fmt=\"d\", cmap=\"Blues\", xticklabels=[\"Clase 0\", \"Clase 1\"], yticklabels=[\"Clase 0\", \"Clase 1\"])\n",
        "plt.xlabel(\"Predicho\")\n",
        "plt.ylabel(\"Real\")\n",
        "plt.title(\"Matriz de Confusión - Multinomial Naive Bayes\")\n",
        "plt.show()\n"
      ]
    },
    {
      "cell_type": "code",
      "execution_count": 108,
      "metadata": {},
      "outputs": [
        {
          "name": "stderr",
          "output_type": "stream",
          "text": [
            "[nltk_data] Downloading package punkt to\n",
            "[nltk_data]     C:\\Users\\danie\\AppData\\Roaming\\nltk_data...\n",
            "[nltk_data]   Package punkt is already up-to-date!\n",
            "[nltk_data] Downloading package stopwords to\n",
            "[nltk_data]     C:\\Users\\danie\\AppData\\Roaming\\nltk_data...\n",
            "[nltk_data]   Package stopwords is already up-to-date!\n"
          ]
        },
        {
          "name": "stdout",
          "output_type": "stream",
          "text": [
            "Columnas en el archivo CSV: ['ID', 'Label', 'Titulo', 'Descripcion', 'Fecha']\n",
            "Archivo generado correctamente: fake_news_spanish_pred_20250222_183832.csv\n"
          ]
        }
      ],
      "source": [
        "# Importar librerías necesarias\n",
        "import pandas as pd\n",
        "import pickle\n",
        "from datetime import datetime\n",
        "import nltk\n",
        "import re\n",
        "from nltk.corpus import stopwords\n",
        "from nltk.tokenize import word_tokenize\n",
        "\n",
        "# Descargar recursos necesarios de NLTK\n",
        "nltk.download(\"punkt\")\n",
        "nltk.download(\"stopwords\")\n",
        "\n",
        "# ---------------------------------------\n",
        "# 1. Cargar el Modelo Entrenado\n",
        "# ---------------------------------------\n",
        "with open(\"modelo_multinomial_nb.pkl\", \"rb\") as file:\n",
        "    loaded_model = pickle.load(file)\n",
        "\n",
        "# ---------------------------------------\n",
        "# 2. Cargar los Datos de Prueba\n",
        "# ---------------------------------------\n",
        "df_test = pd.read_csv(\"fake_news_spanish.csv\", sep=\";\")\n",
        "print(\"Columnas en el archivo CSV:\", df_test.columns.tolist())\n",
        "\n",
        "# ---------------------------------------\n",
        "# 3. Funciones de Preprocesamiento (Similares a las del PDF)\n",
        "# ---------------------------------------\n",
        "def limpiar_texto(texto):\n",
        "    texto = texto.lower()  # Convertir a minúsculas\n",
        "    texto = re.sub(r'\\d+', '', texto)  # Eliminar números\n",
        "    texto = re.sub(r'[^\\w\\s]', '', texto)  # Eliminar puntuación\n",
        "    tokens = word_tokenize(texto)  # Tokenizar el texto\n",
        "    tokens = [palabra for palabra in tokens if palabra not in stopwords.words('spanish')]  # Eliminar stopwords\n",
        "    return ' '.join(tokens)  # Unir tokens en una cadena de texto\n",
        "\n",
        "# ---------------------------------------\n",
        "# 4. Aplicar Preprocesamiento a la Columna de Descripción\n",
        "# ---------------------------------------\n",
        "df_test[\"processed_text\"] = df_test[\"Descripcion\"].astype(str).apply(limpiar_texto)\n",
        "\n",
        "# ---------------------------------------\n",
        "# 5. Realizar Predicciones\n",
        "# ---------------------------------------\n",
        "X_test = df_test[\"processed_text\"]\n",
        "df_test[\"Etiqueta Predicha\"] = loaded_model.predict(X_test)\n",
        "\n",
        "# ---------------------------------------\n",
        "# 6. Exportar los Resultados\n",
        "# ---------------------------------------\n",
        "# Crear un nombre único para el archivo de salida\n",
        "timestamp = datetime.now().strftime(\"%Y%m%d_%H%M%S\")\n",
        "filename = f\"fake_news_spanish_pred_{timestamp}.csv\"\n",
        "\n",
        "# Guardar el archivo con las predicciones\n",
        "df_test.to_csv(filename, sep=\";\", index=False)\n",
        "print(f\"Archivo generado correctamente: {filename}\")\n"
      ]
    }
  ],
  "metadata": {
    "colab": {
      "provenance": []
    },
    "kernelspec": {
      "display_name": "Python 3",
      "language": "python",
      "name": "python3"
    },
    "language_info": {
      "codemirror_mode": {
        "name": "ipython",
        "version": 3
      },
      "file_extension": ".py",
      "mimetype": "text/x-python",
      "name": "python",
      "nbconvert_exporter": "python",
      "pygments_lexer": "ipython3",
      "version": "3.9.12"
    },
    "widgets": {
      "application/vnd.jupyter.widget-state+json": {
        "0aeb0c685d7e43e68d81cfdec8cb2d4c": {
          "model_module": "@jupyter-widgets/controls",
          "model_module_version": "1.5.0",
          "model_name": "HTMLModel",
          "state": {
            "_dom_classes": [],
            "_model_module": "@jupyter-widgets/controls",
            "_model_module_version": "1.5.0",
            "_model_name": "HTMLModel",
            "_view_count": null,
            "_view_module": "@jupyter-widgets/controls",
            "_view_module_version": "1.5.0",
            "_view_name": "HTMLView",
            "description": "",
            "description_tooltip": null,
            "layout": "IPY_MODEL_6fc2d99d20824212ace42a7fcb2166bf",
            "placeholder": "​",
            "style": "IPY_MODEL_c4c892b383df4c0ebcff529327678475",
            "value": "Downloading https://raw.githubusercontent.com/stanfordnlp/stanza-resources/main/resources_1.10.0.json: "
          }
        },
        "0f8a7c4dad7a46cdbec789577534f2b7": {
          "model_module": "@jupyter-widgets/base",
          "model_module_version": "1.2.0",
          "model_name": "LayoutModel",
          "state": {
            "_model_module": "@jupyter-widgets/base",
            "_model_module_version": "1.2.0",
            "_model_name": "LayoutModel",
            "_view_count": null,
            "_view_module": "@jupyter-widgets/base",
            "_view_module_version": "1.2.0",
            "_view_name": "LayoutView",
            "align_content": null,
            "align_items": null,
            "align_self": null,
            "border": null,
            "bottom": null,
            "display": null,
            "flex": null,
            "flex_flow": null,
            "grid_area": null,
            "grid_auto_columns": null,
            "grid_auto_flow": null,
            "grid_auto_rows": null,
            "grid_column": null,
            "grid_gap": null,
            "grid_row": null,
            "grid_template_areas": null,
            "grid_template_columns": null,
            "grid_template_rows": null,
            "height": null,
            "justify_content": null,
            "justify_items": null,
            "left": null,
            "margin": null,
            "max_height": null,
            "max_width": null,
            "min_height": null,
            "min_width": null,
            "object_fit": null,
            "object_position": null,
            "order": null,
            "overflow": null,
            "overflow_x": null,
            "overflow_y": null,
            "padding": null,
            "right": null,
            "top": null,
            "visibility": null,
            "width": null
          }
        },
        "0fbf742eff8f467294d8776f99b6fd0b": {
          "model_module": "@jupyter-widgets/base",
          "model_module_version": "1.2.0",
          "model_name": "LayoutModel",
          "state": {
            "_model_module": "@jupyter-widgets/base",
            "_model_module_version": "1.2.0",
            "_model_name": "LayoutModel",
            "_view_count": null,
            "_view_module": "@jupyter-widgets/base",
            "_view_module_version": "1.2.0",
            "_view_name": "LayoutView",
            "align_content": null,
            "align_items": null,
            "align_self": null,
            "border": null,
            "bottom": null,
            "display": null,
            "flex": null,
            "flex_flow": null,
            "grid_area": null,
            "grid_auto_columns": null,
            "grid_auto_flow": null,
            "grid_auto_rows": null,
            "grid_column": null,
            "grid_gap": null,
            "grid_row": null,
            "grid_template_areas": null,
            "grid_template_columns": null,
            "grid_template_rows": null,
            "height": null,
            "justify_content": null,
            "justify_items": null,
            "left": null,
            "margin": null,
            "max_height": null,
            "max_width": null,
            "min_height": null,
            "min_width": null,
            "object_fit": null,
            "object_position": null,
            "order": null,
            "overflow": null,
            "overflow_x": null,
            "overflow_y": null,
            "padding": null,
            "right": null,
            "top": null,
            "visibility": null,
            "width": null
          }
        },
        "17fc61216b4c44c0a3cc30bc55980a72": {
          "model_module": "@jupyter-widgets/controls",
          "model_module_version": "1.5.0",
          "model_name": "DescriptionStyleModel",
          "state": {
            "_model_module": "@jupyter-widgets/controls",
            "_model_module_version": "1.5.0",
            "_model_name": "DescriptionStyleModel",
            "_view_count": null,
            "_view_module": "@jupyter-widgets/base",
            "_view_module_version": "1.2.0",
            "_view_name": "StyleView",
            "description_width": ""
          }
        },
        "1b2347c22c4f469ea1e7293f09955664": {
          "model_module": "@jupyter-widgets/base",
          "model_module_version": "1.2.0",
          "model_name": "LayoutModel",
          "state": {
            "_model_module": "@jupyter-widgets/base",
            "_model_module_version": "1.2.0",
            "_model_name": "LayoutModel",
            "_view_count": null,
            "_view_module": "@jupyter-widgets/base",
            "_view_module_version": "1.2.0",
            "_view_name": "LayoutView",
            "align_content": null,
            "align_items": null,
            "align_self": null,
            "border": null,
            "bottom": null,
            "display": null,
            "flex": null,
            "flex_flow": null,
            "grid_area": null,
            "grid_auto_columns": null,
            "grid_auto_flow": null,
            "grid_auto_rows": null,
            "grid_column": null,
            "grid_gap": null,
            "grid_row": null,
            "grid_template_areas": null,
            "grid_template_columns": null,
            "grid_template_rows": null,
            "height": null,
            "justify_content": null,
            "justify_items": null,
            "left": null,
            "margin": null,
            "max_height": null,
            "max_width": null,
            "min_height": null,
            "min_width": null,
            "object_fit": null,
            "object_position": null,
            "order": null,
            "overflow": null,
            "overflow_x": null,
            "overflow_y": null,
            "padding": null,
            "right": null,
            "top": null,
            "visibility": null,
            "width": null
          }
        },
        "259d81dfdd214164b719e30e64a47412": {
          "model_module": "@jupyter-widgets/controls",
          "model_module_version": "1.5.0",
          "model_name": "HTMLModel",
          "state": {
            "_dom_classes": [],
            "_model_module": "@jupyter-widgets/controls",
            "_model_module_version": "1.5.0",
            "_model_name": "HTMLModel",
            "_view_count": null,
            "_view_module": "@jupyter-widgets/controls",
            "_view_module_version": "1.5.0",
            "_view_name": "HTMLView",
            "description": "",
            "description_tooltip": null,
            "layout": "IPY_MODEL_272da1aebf4e4d6d89ba9c0d353d2aa8",
            "placeholder": "​",
            "style": "IPY_MODEL_17fc61216b4c44c0a3cc30bc55980a72",
            "value": " 424k/? [00:00&lt;00:00, 25.2MB/s]"
          }
        },
        "272da1aebf4e4d6d89ba9c0d353d2aa8": {
          "model_module": "@jupyter-widgets/base",
          "model_module_version": "1.2.0",
          "model_name": "LayoutModel",
          "state": {
            "_model_module": "@jupyter-widgets/base",
            "_model_module_version": "1.2.0",
            "_model_name": "LayoutModel",
            "_view_count": null,
            "_view_module": "@jupyter-widgets/base",
            "_view_module_version": "1.2.0",
            "_view_name": "LayoutView",
            "align_content": null,
            "align_items": null,
            "align_self": null,
            "border": null,
            "bottom": null,
            "display": null,
            "flex": null,
            "flex_flow": null,
            "grid_area": null,
            "grid_auto_columns": null,
            "grid_auto_flow": null,
            "grid_auto_rows": null,
            "grid_column": null,
            "grid_gap": null,
            "grid_row": null,
            "grid_template_areas": null,
            "grid_template_columns": null,
            "grid_template_rows": null,
            "height": null,
            "justify_content": null,
            "justify_items": null,
            "left": null,
            "margin": null,
            "max_height": null,
            "max_width": null,
            "min_height": null,
            "min_width": null,
            "object_fit": null,
            "object_position": null,
            "order": null,
            "overflow": null,
            "overflow_x": null,
            "overflow_y": null,
            "padding": null,
            "right": null,
            "top": null,
            "visibility": null,
            "width": null
          }
        },
        "27f261d49a654de0bdd73b66c59259b3": {
          "model_module": "@jupyter-widgets/controls",
          "model_module_version": "1.5.0",
          "model_name": "ProgressStyleModel",
          "state": {
            "_model_module": "@jupyter-widgets/controls",
            "_model_module_version": "1.5.0",
            "_model_name": "ProgressStyleModel",
            "_view_count": null,
            "_view_module": "@jupyter-widgets/base",
            "_view_module_version": "1.2.0",
            "_view_name": "StyleView",
            "bar_color": null,
            "description_width": ""
          }
        },
        "3bd3bee794a54bdfa817b24826c1c8d9": {
          "model_module": "@jupyter-widgets/controls",
          "model_module_version": "1.5.0",
          "model_name": "HBoxModel",
          "state": {
            "_dom_classes": [],
            "_model_module": "@jupyter-widgets/controls",
            "_model_module_version": "1.5.0",
            "_model_name": "HBoxModel",
            "_view_count": null,
            "_view_module": "@jupyter-widgets/controls",
            "_view_module_version": "1.5.0",
            "_view_name": "HBoxView",
            "box_style": "",
            "children": [
              "IPY_MODEL_f5a6c08f35954361bbf0e97207e3482c",
              "IPY_MODEL_8bc9dc224b3a4673963e30449ed84cb7",
              "IPY_MODEL_259d81dfdd214164b719e30e64a47412"
            ],
            "layout": "IPY_MODEL_0f8a7c4dad7a46cdbec789577534f2b7"
          }
        },
        "6a7408669cf74853b13723e4ff13ba77": {
          "model_module": "@jupyter-widgets/controls",
          "model_module_version": "1.5.0",
          "model_name": "HBoxModel",
          "state": {
            "_dom_classes": [],
            "_model_module": "@jupyter-widgets/controls",
            "_model_module_version": "1.5.0",
            "_model_name": "HBoxModel",
            "_view_count": null,
            "_view_module": "@jupyter-widgets/controls",
            "_view_module_version": "1.5.0",
            "_view_name": "HBoxView",
            "box_style": "",
            "children": [
              "IPY_MODEL_0aeb0c685d7e43e68d81cfdec8cb2d4c",
              "IPY_MODEL_e6cd3828e1544670819e1b6b7eba77eb",
              "IPY_MODEL_fcaa707fb13a439ab437abe24687f89d"
            ],
            "layout": "IPY_MODEL_0fbf742eff8f467294d8776f99b6fd0b"
          }
        },
        "6fc2d99d20824212ace42a7fcb2166bf": {
          "model_module": "@jupyter-widgets/base",
          "model_module_version": "1.2.0",
          "model_name": "LayoutModel",
          "state": {
            "_model_module": "@jupyter-widgets/base",
            "_model_module_version": "1.2.0",
            "_model_name": "LayoutModel",
            "_view_count": null,
            "_view_module": "@jupyter-widgets/base",
            "_view_module_version": "1.2.0",
            "_view_name": "LayoutView",
            "align_content": null,
            "align_items": null,
            "align_self": null,
            "border": null,
            "bottom": null,
            "display": null,
            "flex": null,
            "flex_flow": null,
            "grid_area": null,
            "grid_auto_columns": null,
            "grid_auto_flow": null,
            "grid_auto_rows": null,
            "grid_column": null,
            "grid_gap": null,
            "grid_row": null,
            "grid_template_areas": null,
            "grid_template_columns": null,
            "grid_template_rows": null,
            "height": null,
            "justify_content": null,
            "justify_items": null,
            "left": null,
            "margin": null,
            "max_height": null,
            "max_width": null,
            "min_height": null,
            "min_width": null,
            "object_fit": null,
            "object_position": null,
            "order": null,
            "overflow": null,
            "overflow_x": null,
            "overflow_y": null,
            "padding": null,
            "right": null,
            "top": null,
            "visibility": null,
            "width": null
          }
        },
        "77d1dbf0ad6f45748165c36c690fa1be": {
          "model_module": "@jupyter-widgets/controls",
          "model_module_version": "1.5.0",
          "model_name": "DescriptionStyleModel",
          "state": {
            "_model_module": "@jupyter-widgets/controls",
            "_model_module_version": "1.5.0",
            "_model_name": "DescriptionStyleModel",
            "_view_count": null,
            "_view_module": "@jupyter-widgets/base",
            "_view_module_version": "1.2.0",
            "_view_name": "StyleView",
            "description_width": ""
          }
        },
        "8bc9dc224b3a4673963e30449ed84cb7": {
          "model_module": "@jupyter-widgets/controls",
          "model_module_version": "1.5.0",
          "model_name": "FloatProgressModel",
          "state": {
            "_dom_classes": [],
            "_model_module": "@jupyter-widgets/controls",
            "_model_module_version": "1.5.0",
            "_model_name": "FloatProgressModel",
            "_view_count": null,
            "_view_module": "@jupyter-widgets/controls",
            "_view_module_version": "1.5.0",
            "_view_name": "ProgressView",
            "bar_style": "success",
            "description": "",
            "description_tooltip": null,
            "layout": "IPY_MODEL_1b2347c22c4f469ea1e7293f09955664",
            "max": 52452,
            "min": 0,
            "orientation": "horizontal",
            "style": "IPY_MODEL_9bce9e18296c40278c5f692c93f04a0e",
            "value": 52452
          }
        },
        "945a8449a4c0419bb90666b769667853": {
          "model_module": "@jupyter-widgets/base",
          "model_module_version": "1.2.0",
          "model_name": "LayoutModel",
          "state": {
            "_model_module": "@jupyter-widgets/base",
            "_model_module_version": "1.2.0",
            "_model_name": "LayoutModel",
            "_view_count": null,
            "_view_module": "@jupyter-widgets/base",
            "_view_module_version": "1.2.0",
            "_view_name": "LayoutView",
            "align_content": null,
            "align_items": null,
            "align_self": null,
            "border": null,
            "bottom": null,
            "display": null,
            "flex": null,
            "flex_flow": null,
            "grid_area": null,
            "grid_auto_columns": null,
            "grid_auto_flow": null,
            "grid_auto_rows": null,
            "grid_column": null,
            "grid_gap": null,
            "grid_row": null,
            "grid_template_areas": null,
            "grid_template_columns": null,
            "grid_template_rows": null,
            "height": null,
            "justify_content": null,
            "justify_items": null,
            "left": null,
            "margin": null,
            "max_height": null,
            "max_width": null,
            "min_height": null,
            "min_width": null,
            "object_fit": null,
            "object_position": null,
            "order": null,
            "overflow": null,
            "overflow_x": null,
            "overflow_y": null,
            "padding": null,
            "right": null,
            "top": null,
            "visibility": null,
            "width": null
          }
        },
        "9bce9e18296c40278c5f692c93f04a0e": {
          "model_module": "@jupyter-widgets/controls",
          "model_module_version": "1.5.0",
          "model_name": "ProgressStyleModel",
          "state": {
            "_model_module": "@jupyter-widgets/controls",
            "_model_module_version": "1.5.0",
            "_model_name": "ProgressStyleModel",
            "_view_count": null,
            "_view_module": "@jupyter-widgets/base",
            "_view_module_version": "1.2.0",
            "_view_name": "StyleView",
            "bar_color": null,
            "description_width": ""
          }
        },
        "a3c95eeafb7c4e39832b5673a959f8a8": {
          "model_module": "@jupyter-widgets/base",
          "model_module_version": "1.2.0",
          "model_name": "LayoutModel",
          "state": {
            "_model_module": "@jupyter-widgets/base",
            "_model_module_version": "1.2.0",
            "_model_name": "LayoutModel",
            "_view_count": null,
            "_view_module": "@jupyter-widgets/base",
            "_view_module_version": "1.2.0",
            "_view_name": "LayoutView",
            "align_content": null,
            "align_items": null,
            "align_self": null,
            "border": null,
            "bottom": null,
            "display": null,
            "flex": null,
            "flex_flow": null,
            "grid_area": null,
            "grid_auto_columns": null,
            "grid_auto_flow": null,
            "grid_auto_rows": null,
            "grid_column": null,
            "grid_gap": null,
            "grid_row": null,
            "grid_template_areas": null,
            "grid_template_columns": null,
            "grid_template_rows": null,
            "height": null,
            "justify_content": null,
            "justify_items": null,
            "left": null,
            "margin": null,
            "max_height": null,
            "max_width": null,
            "min_height": null,
            "min_width": null,
            "object_fit": null,
            "object_position": null,
            "order": null,
            "overflow": null,
            "overflow_x": null,
            "overflow_y": null,
            "padding": null,
            "right": null,
            "top": null,
            "visibility": null,
            "width": null
          }
        },
        "c4c892b383df4c0ebcff529327678475": {
          "model_module": "@jupyter-widgets/controls",
          "model_module_version": "1.5.0",
          "model_name": "DescriptionStyleModel",
          "state": {
            "_model_module": "@jupyter-widgets/controls",
            "_model_module_version": "1.5.0",
            "_model_name": "DescriptionStyleModel",
            "_view_count": null,
            "_view_module": "@jupyter-widgets/base",
            "_view_module_version": "1.2.0",
            "_view_name": "StyleView",
            "description_width": ""
          }
        },
        "dd67fcaa562841988259b505dbd74e8b": {
          "model_module": "@jupyter-widgets/controls",
          "model_module_version": "1.5.0",
          "model_name": "DescriptionStyleModel",
          "state": {
            "_model_module": "@jupyter-widgets/controls",
            "_model_module_version": "1.5.0",
            "_model_name": "DescriptionStyleModel",
            "_view_count": null,
            "_view_module": "@jupyter-widgets/base",
            "_view_module_version": "1.2.0",
            "_view_name": "StyleView",
            "description_width": ""
          }
        },
        "e6cd3828e1544670819e1b6b7eba77eb": {
          "model_module": "@jupyter-widgets/controls",
          "model_module_version": "1.5.0",
          "model_name": "FloatProgressModel",
          "state": {
            "_dom_classes": [],
            "_model_module": "@jupyter-widgets/controls",
            "_model_module_version": "1.5.0",
            "_model_name": "FloatProgressModel",
            "_view_count": null,
            "_view_module": "@jupyter-widgets/controls",
            "_view_module_version": "1.5.0",
            "_view_name": "ProgressView",
            "bar_style": "success",
            "description": "",
            "description_tooltip": null,
            "layout": "IPY_MODEL_a3c95eeafb7c4e39832b5673a959f8a8",
            "max": 52452,
            "min": 0,
            "orientation": "horizontal",
            "style": "IPY_MODEL_27f261d49a654de0bdd73b66c59259b3",
            "value": 52452
          }
        },
        "ede79b97eb3a40a6a79470e9da1ff5a3": {
          "model_module": "@jupyter-widgets/base",
          "model_module_version": "1.2.0",
          "model_name": "LayoutModel",
          "state": {
            "_model_module": "@jupyter-widgets/base",
            "_model_module_version": "1.2.0",
            "_model_name": "LayoutModel",
            "_view_count": null,
            "_view_module": "@jupyter-widgets/base",
            "_view_module_version": "1.2.0",
            "_view_name": "LayoutView",
            "align_content": null,
            "align_items": null,
            "align_self": null,
            "border": null,
            "bottom": null,
            "display": null,
            "flex": null,
            "flex_flow": null,
            "grid_area": null,
            "grid_auto_columns": null,
            "grid_auto_flow": null,
            "grid_auto_rows": null,
            "grid_column": null,
            "grid_gap": null,
            "grid_row": null,
            "grid_template_areas": null,
            "grid_template_columns": null,
            "grid_template_rows": null,
            "height": null,
            "justify_content": null,
            "justify_items": null,
            "left": null,
            "margin": null,
            "max_height": null,
            "max_width": null,
            "min_height": null,
            "min_width": null,
            "object_fit": null,
            "object_position": null,
            "order": null,
            "overflow": null,
            "overflow_x": null,
            "overflow_y": null,
            "padding": null,
            "right": null,
            "top": null,
            "visibility": null,
            "width": null
          }
        },
        "f5a6c08f35954361bbf0e97207e3482c": {
          "model_module": "@jupyter-widgets/controls",
          "model_module_version": "1.5.0",
          "model_name": "HTMLModel",
          "state": {
            "_dom_classes": [],
            "_model_module": "@jupyter-widgets/controls",
            "_model_module_version": "1.5.0",
            "_model_name": "HTMLModel",
            "_view_count": null,
            "_view_module": "@jupyter-widgets/controls",
            "_view_module_version": "1.5.0",
            "_view_name": "HTMLView",
            "description": "",
            "description_tooltip": null,
            "layout": "IPY_MODEL_ede79b97eb3a40a6a79470e9da1ff5a3",
            "placeholder": "​",
            "style": "IPY_MODEL_dd67fcaa562841988259b505dbd74e8b",
            "value": "Downloading https://raw.githubusercontent.com/stanfordnlp/stanza-resources/main/resources_1.10.0.json: "
          }
        },
        "fcaa707fb13a439ab437abe24687f89d": {
          "model_module": "@jupyter-widgets/controls",
          "model_module_version": "1.5.0",
          "model_name": "HTMLModel",
          "state": {
            "_dom_classes": [],
            "_model_module": "@jupyter-widgets/controls",
            "_model_module_version": "1.5.0",
            "_model_name": "HTMLModel",
            "_view_count": null,
            "_view_module": "@jupyter-widgets/controls",
            "_view_module_version": "1.5.0",
            "_view_name": "HTMLView",
            "description": "",
            "description_tooltip": null,
            "layout": "IPY_MODEL_945a8449a4c0419bb90666b769667853",
            "placeholder": "​",
            "style": "IPY_MODEL_77d1dbf0ad6f45748165c36c690fa1be",
            "value": " 424k/? [00:00&lt;00:00, 22.1MB/s]"
          }
        }
      }
    }
  },
  "nbformat": 4,
  "nbformat_minor": 0
}
